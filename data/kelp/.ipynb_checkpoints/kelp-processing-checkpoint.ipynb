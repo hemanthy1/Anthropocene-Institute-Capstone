{
 "cells": [
  {
   "cell_type": "code",
   "execution_count": 3,
   "id": "initial_id",
   "metadata": {
    "ExecuteTime": {
     "end_time": "2023-11-07T21:14:22.124651Z",
     "start_time": "2023-11-07T21:14:22.117556Z"
    }
   },
   "outputs": [],
   "source": [
    "import pandas as pd\n",
    "import numpy as np"
   ]
  },
  {
   "cell_type": "code",
   "execution_count": 4,
   "id": "c29ac55bc3468886",
   "metadata": {
    "ExecuteTime": {
     "end_time": "2023-11-07T21:14:22.551970Z",
     "start_time": "2023-11-07T21:14:22.522280Z"
    }
   },
   "outputs": [
    {
     "data": {
      "text/html": [
       "<div>\n",
       "<style scoped>\n",
       "    .dataframe tbody tr th:only-of-type {\n",
       "        vertical-align: middle;\n",
       "    }\n",
       "\n",
       "    .dataframe tbody tr th {\n",
       "        vertical-align: top;\n",
       "    }\n",
       "\n",
       "    .dataframe thead th {\n",
       "        text-align: right;\n",
       "    }\n",
       "</style>\n",
       "<table border=\"1\" class=\"dataframe\">\n",
       "  <thead>\n",
       "    <tr style=\"text-align: right;\">\n",
       "      <th></th>\n",
       "      <th>latitude</th>\n",
       "      <th>longitude</th>\n",
       "      <th>ocean depth (m)</th>\n",
       "      <th>depth of sample (m)</th>\n",
       "      <th>temperature of ocean (C)</th>\n",
       "      <th>dissolved oxygen (Âµmol kg-1)</th>\n",
       "      <th>apparent oxygen utilization (Âµmol kg-1)</th>\n",
       "      <th>temperature of pH measurement (C)</th>\n",
       "      <th>pH</th>\n",
       "    </tr>\n",
       "  </thead>\n",
       "  <tbody>\n",
       "    <tr>\n",
       "      <th>0</th>\n",
       "      <td>56.509</td>\n",
       "      <td>-170.8147</td>\n",
       "      <td>122</td>\n",
       "      <td>113.9</td>\n",
       "      <td>2.199</td>\n",
       "      <td>316.01</td>\n",
       "      <td>2</td>\n",
       "      <td>-999</td>\n",
       "      <td>7.9743</td>\n",
       "    </tr>\n",
       "    <tr>\n",
       "      <th>1</th>\n",
       "      <td>56.509</td>\n",
       "      <td>-170.8147</td>\n",
       "      <td>122</td>\n",
       "      <td>100.1</td>\n",
       "      <td>2.098</td>\n",
       "      <td>319.32</td>\n",
       "      <td>2</td>\n",
       "      <td>-999</td>\n",
       "      <td>7.9977</td>\n",
       "    </tr>\n",
       "    <tr>\n",
       "      <th>2</th>\n",
       "      <td>56.509</td>\n",
       "      <td>-170.8147</td>\n",
       "      <td>122</td>\n",
       "      <td>59.4</td>\n",
       "      <td>1.637</td>\n",
       "      <td>334.65</td>\n",
       "      <td>2</td>\n",
       "      <td>-999</td>\n",
       "      <td>8.0398</td>\n",
       "    </tr>\n",
       "    <tr>\n",
       "      <th>3</th>\n",
       "      <td>56.509</td>\n",
       "      <td>-170.8147</td>\n",
       "      <td>122</td>\n",
       "      <td>41.6</td>\n",
       "      <td>0.763</td>\n",
       "      <td>342.38</td>\n",
       "      <td>2</td>\n",
       "      <td>-999</td>\n",
       "      <td>8.0659</td>\n",
       "    </tr>\n",
       "    <tr>\n",
       "      <th>4</th>\n",
       "      <td>56.509</td>\n",
       "      <td>-170.8147</td>\n",
       "      <td>122</td>\n",
       "      <td>30.7</td>\n",
       "      <td>-0.318</td>\n",
       "      <td>359.24</td>\n",
       "      <td>2</td>\n",
       "      <td>-999</td>\n",
       "      <td>8.0661</td>\n",
       "    </tr>\n",
       "  </tbody>\n",
       "</table>\n",
       "</div>"
      ],
      "text/plain": [
       "   latitude  longitude  ocean depth (m)  depth of sample (m)  \\\n",
       "0    56.509  -170.8147              122                113.9   \n",
       "1    56.509  -170.8147              122                100.1   \n",
       "2    56.509  -170.8147              122                 59.4   \n",
       "3    56.509  -170.8147              122                 41.6   \n",
       "4    56.509  -170.8147              122                 30.7   \n",
       "\n",
       "   temperature of ocean (C)  dissolved oxygen (Âµmol kg-1)  \\\n",
       "0                     2.199                         316.01   \n",
       "1                     2.098                         319.32   \n",
       "2                     1.637                         334.65   \n",
       "3                     0.763                         342.38   \n",
       "4                    -0.318                         359.24   \n",
       "\n",
       "   apparent oxygen utilization (Âµmol kg-1)  \\\n",
       "0                                         2   \n",
       "1                                         2   \n",
       "2                                         2   \n",
       "3                                         2   \n",
       "4                                         2   \n",
       "\n",
       "   temperature of pH measurement (C)      pH  \n",
       "0                               -999  7.9743  \n",
       "1                               -999  7.9977  \n",
       "2                               -999  8.0398  \n",
       "3                               -999  8.0659  \n",
       "4                               -999  8.0661  "
      ]
     },
     "execution_count": 4,
     "metadata": {},
     "output_type": "execute_result"
    }
   ],
   "source": [
    "#initial data loading, encoding is latin1 (not utf-8 as usual)\n",
    "init_kelp = pd.read_csv('kelpfarmsdata.csv',encoding='latin1')\n",
    "init_kelp.head()"
   ]
  },
  {
   "cell_type": "code",
   "execution_count": 5,
   "id": "59f0c9fbbb530a1f",
   "metadata": {
    "ExecuteTime": {
     "end_time": "2023-11-07T21:14:23.398515Z",
     "start_time": "2023-11-07T21:14:23.394702Z"
    }
   },
   "outputs": [
    {
     "data": {
      "text/plain": [
       "Index(['latitude', 'longitude', 'ocean depth (m)', 'depth of sample (m)',\n",
       "       'temperature of ocean (C)', 'dissolved oxygen (Âµmol kg-1)',\n",
       "       'apparent oxygen utilization (Âµmol kg-1)',\n",
       "       'temperature of pH measurement (C)', 'pH'],\n",
       "      dtype='object')"
      ]
     },
     "execution_count": 5,
     "metadata": {},
     "output_type": "execute_result"
    }
   ],
   "source": [
    "init_kelp.columns\n"
   ]
  },
  {
   "cell_type": "code",
   "execution_count": 6,
   "id": "bb24ca1c2ab67703",
   "metadata": {
    "ExecuteTime": {
     "end_time": "2023-11-07T21:15:32.017943Z",
     "start_time": "2023-11-07T21:15:32.006261Z"
    }
   },
   "outputs": [
    {
     "data": {
      "text/html": [
       "<div>\n",
       "<style scoped>\n",
       "    .dataframe tbody tr th:only-of-type {\n",
       "        vertical-align: middle;\n",
       "    }\n",
       "\n",
       "    .dataframe tbody tr th {\n",
       "        vertical-align: top;\n",
       "    }\n",
       "\n",
       "    .dataframe thead th {\n",
       "        text-align: right;\n",
       "    }\n",
       "</style>\n",
       "<table border=\"1\" class=\"dataframe\">\n",
       "  <thead>\n",
       "    <tr style=\"text-align: right;\">\n",
       "      <th></th>\n",
       "      <th>latitude</th>\n",
       "      <th>longitude</th>\n",
       "      <th>ocean depth (m)</th>\n",
       "      <th>temperature of ocean (C)</th>\n",
       "      <th>pH</th>\n",
       "    </tr>\n",
       "  </thead>\n",
       "  <tbody>\n",
       "    <tr>\n",
       "      <th>0</th>\n",
       "      <td>56.509</td>\n",
       "      <td>-170.8147</td>\n",
       "      <td>122</td>\n",
       "      <td>2.199</td>\n",
       "      <td>7.9743</td>\n",
       "    </tr>\n",
       "    <tr>\n",
       "      <th>1</th>\n",
       "      <td>56.509</td>\n",
       "      <td>-170.8147</td>\n",
       "      <td>122</td>\n",
       "      <td>2.098</td>\n",
       "      <td>7.9977</td>\n",
       "    </tr>\n",
       "    <tr>\n",
       "      <th>2</th>\n",
       "      <td>56.509</td>\n",
       "      <td>-170.8147</td>\n",
       "      <td>122</td>\n",
       "      <td>1.637</td>\n",
       "      <td>8.0398</td>\n",
       "    </tr>\n",
       "    <tr>\n",
       "      <th>3</th>\n",
       "      <td>56.509</td>\n",
       "      <td>-170.8147</td>\n",
       "      <td>122</td>\n",
       "      <td>0.763</td>\n",
       "      <td>8.0659</td>\n",
       "    </tr>\n",
       "    <tr>\n",
       "      <th>4</th>\n",
       "      <td>56.509</td>\n",
       "      <td>-170.8147</td>\n",
       "      <td>122</td>\n",
       "      <td>-0.318</td>\n",
       "      <td>8.0661</td>\n",
       "    </tr>\n",
       "  </tbody>\n",
       "</table>\n",
       "</div>"
      ],
      "text/plain": [
       "   latitude  longitude  ocean depth (m)  temperature of ocean (C)      pH\n",
       "0    56.509  -170.8147              122                     2.199  7.9743\n",
       "1    56.509  -170.8147              122                     2.098  7.9977\n",
       "2    56.509  -170.8147              122                     1.637  8.0398\n",
       "3    56.509  -170.8147              122                     0.763  8.0659\n",
       "4    56.509  -170.8147              122                    -0.318  8.0661"
      ]
     },
     "execution_count": 6,
     "metadata": {},
     "output_type": "execute_result"
    }
   ],
   "source": [
    "#drops unnecessary columns\n",
    "dropped = init_kelp.drop(['temperature of pH measurement (C)','depth of sample (m)','dissolved oxygen (Âµmol kg-1)','apparent oxygen utilization (Âµmol kg-1)'],axis =1)\n",
    "dropped.head()"
   ]
  },
  {
   "cell_type": "code",
   "execution_count": 7,
   "id": "b34836079ef8cc11",
   "metadata": {
    "ExecuteTime": {
     "end_time": "2023-11-07T21:15:37.047055Z",
     "start_time": "2023-11-07T21:15:37.039808Z"
    }
   },
   "outputs": [
    {
     "data": {
      "text/plain": [
       "28206"
      ]
     },
     "execution_count": 7,
     "metadata": {},
     "output_type": "execute_result"
    }
   ],
   "source": [
    "dropped.shape[0]"
   ]
  },
  {
   "cell_type": "code",
   "execution_count": 38,
   "id": "695953b98051ffcd",
   "metadata": {
    "ExecuteTime": {
     "end_time": "2023-11-07T21:15:40.061397Z",
     "start_time": "2023-11-07T21:15:40.054364Z"
    }
   },
   "outputs": [
    {
     "name": "stdout",
     "output_type": "stream",
     "text": [
      "15240\n"
     ]
    }
   ],
   "source": [
    "#values with '-999' mean there are no values, we calculate how many there are to see what to do with them\n",
    "mask = (dropped == -999).any(axis=1)\n",
    "neg_999 = dropped[mask]\n",
    "n = neg_999.shape[0]\n",
    "print(n)"
   ]
  },
  {
   "cell_type": "code",
   "execution_count": 39,
   "id": "384ea5c5c5bcb31a",
   "metadata": {
    "ExecuteTime": {
     "end_time": "2023-11-07T21:15:50.280947Z",
     "start_time": "2023-11-07T21:15:50.273871Z"
    }
   },
   "outputs": [],
   "source": [
    "#replace them with NAN values that are easier to fix\n",
    "dropped.replace(-999, np.nan, inplace=True)"
   ]
  },
  {
   "cell_type": "code",
   "execution_count": 40,
   "id": "d6963d4688bc2bac",
   "metadata": {
    "ExecuteTime": {
     "end_time": "2023-11-07T21:16:04.728328Z",
     "start_time": "2023-11-07T21:15:52.940649Z"
    }
   },
   "outputs": [],
   "source": [
    "#uses knn imputer from sklearn to impute the data based on 5 nearest values. \n",
    "from sklearn.impute import KNNImputer\n",
    "\n",
    "imputer = KNNImputer(n_neighbors=5)\n",
    "imputed_data = imputer.fit_transform(dropped)\n",
    "imputed_df = pd.DataFrame(imputed_data, columns=dropped.columns)\n"
   ]
  },
  {
   "cell_type": "code",
   "execution_count": 41,
   "id": "28d90c4451d160bd",
   "metadata": {
    "ExecuteTime": {
     "end_time": "2023-11-07T21:16:38.186620Z",
     "start_time": "2023-11-07T21:16:38.180358Z"
    }
   },
   "outputs": [
    {
     "name": "stdout",
     "output_type": "stream",
     "text": [
      "0\n"
     ]
    }
   ],
   "source": [
    "#checks again to see if there are any -999 values remaining\n",
    "mask = (imputed_df == -999).any(axis=1)\n",
    "neg_999 = imputed_df[mask]\n",
    "n = neg_999.shape[0]\n",
    "print(n)"
   ]
  },
  {
   "cell_type": "code",
   "execution_count": 42,
   "id": "6439f54bf5b81b3b",
   "metadata": {
    "ExecuteTime": {
     "end_time": "2023-11-07T21:16:48.604695Z",
     "start_time": "2023-11-07T21:16:48.594871Z"
    }
   },
   "outputs": [],
   "source": [
    "#renames columns\n",
    "new_column_names = {\n",
    "    'ocean depth (m)': 'Depth',\n",
    "    'temperature of ocean (C)' : 'Temperature',\n",
    "}\n",
    " \n",
    "imputed_df.rename(columns=new_column_names, inplace=True)\n"
   ]
  },
  {
   "cell_type": "code",
   "execution_count": 43,
   "id": "9e21d3aaf2ded0ff",
   "metadata": {
    "ExecuteTime": {
     "end_time": "2023-11-07T21:16:50.079720Z",
     "start_time": "2023-11-07T21:16:50.075258Z"
    }
   },
   "outputs": [
    {
     "data": {
      "text/html": [
       "<div>\n",
       "<style scoped>\n",
       "    .dataframe tbody tr th:only-of-type {\n",
       "        vertical-align: middle;\n",
       "    }\n",
       "\n",
       "    .dataframe tbody tr th {\n",
       "        vertical-align: top;\n",
       "    }\n",
       "\n",
       "    .dataframe thead th {\n",
       "        text-align: right;\n",
       "    }\n",
       "</style>\n",
       "<table border=\"1\" class=\"dataframe\">\n",
       "  <thead>\n",
       "    <tr style=\"text-align: right;\">\n",
       "      <th></th>\n",
       "      <th>latitude</th>\n",
       "      <th>longitude</th>\n",
       "      <th>Depth</th>\n",
       "      <th>Temperature</th>\n",
       "      <th>pH</th>\n",
       "    </tr>\n",
       "  </thead>\n",
       "  <tbody>\n",
       "    <tr>\n",
       "      <th>0</th>\n",
       "      <td>56.509</td>\n",
       "      <td>-170.8147</td>\n",
       "      <td>122.0</td>\n",
       "      <td>2.199</td>\n",
       "      <td>7.9743</td>\n",
       "    </tr>\n",
       "    <tr>\n",
       "      <th>1</th>\n",
       "      <td>56.509</td>\n",
       "      <td>-170.8147</td>\n",
       "      <td>122.0</td>\n",
       "      <td>2.098</td>\n",
       "      <td>7.9977</td>\n",
       "    </tr>\n",
       "    <tr>\n",
       "      <th>2</th>\n",
       "      <td>56.509</td>\n",
       "      <td>-170.8147</td>\n",
       "      <td>122.0</td>\n",
       "      <td>1.637</td>\n",
       "      <td>8.0398</td>\n",
       "    </tr>\n",
       "    <tr>\n",
       "      <th>3</th>\n",
       "      <td>56.509</td>\n",
       "      <td>-170.8147</td>\n",
       "      <td>122.0</td>\n",
       "      <td>0.763</td>\n",
       "      <td>8.0659</td>\n",
       "    </tr>\n",
       "    <tr>\n",
       "      <th>4</th>\n",
       "      <td>56.509</td>\n",
       "      <td>-170.8147</td>\n",
       "      <td>122.0</td>\n",
       "      <td>-0.318</td>\n",
       "      <td>8.0661</td>\n",
       "    </tr>\n",
       "  </tbody>\n",
       "</table>\n",
       "</div>"
      ],
      "text/plain": [
       "   latitude  longitude  Depth  Temperature      pH\n",
       "0    56.509  -170.8147  122.0        2.199  7.9743\n",
       "1    56.509  -170.8147  122.0        2.098  7.9977\n",
       "2    56.509  -170.8147  122.0        1.637  8.0398\n",
       "3    56.509  -170.8147  122.0        0.763  8.0659\n",
       "4    56.509  -170.8147  122.0       -0.318  8.0661"
      ]
     },
     "execution_count": 43,
     "metadata": {},
     "output_type": "execute_result"
    }
   ],
   "source": [
    "imputed_df.head()"
   ]
  },
  {
   "cell_type": "code",
   "execution_count": 44,
   "id": "ff12b14eb456ce07",
   "metadata": {
    "ExecuteTime": {
     "end_time": "2023-11-07T21:16:53.949640Z",
     "start_time": "2023-11-07T21:16:53.867293Z"
    }
   },
   "outputs": [],
   "source": [
    "#final df\n",
    "imputed_df.to_csv('kelp.csv', encoding='utf-8', index=False)"
   ]
  },
  {
   "cell_type": "code",
   "execution_count": null,
   "id": "ebb4b0f0aef2c3b4",
   "metadata": {},
   "outputs": [],
   "source": []
  }
 ],
 "metadata": {
  "kernelspec": {
   "display_name": "Python 3 (ipykernel)",
   "language": "python",
   "name": "python3"
  },
  "language_info": {
   "codemirror_mode": {
    "name": "ipython",
    "version": 3
   },
   "file_extension": ".py",
   "mimetype": "text/x-python",
   "name": "python",
   "nbconvert_exporter": "python",
   "pygments_lexer": "ipython3",
   "version": "3.11.5"
  }
 },
 "nbformat": 4,
 "nbformat_minor": 5
}
