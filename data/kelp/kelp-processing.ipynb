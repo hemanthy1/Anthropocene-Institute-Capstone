{
 "cells": [
  {
   "cell_type": "code",
   "execution_count": 32,
   "id": "initial_id",
   "metadata": {
    "collapsed": true,
    "ExecuteTime": {
     "end_time": "2023-11-07T21:14:22.124651Z",
     "start_time": "2023-11-07T21:14:22.117556Z"
    }
   },
   "outputs": [],
   "source": [
    "import pandas as pd\n",
    "import numpy as np"
   ]
  },
  {
   "cell_type": "code",
   "execution_count": 33,
   "outputs": [
    {
     "data": {
      "text/plain": "   latitude  longitude  ocean depth (m)  depth of sample (m)  \\\n0    56.509  -170.8147              122                113.9   \n1    56.509  -170.8147              122                100.1   \n2    56.509  -170.8147              122                 59.4   \n3    56.509  -170.8147              122                 41.6   \n4    56.509  -170.8147              122                 30.7   \n\n   temperature of ocean (C)  dissolved oxygen (Âµmol kg-1)  \\\n0                     2.199                         316.01   \n1                     2.098                         319.32   \n2                     1.637                         334.65   \n3                     0.763                         342.38   \n4                    -0.318                         359.24   \n\n   apparent oxygen utilization (Âµmol kg-1)  \\\n0                                         2   \n1                                         2   \n2                                         2   \n3                                         2   \n4                                         2   \n\n   temperature of pH measurement (C)      pH  \n0                               -999  7.9743  \n1                               -999  7.9977  \n2                               -999  8.0398  \n3                               -999  8.0659  \n4                               -999  8.0661  ",
      "text/html": "<div>\n<style scoped>\n    .dataframe tbody tr th:only-of-type {\n        vertical-align: middle;\n    }\n\n    .dataframe tbody tr th {\n        vertical-align: top;\n    }\n\n    .dataframe thead th {\n        text-align: right;\n    }\n</style>\n<table border=\"1\" class=\"dataframe\">\n  <thead>\n    <tr style=\"text-align: right;\">\n      <th></th>\n      <th>latitude</th>\n      <th>longitude</th>\n      <th>ocean depth (m)</th>\n      <th>depth of sample (m)</th>\n      <th>temperature of ocean (C)</th>\n      <th>dissolved oxygen (Âµmol kg-1)</th>\n      <th>apparent oxygen utilization (Âµmol kg-1)</th>\n      <th>temperature of pH measurement (C)</th>\n      <th>pH</th>\n    </tr>\n  </thead>\n  <tbody>\n    <tr>\n      <th>0</th>\n      <td>56.509</td>\n      <td>-170.8147</td>\n      <td>122</td>\n      <td>113.9</td>\n      <td>2.199</td>\n      <td>316.01</td>\n      <td>2</td>\n      <td>-999</td>\n      <td>7.9743</td>\n    </tr>\n    <tr>\n      <th>1</th>\n      <td>56.509</td>\n      <td>-170.8147</td>\n      <td>122</td>\n      <td>100.1</td>\n      <td>2.098</td>\n      <td>319.32</td>\n      <td>2</td>\n      <td>-999</td>\n      <td>7.9977</td>\n    </tr>\n    <tr>\n      <th>2</th>\n      <td>56.509</td>\n      <td>-170.8147</td>\n      <td>122</td>\n      <td>59.4</td>\n      <td>1.637</td>\n      <td>334.65</td>\n      <td>2</td>\n      <td>-999</td>\n      <td>8.0398</td>\n    </tr>\n    <tr>\n      <th>3</th>\n      <td>56.509</td>\n      <td>-170.8147</td>\n      <td>122</td>\n      <td>41.6</td>\n      <td>0.763</td>\n      <td>342.38</td>\n      <td>2</td>\n      <td>-999</td>\n      <td>8.0659</td>\n    </tr>\n    <tr>\n      <th>4</th>\n      <td>56.509</td>\n      <td>-170.8147</td>\n      <td>122</td>\n      <td>30.7</td>\n      <td>-0.318</td>\n      <td>359.24</td>\n      <td>2</td>\n      <td>-999</td>\n      <td>8.0661</td>\n    </tr>\n  </tbody>\n</table>\n</div>"
     },
     "execution_count": 33,
     "metadata": {},
     "output_type": "execute_result"
    }
   ],
   "source": [
    "init_kelp = pd.read_csv('kelpfarmsdata.csv',encoding='latin1')\n",
    "init_kelp.head()"
   ],
   "metadata": {
    "collapsed": false,
    "ExecuteTime": {
     "end_time": "2023-11-07T21:14:22.551970Z",
     "start_time": "2023-11-07T21:14:22.522280Z"
    }
   },
   "id": "c29ac55bc3468886"
  },
  {
   "cell_type": "code",
   "execution_count": 34,
   "outputs": [
    {
     "data": {
      "text/plain": "Index(['latitude', 'longitude', 'ocean depth (m)', 'depth of sample (m)',\n       'temperature of ocean (C)', 'dissolved oxygen (Âµmol kg-1)',\n       'apparent oxygen utilization (Âµmol kg-1)',\n       'temperature of pH measurement (C)', 'pH'],\n      dtype='object')"
     },
     "execution_count": 34,
     "metadata": {},
     "output_type": "execute_result"
    }
   ],
   "source": [
    "init_kelp.columns\n"
   ],
   "metadata": {
    "collapsed": false,
    "ExecuteTime": {
     "end_time": "2023-11-07T21:14:23.398515Z",
     "start_time": "2023-11-07T21:14:23.394702Z"
    }
   },
   "id": "59f0c9fbbb530a1f"
  },
  {
   "cell_type": "code",
   "execution_count": 36,
   "outputs": [
    {
     "data": {
      "text/plain": "   latitude  longitude  ocean depth (m)  temperature of ocean (C)      pH\n0    56.509  -170.8147              122                     2.199  7.9743\n1    56.509  -170.8147              122                     2.098  7.9977\n2    56.509  -170.8147              122                     1.637  8.0398\n3    56.509  -170.8147              122                     0.763  8.0659\n4    56.509  -170.8147              122                    -0.318  8.0661",
      "text/html": "<div>\n<style scoped>\n    .dataframe tbody tr th:only-of-type {\n        vertical-align: middle;\n    }\n\n    .dataframe tbody tr th {\n        vertical-align: top;\n    }\n\n    .dataframe thead th {\n        text-align: right;\n    }\n</style>\n<table border=\"1\" class=\"dataframe\">\n  <thead>\n    <tr style=\"text-align: right;\">\n      <th></th>\n      <th>latitude</th>\n      <th>longitude</th>\n      <th>ocean depth (m)</th>\n      <th>temperature of ocean (C)</th>\n      <th>pH</th>\n    </tr>\n  </thead>\n  <tbody>\n    <tr>\n      <th>0</th>\n      <td>56.509</td>\n      <td>-170.8147</td>\n      <td>122</td>\n      <td>2.199</td>\n      <td>7.9743</td>\n    </tr>\n    <tr>\n      <th>1</th>\n      <td>56.509</td>\n      <td>-170.8147</td>\n      <td>122</td>\n      <td>2.098</td>\n      <td>7.9977</td>\n    </tr>\n    <tr>\n      <th>2</th>\n      <td>56.509</td>\n      <td>-170.8147</td>\n      <td>122</td>\n      <td>1.637</td>\n      <td>8.0398</td>\n    </tr>\n    <tr>\n      <th>3</th>\n      <td>56.509</td>\n      <td>-170.8147</td>\n      <td>122</td>\n      <td>0.763</td>\n      <td>8.0659</td>\n    </tr>\n    <tr>\n      <th>4</th>\n      <td>56.509</td>\n      <td>-170.8147</td>\n      <td>122</td>\n      <td>-0.318</td>\n      <td>8.0661</td>\n    </tr>\n  </tbody>\n</table>\n</div>"
     },
     "execution_count": 36,
     "metadata": {},
     "output_type": "execute_result"
    }
   ],
   "source": [
    "dropped = init_kelp.drop(['temperature of pH measurement (C)','depth of sample (m)','dissolved oxygen (Âµmol kg-1)','apparent oxygen utilization (Âµmol kg-1)'],axis =1)\n",
    "dropped.head()"
   ],
   "metadata": {
    "collapsed": false,
    "ExecuteTime": {
     "end_time": "2023-11-07T21:15:32.017943Z",
     "start_time": "2023-11-07T21:15:32.006261Z"
    }
   },
   "id": "bb24ca1c2ab67703"
  },
  {
   "cell_type": "code",
   "execution_count": 37,
   "outputs": [
    {
     "data": {
      "text/plain": "28206"
     },
     "execution_count": 37,
     "metadata": {},
     "output_type": "execute_result"
    }
   ],
   "source": [
    "dropped.shape[0]"
   ],
   "metadata": {
    "collapsed": false,
    "ExecuteTime": {
     "end_time": "2023-11-07T21:15:37.047055Z",
     "start_time": "2023-11-07T21:15:37.039808Z"
    }
   },
   "id": "b34836079ef8cc11"
  },
  {
   "cell_type": "code",
   "execution_count": 38,
   "outputs": [
    {
     "name": "stdout",
     "output_type": "stream",
     "text": [
      "15240\n"
     ]
    }
   ],
   "source": [
    "mask = (dropped == -999).any(axis=1)\n",
    "neg_999 = dropped[mask]\n",
    "n = neg_999.shape[0]\n",
    "print(n)"
   ],
   "metadata": {
    "collapsed": false,
    "ExecuteTime": {
     "end_time": "2023-11-07T21:15:40.061397Z",
     "start_time": "2023-11-07T21:15:40.054364Z"
    }
   },
   "id": "695953b98051ffcd"
  },
  {
   "cell_type": "code",
   "execution_count": 39,
   "outputs": [],
   "source": [
    "dropped.replace(-999, np.nan, inplace=True)"
   ],
   "metadata": {
    "collapsed": false,
    "ExecuteTime": {
     "end_time": "2023-11-07T21:15:50.280947Z",
     "start_time": "2023-11-07T21:15:50.273871Z"
    }
   },
   "id": "384ea5c5c5bcb31a"
  },
  {
   "cell_type": "code",
   "execution_count": 40,
   "outputs": [],
   "source": [
    "from sklearn.impute import KNNImputer\n",
    "\n",
    "imputer = KNNImputer(n_neighbors=5)\n",
    "imputed_data = imputer.fit_transform(dropped)\n",
    "imputed_df = pd.DataFrame(imputed_data, columns=dropped.columns)\n"
   ],
   "metadata": {
    "collapsed": false,
    "ExecuteTime": {
     "end_time": "2023-11-07T21:16:04.728328Z",
     "start_time": "2023-11-07T21:15:52.940649Z"
    }
   },
   "id": "d6963d4688bc2bac"
  },
  {
   "cell_type": "code",
   "execution_count": 41,
   "outputs": [
    {
     "name": "stdout",
     "output_type": "stream",
     "text": [
      "0\n"
     ]
    }
   ],
   "source": [
    "mask = (imputed_df == -999).any(axis=1)\n",
    "neg_999 = imputed_df[mask]\n",
    "n = neg_999.shape[0]\n",
    "print(n)"
   ],
   "metadata": {
    "collapsed": false,
    "ExecuteTime": {
     "end_time": "2023-11-07T21:16:38.186620Z",
     "start_time": "2023-11-07T21:16:38.180358Z"
    }
   },
   "id": "28d90c4451d160bd"
  },
  {
   "cell_type": "code",
   "execution_count": 42,
   "outputs": [],
   "source": [
    "new_column_names = {\n",
    "    'ocean depth (m)': 'Depth',\n",
    "    'temperature of ocean (C)' : 'Temperature',\n",
    "}\n",
    " \n",
    "# Rename the columns\n",
    "imputed_df.rename(columns=new_column_names, inplace=True)\n"
   ],
   "metadata": {
    "collapsed": false,
    "ExecuteTime": {
     "end_time": "2023-11-07T21:16:48.604695Z",
     "start_time": "2023-11-07T21:16:48.594871Z"
    }
   },
   "id": "6439f54bf5b81b3b"
  },
  {
   "cell_type": "code",
   "execution_count": 43,
   "outputs": [
    {
     "data": {
      "text/plain": "   latitude  longitude  Depth  Temperature      pH\n0    56.509  -170.8147  122.0        2.199  7.9743\n1    56.509  -170.8147  122.0        2.098  7.9977\n2    56.509  -170.8147  122.0        1.637  8.0398\n3    56.509  -170.8147  122.0        0.763  8.0659\n4    56.509  -170.8147  122.0       -0.318  8.0661",
      "text/html": "<div>\n<style scoped>\n    .dataframe tbody tr th:only-of-type {\n        vertical-align: middle;\n    }\n\n    .dataframe tbody tr th {\n        vertical-align: top;\n    }\n\n    .dataframe thead th {\n        text-align: right;\n    }\n</style>\n<table border=\"1\" class=\"dataframe\">\n  <thead>\n    <tr style=\"text-align: right;\">\n      <th></th>\n      <th>latitude</th>\n      <th>longitude</th>\n      <th>Depth</th>\n      <th>Temperature</th>\n      <th>pH</th>\n    </tr>\n  </thead>\n  <tbody>\n    <tr>\n      <th>0</th>\n      <td>56.509</td>\n      <td>-170.8147</td>\n      <td>122.0</td>\n      <td>2.199</td>\n      <td>7.9743</td>\n    </tr>\n    <tr>\n      <th>1</th>\n      <td>56.509</td>\n      <td>-170.8147</td>\n      <td>122.0</td>\n      <td>2.098</td>\n      <td>7.9977</td>\n    </tr>\n    <tr>\n      <th>2</th>\n      <td>56.509</td>\n      <td>-170.8147</td>\n      <td>122.0</td>\n      <td>1.637</td>\n      <td>8.0398</td>\n    </tr>\n    <tr>\n      <th>3</th>\n      <td>56.509</td>\n      <td>-170.8147</td>\n      <td>122.0</td>\n      <td>0.763</td>\n      <td>8.0659</td>\n    </tr>\n    <tr>\n      <th>4</th>\n      <td>56.509</td>\n      <td>-170.8147</td>\n      <td>122.0</td>\n      <td>-0.318</td>\n      <td>8.0661</td>\n    </tr>\n  </tbody>\n</table>\n</div>"
     },
     "execution_count": 43,
     "metadata": {},
     "output_type": "execute_result"
    }
   ],
   "source": [
    "imputed_df.head()"
   ],
   "metadata": {
    "collapsed": false,
    "ExecuteTime": {
     "end_time": "2023-11-07T21:16:50.079720Z",
     "start_time": "2023-11-07T21:16:50.075258Z"
    }
   },
   "id": "9e21d3aaf2ded0ff"
  },
  {
   "cell_type": "code",
   "execution_count": 44,
   "outputs": [],
   "source": [
    "imputed_df.to_csv('kelp.csv', encoding='utf-8', index=False)"
   ],
   "metadata": {
    "collapsed": false,
    "ExecuteTime": {
     "end_time": "2023-11-07T21:16:53.949640Z",
     "start_time": "2023-11-07T21:16:53.867293Z"
    }
   },
   "id": "ff12b14eb456ce07"
  },
  {
   "cell_type": "code",
   "execution_count": null,
   "outputs": [],
   "source": [],
   "metadata": {
    "collapsed": false
   },
   "id": "ebb4b0f0aef2c3b4"
  }
 ],
 "metadata": {
  "kernelspec": {
   "display_name": "Python 3",
   "language": "python",
   "name": "python3"
  },
  "language_info": {
   "codemirror_mode": {
    "name": "ipython",
    "version": 2
   },
   "file_extension": ".py",
   "mimetype": "text/x-python",
   "name": "python",
   "nbconvert_exporter": "python",
   "pygments_lexer": "ipython2",
   "version": "2.7.6"
  }
 },
 "nbformat": 4,
 "nbformat_minor": 5
}
