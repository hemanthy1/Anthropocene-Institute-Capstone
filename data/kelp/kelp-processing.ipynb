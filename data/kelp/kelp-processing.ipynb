{
 "cells": [
  {
   "cell_type": "code",
   "execution_count": 16,
   "id": "initial_id",
   "metadata": {
    "collapsed": true,
    "ExecuteTime": {
     "end_time": "2023-11-07T18:41:23.794630Z",
     "start_time": "2023-11-07T18:41:23.790319Z"
    }
   },
   "outputs": [],
   "source": [
    "import pandas as pd\n",
    "import numpy as np"
   ]
  },
  {
   "cell_type": "code",
   "execution_count": 17,
   "outputs": [
    {
     "data": {
      "text/plain": "   latitude  longitude  ocean depth (m)  depth of sample (m)  \\\n0    56.509  -170.8147              122                113.9   \n1    56.509  -170.8147              122                100.1   \n2    56.509  -170.8147              122                 59.4   \n3    56.509  -170.8147              122                 41.6   \n4    56.509  -170.8147              122                 30.7   \n\n   temperature of ocean (C)  dissolved oxygen (µmol kg-1)  \\\n0                     2.199                        316.01   \n1                     2.098                        319.32   \n2                     1.637                        334.65   \n3                     0.763                        342.38   \n4                    -0.318                        359.24   \n\n   apparent oxygen utilization (µmol kg-1)  temperature of pH measurement (C)  \\\n0                                        2                               -999   \n1                                        2                               -999   \n2                                        2                               -999   \n3                                        2                               -999   \n4                                        2                               -999   \n\n       pH  \n0  7.9743  \n1  7.9977  \n2  8.0398  \n3  8.0659  \n4  8.0661  ",
      "text/html": "<div>\n<style scoped>\n    .dataframe tbody tr th:only-of-type {\n        vertical-align: middle;\n    }\n\n    .dataframe tbody tr th {\n        vertical-align: top;\n    }\n\n    .dataframe thead th {\n        text-align: right;\n    }\n</style>\n<table border=\"1\" class=\"dataframe\">\n  <thead>\n    <tr style=\"text-align: right;\">\n      <th></th>\n      <th>latitude</th>\n      <th>longitude</th>\n      <th>ocean depth (m)</th>\n      <th>depth of sample (m)</th>\n      <th>temperature of ocean (C)</th>\n      <th>dissolved oxygen (µmol kg-1)</th>\n      <th>apparent oxygen utilization (µmol kg-1)</th>\n      <th>temperature of pH measurement (C)</th>\n      <th>pH</th>\n    </tr>\n  </thead>\n  <tbody>\n    <tr>\n      <th>0</th>\n      <td>56.509</td>\n      <td>-170.8147</td>\n      <td>122</td>\n      <td>113.9</td>\n      <td>2.199</td>\n      <td>316.01</td>\n      <td>2</td>\n      <td>-999</td>\n      <td>7.9743</td>\n    </tr>\n    <tr>\n      <th>1</th>\n      <td>56.509</td>\n      <td>-170.8147</td>\n      <td>122</td>\n      <td>100.1</td>\n      <td>2.098</td>\n      <td>319.32</td>\n      <td>2</td>\n      <td>-999</td>\n      <td>7.9977</td>\n    </tr>\n    <tr>\n      <th>2</th>\n      <td>56.509</td>\n      <td>-170.8147</td>\n      <td>122</td>\n      <td>59.4</td>\n      <td>1.637</td>\n      <td>334.65</td>\n      <td>2</td>\n      <td>-999</td>\n      <td>8.0398</td>\n    </tr>\n    <tr>\n      <th>3</th>\n      <td>56.509</td>\n      <td>-170.8147</td>\n      <td>122</td>\n      <td>41.6</td>\n      <td>0.763</td>\n      <td>342.38</td>\n      <td>2</td>\n      <td>-999</td>\n      <td>8.0659</td>\n    </tr>\n    <tr>\n      <th>4</th>\n      <td>56.509</td>\n      <td>-170.8147</td>\n      <td>122</td>\n      <td>30.7</td>\n      <td>-0.318</td>\n      <td>359.24</td>\n      <td>2</td>\n      <td>-999</td>\n      <td>8.0661</td>\n    </tr>\n  </tbody>\n</table>\n</div>"
     },
     "execution_count": 17,
     "metadata": {},
     "output_type": "execute_result"
    }
   ],
   "source": [
    "init_kelp = pd.read_csv('kelpfarmsdata.csv',encoding='latin1')\n",
    "init_kelp.head()"
   ],
   "metadata": {
    "collapsed": false,
    "ExecuteTime": {
     "end_time": "2023-11-07T18:41:24.213049Z",
     "start_time": "2023-11-07T18:41:24.197519Z"
    }
   },
   "id": "c29ac55bc3468886"
  },
  {
   "cell_type": "code",
   "execution_count": 18,
   "outputs": [
    {
     "data": {
      "text/plain": "Index(['latitude', 'longitude', 'ocean depth (m)', 'depth of sample (m)',\n       'temperature of ocean (C)', 'dissolved oxygen (µmol kg-1)',\n       'apparent oxygen utilization (µmol kg-1)',\n       'temperature of pH measurement (C)', 'pH'],\n      dtype='object')"
     },
     "execution_count": 18,
     "metadata": {},
     "output_type": "execute_result"
    }
   ],
   "source": [
    "init_kelp.columns\n"
   ],
   "metadata": {
    "collapsed": false,
    "ExecuteTime": {
     "end_time": "2023-11-07T18:41:24.625512Z",
     "start_time": "2023-11-07T18:41:24.614633Z"
    }
   },
   "id": "59f0c9fbbb530a1f"
  },
  {
   "cell_type": "code",
   "execution_count": 19,
   "outputs": [
    {
     "data": {
      "text/plain": "   latitude  longitude  ocean depth (m)  temperature of ocean (C)  \\\n0    56.509  -170.8147              122                     2.199   \n1    56.509  -170.8147              122                     2.098   \n2    56.509  -170.8147              122                     1.637   \n3    56.509  -170.8147              122                     0.763   \n4    56.509  -170.8147              122                    -0.318   \n\n   dissolved oxygen (µmol kg-1)      pH  \n0                        316.01  7.9743  \n1                        319.32  7.9977  \n2                        334.65  8.0398  \n3                        342.38  8.0659  \n4                        359.24  8.0661  ",
      "text/html": "<div>\n<style scoped>\n    .dataframe tbody tr th:only-of-type {\n        vertical-align: middle;\n    }\n\n    .dataframe tbody tr th {\n        vertical-align: top;\n    }\n\n    .dataframe thead th {\n        text-align: right;\n    }\n</style>\n<table border=\"1\" class=\"dataframe\">\n  <thead>\n    <tr style=\"text-align: right;\">\n      <th></th>\n      <th>latitude</th>\n      <th>longitude</th>\n      <th>ocean depth (m)</th>\n      <th>temperature of ocean (C)</th>\n      <th>dissolved oxygen (µmol kg-1)</th>\n      <th>pH</th>\n    </tr>\n  </thead>\n  <tbody>\n    <tr>\n      <th>0</th>\n      <td>56.509</td>\n      <td>-170.8147</td>\n      <td>122</td>\n      <td>2.199</td>\n      <td>316.01</td>\n      <td>7.9743</td>\n    </tr>\n    <tr>\n      <th>1</th>\n      <td>56.509</td>\n      <td>-170.8147</td>\n      <td>122</td>\n      <td>2.098</td>\n      <td>319.32</td>\n      <td>7.9977</td>\n    </tr>\n    <tr>\n      <th>2</th>\n      <td>56.509</td>\n      <td>-170.8147</td>\n      <td>122</td>\n      <td>1.637</td>\n      <td>334.65</td>\n      <td>8.0398</td>\n    </tr>\n    <tr>\n      <th>3</th>\n      <td>56.509</td>\n      <td>-170.8147</td>\n      <td>122</td>\n      <td>0.763</td>\n      <td>342.38</td>\n      <td>8.0659</td>\n    </tr>\n    <tr>\n      <th>4</th>\n      <td>56.509</td>\n      <td>-170.8147</td>\n      <td>122</td>\n      <td>-0.318</td>\n      <td>359.24</td>\n      <td>8.0661</td>\n    </tr>\n  </tbody>\n</table>\n</div>"
     },
     "execution_count": 19,
     "metadata": {},
     "output_type": "execute_result"
    }
   ],
   "source": [
    "dropped = init_kelp.drop(['temperature of pH measurement (C)','depth of sample (m)','apparent oxygen utilization (µmol kg-1)'],axis =1)\n",
    "dropped.head()"
   ],
   "metadata": {
    "collapsed": false,
    "ExecuteTime": {
     "end_time": "2023-11-07T18:41:25.175103Z",
     "start_time": "2023-11-07T18:41:25.168547Z"
    }
   },
   "id": "bb24ca1c2ab67703"
  },
  {
   "cell_type": "code",
   "execution_count": 20,
   "outputs": [
    {
     "data": {
      "text/plain": "17716"
     },
     "execution_count": 20,
     "metadata": {},
     "output_type": "execute_result"
    }
   ],
   "source": [
    "dropped.shape[0]"
   ],
   "metadata": {
    "collapsed": false,
    "ExecuteTime": {
     "end_time": "2023-11-07T18:41:25.697427Z",
     "start_time": "2023-11-07T18:41:25.693954Z"
    }
   },
   "id": "b34836079ef8cc11"
  },
  {
   "cell_type": "code",
   "execution_count": 21,
   "outputs": [
    {
     "name": "stdout",
     "output_type": "stream",
     "text": [
      "5262\n"
     ]
    }
   ],
   "source": [
    "mask = (dropped == -999).any(axis=1)\n",
    "neg_999 = dropped[mask]\n",
    "n = neg_999.shape[0]\n",
    "print(n)"
   ],
   "metadata": {
    "collapsed": false,
    "ExecuteTime": {
     "end_time": "2023-11-07T18:41:26.384127Z",
     "start_time": "2023-11-07T18:41:26.381391Z"
    }
   },
   "id": "695953b98051ffcd"
  },
  {
   "cell_type": "code",
   "execution_count": 24,
   "outputs": [],
   "source": [
    "dropped.replace(-999, np.nan, inplace=True)"
   ],
   "metadata": {
    "collapsed": false,
    "ExecuteTime": {
     "end_time": "2023-11-07T18:42:29.515367Z",
     "start_time": "2023-11-07T18:42:29.506741Z"
    }
   },
   "id": "384ea5c5c5bcb31a"
  },
  {
   "cell_type": "code",
   "execution_count": 25,
   "outputs": [],
   "source": [
    "from sklearn.impute import KNNImputer\n",
    "\n",
    "imputer = KNNImputer(n_neighbors=5)\n",
    "imputed_data = imputer.fit_transform(dropped)\n",
    "imputed_df = pd.DataFrame(imputed_data, columns=dropped.columns)\n"
   ],
   "metadata": {
    "collapsed": false,
    "ExecuteTime": {
     "end_time": "2023-11-07T18:42:34.390603Z",
     "start_time": "2023-11-07T18:42:30.855926Z"
    }
   },
   "id": "d6963d4688bc2bac"
  },
  {
   "cell_type": "code",
   "execution_count": 26,
   "outputs": [
    {
     "name": "stdout",
     "output_type": "stream",
     "text": [
      "0\n"
     ]
    }
   ],
   "source": [
    "mask = (imputed_df == -999).any(axis=1)\n",
    "neg_999 = imputed_df[mask]\n",
    "n = neg_999.shape[0]\n",
    "print(n)"
   ],
   "metadata": {
    "collapsed": false,
    "ExecuteTime": {
     "end_time": "2023-11-07T18:42:36.150525Z",
     "start_time": "2023-11-07T18:42:36.145590Z"
    }
   },
   "id": "28d90c4451d160bd"
  },
  {
   "cell_type": "code",
   "execution_count": 28,
   "outputs": [],
   "source": [
    "new_column_names = {\n",
    "    'ocean depth (m)': 'depth',\n",
    "    'temperature of ocean (C)' : 'temperature',\n",
    "     'dissolved oxygen (µmol kg-1)': 'oxygen'\n",
    "}\n",
    " \n",
    "# Rename the columns\n",
    "imputed_df.rename(columns=new_column_names, inplace=True)\n"
   ],
   "metadata": {
    "collapsed": false,
    "ExecuteTime": {
     "end_time": "2023-11-07T18:49:15.711364Z",
     "start_time": "2023-11-07T18:49:15.705219Z"
    }
   },
   "id": "6439f54bf5b81b3b"
  },
  {
   "cell_type": "code",
   "execution_count": 29,
   "outputs": [
    {
     "data": {
      "text/plain": "   latitude  longitude  depth  temperature  oxygen      pH\n0    56.509  -170.8147  122.0        2.199  316.01  7.9743\n1    56.509  -170.8147  122.0        2.098  319.32  7.9977\n2    56.509  -170.8147  122.0        1.637  334.65  8.0398\n3    56.509  -170.8147  122.0        0.763  342.38  8.0659\n4    56.509  -170.8147  122.0       -0.318  359.24  8.0661",
      "text/html": "<div>\n<style scoped>\n    .dataframe tbody tr th:only-of-type {\n        vertical-align: middle;\n    }\n\n    .dataframe tbody tr th {\n        vertical-align: top;\n    }\n\n    .dataframe thead th {\n        text-align: right;\n    }\n</style>\n<table border=\"1\" class=\"dataframe\">\n  <thead>\n    <tr style=\"text-align: right;\">\n      <th></th>\n      <th>latitude</th>\n      <th>longitude</th>\n      <th>depth</th>\n      <th>temperature</th>\n      <th>oxygen</th>\n      <th>pH</th>\n    </tr>\n  </thead>\n  <tbody>\n    <tr>\n      <th>0</th>\n      <td>56.509</td>\n      <td>-170.8147</td>\n      <td>122.0</td>\n      <td>2.199</td>\n      <td>316.01</td>\n      <td>7.9743</td>\n    </tr>\n    <tr>\n      <th>1</th>\n      <td>56.509</td>\n      <td>-170.8147</td>\n      <td>122.0</td>\n      <td>2.098</td>\n      <td>319.32</td>\n      <td>7.9977</td>\n    </tr>\n    <tr>\n      <th>2</th>\n      <td>56.509</td>\n      <td>-170.8147</td>\n      <td>122.0</td>\n      <td>1.637</td>\n      <td>334.65</td>\n      <td>8.0398</td>\n    </tr>\n    <tr>\n      <th>3</th>\n      <td>56.509</td>\n      <td>-170.8147</td>\n      <td>122.0</td>\n      <td>0.763</td>\n      <td>342.38</td>\n      <td>8.0659</td>\n    </tr>\n    <tr>\n      <th>4</th>\n      <td>56.509</td>\n      <td>-170.8147</td>\n      <td>122.0</td>\n      <td>-0.318</td>\n      <td>359.24</td>\n      <td>8.0661</td>\n    </tr>\n  </tbody>\n</table>\n</div>"
     },
     "execution_count": 29,
     "metadata": {},
     "output_type": "execute_result"
    }
   ],
   "source": [
    "imputed_df.head()"
   ],
   "metadata": {
    "collapsed": false,
    "ExecuteTime": {
     "end_time": "2023-11-07T18:49:23.658292Z",
     "start_time": "2023-11-07T18:49:23.653890Z"
    }
   },
   "id": "9e21d3aaf2ded0ff"
  },
  {
   "cell_type": "code",
   "execution_count": 30,
   "outputs": [],
   "source": [
    "imputed_df.to_csv('kelp.csv', encoding='utf-8', index=False)"
   ],
   "metadata": {
    "collapsed": false,
    "ExecuteTime": {
     "end_time": "2023-11-07T18:49:26.955708Z",
     "start_time": "2023-11-07T18:49:26.887120Z"
    }
   },
   "id": "ff12b14eb456ce07"
  },
  {
   "cell_type": "code",
   "execution_count": null,
   "outputs": [],
   "source": [],
   "metadata": {
    "collapsed": false
   },
   "id": "ebb4b0f0aef2c3b4"
  }
 ],
 "metadata": {
  "kernelspec": {
   "display_name": "Python 3",
   "language": "python",
   "name": "python3"
  },
  "language_info": {
   "codemirror_mode": {
    "name": "ipython",
    "version": 2
   },
   "file_extension": ".py",
   "mimetype": "text/x-python",
   "name": "python",
   "nbconvert_exporter": "python",
   "pygments_lexer": "ipython2",
   "version": "2.7.6"
  }
 },
 "nbformat": 4,
 "nbformat_minor": 5
}
