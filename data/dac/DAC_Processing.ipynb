{
 "cells": [
  {
   "cell_type": "code",
   "execution_count": 1,
   "id": "initial_id",
   "metadata": {
    "collapsed": true,
    "ExecuteTime": {
     "end_time": "2023-11-02T03:23:31.956631Z",
     "start_time": "2023-11-02T03:23:30.468018Z"
    }
   },
   "outputs": [],
   "source": [
    "import pandas as pd"
   ]
  },
  {
   "cell_type": "code",
   "execution_count": 2,
   "outputs": [
    {
     "data": {
      "text/plain": "         NAME STATE_NAME  STATE_FIPS  CNTY_FIPS  FIPS  Rowid_  FIPS_1  \\\n0  Lauderdale    Alabama           1         77  1077    2121    1077   \n1   Limestone    Alabama           1         83  1083    2122    1083   \n2     Madison    Alabama           1         89  1089    2131    1089   \n3     Jackson    Alabama           1         71  1071    2132    1071   \n4     Colbert    Alabama           1         33  1033    2148    1033   \n\n   ZONE_CODE  COUNT      AREA  MIN  MAX  RANGE        MEAN         STD  \\\n0       2121   2699  0.187431  126  274    148  194.816228   29.115953   \n1       2122   2239  0.155486  169  280    111  210.340331   27.530799   \n2       2131   3038  0.210972  169  549    380  242.428242   65.020587   \n3       2132   4122  0.286250  177  549    372  320.258370  112.967006   \n4       2148   2291  0.159097  126  284    158  179.550851   33.368155   \n\n         SUM  VARIETY  MAJORITY  MINORITY  MEDIAN  \n0   525809.0      139       213       131     193  \n1   470952.0      109       213       260     213  \n2   736497.0      294       244       282     233  \n3  1320105.0      352       183       179     311  \n4   411351.0      143       183       253     174  ",
      "text/html": "<div>\n<style scoped>\n    .dataframe tbody tr th:only-of-type {\n        vertical-align: middle;\n    }\n\n    .dataframe tbody tr th {\n        vertical-align: top;\n    }\n\n    .dataframe thead th {\n        text-align: right;\n    }\n</style>\n<table border=\"1\" class=\"dataframe\">\n  <thead>\n    <tr style=\"text-align: right;\">\n      <th></th>\n      <th>NAME</th>\n      <th>STATE_NAME</th>\n      <th>STATE_FIPS</th>\n      <th>CNTY_FIPS</th>\n      <th>FIPS</th>\n      <th>Rowid_</th>\n      <th>FIPS_1</th>\n      <th>ZONE_CODE</th>\n      <th>COUNT</th>\n      <th>AREA</th>\n      <th>MIN</th>\n      <th>MAX</th>\n      <th>RANGE</th>\n      <th>MEAN</th>\n      <th>STD</th>\n      <th>SUM</th>\n      <th>VARIETY</th>\n      <th>MAJORITY</th>\n      <th>MINORITY</th>\n      <th>MEDIAN</th>\n    </tr>\n  </thead>\n  <tbody>\n    <tr>\n      <th>0</th>\n      <td>Lauderdale</td>\n      <td>Alabama</td>\n      <td>1</td>\n      <td>77</td>\n      <td>1077</td>\n      <td>2121</td>\n      <td>1077</td>\n      <td>2121</td>\n      <td>2699</td>\n      <td>0.187431</td>\n      <td>126</td>\n      <td>274</td>\n      <td>148</td>\n      <td>194.816228</td>\n      <td>29.115953</td>\n      <td>525809.0</td>\n      <td>139</td>\n      <td>213</td>\n      <td>131</td>\n      <td>193</td>\n    </tr>\n    <tr>\n      <th>1</th>\n      <td>Limestone</td>\n      <td>Alabama</td>\n      <td>1</td>\n      <td>83</td>\n      <td>1083</td>\n      <td>2122</td>\n      <td>1083</td>\n      <td>2122</td>\n      <td>2239</td>\n      <td>0.155486</td>\n      <td>169</td>\n      <td>280</td>\n      <td>111</td>\n      <td>210.340331</td>\n      <td>27.530799</td>\n      <td>470952.0</td>\n      <td>109</td>\n      <td>213</td>\n      <td>260</td>\n      <td>213</td>\n    </tr>\n    <tr>\n      <th>2</th>\n      <td>Madison</td>\n      <td>Alabama</td>\n      <td>1</td>\n      <td>89</td>\n      <td>1089</td>\n      <td>2131</td>\n      <td>1089</td>\n      <td>2131</td>\n      <td>3038</td>\n      <td>0.210972</td>\n      <td>169</td>\n      <td>549</td>\n      <td>380</td>\n      <td>242.428242</td>\n      <td>65.020587</td>\n      <td>736497.0</td>\n      <td>294</td>\n      <td>244</td>\n      <td>282</td>\n      <td>233</td>\n    </tr>\n    <tr>\n      <th>3</th>\n      <td>Jackson</td>\n      <td>Alabama</td>\n      <td>1</td>\n      <td>71</td>\n      <td>1071</td>\n      <td>2132</td>\n      <td>1071</td>\n      <td>2132</td>\n      <td>4122</td>\n      <td>0.286250</td>\n      <td>177</td>\n      <td>549</td>\n      <td>372</td>\n      <td>320.258370</td>\n      <td>112.967006</td>\n      <td>1320105.0</td>\n      <td>352</td>\n      <td>183</td>\n      <td>179</td>\n      <td>311</td>\n    </tr>\n    <tr>\n      <th>4</th>\n      <td>Colbert</td>\n      <td>Alabama</td>\n      <td>1</td>\n      <td>33</td>\n      <td>1033</td>\n      <td>2148</td>\n      <td>1033</td>\n      <td>2148</td>\n      <td>2291</td>\n      <td>0.159097</td>\n      <td>126</td>\n      <td>284</td>\n      <td>158</td>\n      <td>179.550851</td>\n      <td>33.368155</td>\n      <td>411351.0</td>\n      <td>143</td>\n      <td>183</td>\n      <td>253</td>\n      <td>174</td>\n    </tr>\n  </tbody>\n</table>\n</div>"
     },
     "execution_count": 2,
     "metadata": {},
     "output_type": "execute_result"
    }
   ],
   "source": [
    "dac_init = pd.read_csv('elevation.csv')\n",
    "dac_init.head()"
   ],
   "metadata": {
    "collapsed": false,
    "ExecuteTime": {
     "end_time": "2023-11-02T03:24:46.406880Z",
     "start_time": "2023-11-02T03:24:46.383139Z"
    }
   },
   "id": "e4f76246759219f2"
  },
  {
   "cell_type": "code",
   "execution_count": 6,
   "outputs": [
    {
     "data": {
      "text/plain": "    County    State  STATE_FIPS  CNTY_FIPS  FIPS  Rowid_  FIPS_1  ZONE_CODE  \\\n0  Autauga  Alabama           1          1  1001    2505    1001       2505   \n1  Baldwin  Alabama           1          3  1003    2707    1003       2707   \n2  Barbour  Alabama           1          5  1005    2584    1005       2584   \n3     Bibb  Alabama           1          7  1007    2426    1007       2426   \n4   Blount  Alabama           1          9  1009    2259    1009       2259   \n\n   COUNT      AREA  MIN  MAX  RANGE        MEAN        STD       SUM  VARIETY  \\\n0   2145  0.148958   24  213    189  111.111422  41.013900  238334.0      175   \n1   5724  0.397500    0  103    103   36.783019  22.833821  210546.0      103   \n2   3214  0.223194   46  200    154  114.048849  29.542705  366553.0      145   \n3   2284  0.158611   52  220    168  125.742119  31.190822  287195.0      153   \n4   2417  0.167847   91  446    355  240.213488  63.854905  580596.0      296   \n\n   MAJORITY  MINORITY  MEDIAN  \n0       122        29     116  \n1         6       102      36  \n2       150        47     116  \n3       122        54     122  \n4       244        94     244  ",
      "text/html": "<div>\n<style scoped>\n    .dataframe tbody tr th:only-of-type {\n        vertical-align: middle;\n    }\n\n    .dataframe tbody tr th {\n        vertical-align: top;\n    }\n\n    .dataframe thead th {\n        text-align: right;\n    }\n</style>\n<table border=\"1\" class=\"dataframe\">\n  <thead>\n    <tr style=\"text-align: right;\">\n      <th></th>\n      <th>County</th>\n      <th>State</th>\n      <th>STATE_FIPS</th>\n      <th>CNTY_FIPS</th>\n      <th>FIPS</th>\n      <th>Rowid_</th>\n      <th>FIPS_1</th>\n      <th>ZONE_CODE</th>\n      <th>COUNT</th>\n      <th>AREA</th>\n      <th>MIN</th>\n      <th>MAX</th>\n      <th>RANGE</th>\n      <th>MEAN</th>\n      <th>STD</th>\n      <th>SUM</th>\n      <th>VARIETY</th>\n      <th>MAJORITY</th>\n      <th>MINORITY</th>\n      <th>MEDIAN</th>\n    </tr>\n  </thead>\n  <tbody>\n    <tr>\n      <th>0</th>\n      <td>Autauga</td>\n      <td>Alabama</td>\n      <td>1</td>\n      <td>1</td>\n      <td>1001</td>\n      <td>2505</td>\n      <td>1001</td>\n      <td>2505</td>\n      <td>2145</td>\n      <td>0.148958</td>\n      <td>24</td>\n      <td>213</td>\n      <td>189</td>\n      <td>111.111422</td>\n      <td>41.013900</td>\n      <td>238334.0</td>\n      <td>175</td>\n      <td>122</td>\n      <td>29</td>\n      <td>116</td>\n    </tr>\n    <tr>\n      <th>1</th>\n      <td>Baldwin</td>\n      <td>Alabama</td>\n      <td>1</td>\n      <td>3</td>\n      <td>1003</td>\n      <td>2707</td>\n      <td>1003</td>\n      <td>2707</td>\n      <td>5724</td>\n      <td>0.397500</td>\n      <td>0</td>\n      <td>103</td>\n      <td>103</td>\n      <td>36.783019</td>\n      <td>22.833821</td>\n      <td>210546.0</td>\n      <td>103</td>\n      <td>6</td>\n      <td>102</td>\n      <td>36</td>\n    </tr>\n    <tr>\n      <th>2</th>\n      <td>Barbour</td>\n      <td>Alabama</td>\n      <td>1</td>\n      <td>5</td>\n      <td>1005</td>\n      <td>2584</td>\n      <td>1005</td>\n      <td>2584</td>\n      <td>3214</td>\n      <td>0.223194</td>\n      <td>46</td>\n      <td>200</td>\n      <td>154</td>\n      <td>114.048849</td>\n      <td>29.542705</td>\n      <td>366553.0</td>\n      <td>145</td>\n      <td>150</td>\n      <td>47</td>\n      <td>116</td>\n    </tr>\n    <tr>\n      <th>3</th>\n      <td>Bibb</td>\n      <td>Alabama</td>\n      <td>1</td>\n      <td>7</td>\n      <td>1007</td>\n      <td>2426</td>\n      <td>1007</td>\n      <td>2426</td>\n      <td>2284</td>\n      <td>0.158611</td>\n      <td>52</td>\n      <td>220</td>\n      <td>168</td>\n      <td>125.742119</td>\n      <td>31.190822</td>\n      <td>287195.0</td>\n      <td>153</td>\n      <td>122</td>\n      <td>54</td>\n      <td>122</td>\n    </tr>\n    <tr>\n      <th>4</th>\n      <td>Blount</td>\n      <td>Alabama</td>\n      <td>1</td>\n      <td>9</td>\n      <td>1009</td>\n      <td>2259</td>\n      <td>1009</td>\n      <td>2259</td>\n      <td>2417</td>\n      <td>0.167847</td>\n      <td>91</td>\n      <td>446</td>\n      <td>355</td>\n      <td>240.213488</td>\n      <td>63.854905</td>\n      <td>580596.0</td>\n      <td>296</td>\n      <td>244</td>\n      <td>94</td>\n      <td>244</td>\n    </tr>\n  </tbody>\n</table>\n</div>"
     },
     "execution_count": 6,
     "metadata": {},
     "output_type": "execute_result"
    }
   ],
   "source": [
    "dac_sorted = dac_init.groupby('STATE_NAME', group_keys=False).apply(lambda x: x.sort_values('NAME')).reset_index(drop=True)\n",
    "\n",
    "dac_sorted = dac_sorted.rename(columns={'NAME': 'County', 'STATE_NAME': 'State'})\n",
    "dac_sorted.head()"
   ],
   "metadata": {
    "collapsed": false,
    "ExecuteTime": {
     "end_time": "2023-11-02T03:35:17.528007Z",
     "start_time": "2023-11-02T03:35:17.497672Z"
    }
   },
   "id": "2f2f23b4e8ca41ee"
  },
  {
   "cell_type": "code",
   "execution_count": 4,
   "outputs": [
    {
     "data": {
      "text/plain": "     State Abbreviation   County  Population  Temperature  Precipitation  \\\n0  Alabama           AL  Autauga       59759         66.1          51.89   \n1  Alabama           AL  Baldwin      246435         70.1          50.71   \n2  Alabama           AL  Barbour       24706         66.4          48.95   \n3  Alabama           AL     Bibb       22005         64.4          53.22   \n4  Alabama           AL   Blount       59512         62.5          60.68   \n\n   Palmer-Z  Land-Prices  Population_Class  Temperature_Class  \\\n0     -0.26            0                 2                  5   \n1     -0.84            0                 1                  5   \n2     -0.22            0                 4                  5   \n3     -0.29            0                 4                  6   \n4      0.24            0                 2                  6   \n\n   Precipitation_Class  Palmer-Z_Class  Land-Prices_Class  percentile_rank  \\\n0                    3               5                  0              0.0   \n1                    3               2                  0              0.0   \n2                    3               5                  0              0.0   \n3                    1               5                  0              0.0   \n4                    1               7                  0              0.0   \n\n   Final_Class  \n0            0  \n1            0  \n2            0  \n3            0  \n4            0  ",
      "text/html": "<div>\n<style scoped>\n    .dataframe tbody tr th:only-of-type {\n        vertical-align: middle;\n    }\n\n    .dataframe tbody tr th {\n        vertical-align: top;\n    }\n\n    .dataframe thead th {\n        text-align: right;\n    }\n</style>\n<table border=\"1\" class=\"dataframe\">\n  <thead>\n    <tr style=\"text-align: right;\">\n      <th></th>\n      <th>State</th>\n      <th>Abbreviation</th>\n      <th>County</th>\n      <th>Population</th>\n      <th>Temperature</th>\n      <th>Precipitation</th>\n      <th>Palmer-Z</th>\n      <th>Land-Prices</th>\n      <th>Population_Class</th>\n      <th>Temperature_Class</th>\n      <th>Precipitation_Class</th>\n      <th>Palmer-Z_Class</th>\n      <th>Land-Prices_Class</th>\n      <th>percentile_rank</th>\n      <th>Final_Class</th>\n    </tr>\n  </thead>\n  <tbody>\n    <tr>\n      <th>0</th>\n      <td>Alabama</td>\n      <td>AL</td>\n      <td>Autauga</td>\n      <td>59759</td>\n      <td>66.1</td>\n      <td>51.89</td>\n      <td>-0.26</td>\n      <td>0</td>\n      <td>2</td>\n      <td>5</td>\n      <td>3</td>\n      <td>5</td>\n      <td>0</td>\n      <td>0.0</td>\n      <td>0</td>\n    </tr>\n    <tr>\n      <th>1</th>\n      <td>Alabama</td>\n      <td>AL</td>\n      <td>Baldwin</td>\n      <td>246435</td>\n      <td>70.1</td>\n      <td>50.71</td>\n      <td>-0.84</td>\n      <td>0</td>\n      <td>1</td>\n      <td>5</td>\n      <td>3</td>\n      <td>2</td>\n      <td>0</td>\n      <td>0.0</td>\n      <td>0</td>\n    </tr>\n    <tr>\n      <th>2</th>\n      <td>Alabama</td>\n      <td>AL</td>\n      <td>Barbour</td>\n      <td>24706</td>\n      <td>66.4</td>\n      <td>48.95</td>\n      <td>-0.22</td>\n      <td>0</td>\n      <td>4</td>\n      <td>5</td>\n      <td>3</td>\n      <td>5</td>\n      <td>0</td>\n      <td>0.0</td>\n      <td>0</td>\n    </tr>\n    <tr>\n      <th>3</th>\n      <td>Alabama</td>\n      <td>AL</td>\n      <td>Bibb</td>\n      <td>22005</td>\n      <td>64.4</td>\n      <td>53.22</td>\n      <td>-0.29</td>\n      <td>0</td>\n      <td>4</td>\n      <td>6</td>\n      <td>1</td>\n      <td>5</td>\n      <td>0</td>\n      <td>0.0</td>\n      <td>0</td>\n    </tr>\n    <tr>\n      <th>4</th>\n      <td>Alabama</td>\n      <td>AL</td>\n      <td>Blount</td>\n      <td>59512</td>\n      <td>62.5</td>\n      <td>60.68</td>\n      <td>0.24</td>\n      <td>0</td>\n      <td>2</td>\n      <td>6</td>\n      <td>1</td>\n      <td>7</td>\n      <td>0</td>\n      <td>0.0</td>\n      <td>0</td>\n    </tr>\n  </tbody>\n</table>\n</div>"
     },
     "execution_count": 4,
     "metadata": {},
     "output_type": "execute_result"
    }
   ],
   "source": [
    "ref = pd.read_csv('reforestation.csv')\n",
    "ref.head()"
   ],
   "metadata": {
    "collapsed": false,
    "ExecuteTime": {
     "end_time": "2023-11-02T03:32:32.507441Z",
     "start_time": "2023-11-02T03:32:32.485720Z"
    }
   },
   "id": "a0b8530fbcaf2cd"
  },
  {
   "cell_type": "code",
   "execution_count": 9,
   "outputs": [
    {
     "data": {
      "text/plain": "     State Abbreviation   County  Population  Temperature  Precipitation  \\\n0  Alabama           AL  Autauga       59759         66.1          51.89   \n1  Alabama           AL  Baldwin      246435         70.1          50.71   \n2  Alabama           AL  Barbour       24706         66.4          48.95   \n3  Alabama           AL     Bibb       22005         64.4          53.22   \n4  Alabama           AL   Blount       59512         62.5          60.68   \n\n   Palmer-Z  Land-Prices  Population_Class  Temperature_Class  \\\n0     -0.26            0                 2                  5   \n1     -0.84            0                 1                  5   \n2     -0.22            0                 4                  5   \n3     -0.29            0                 4                  6   \n4      0.24            0                 2                  6   \n\n   Precipitation_Class  Palmer-Z_Class  Land-Prices_Class  percentile_rank  \\\n0                    3               5                  0              0.0   \n1                    3               2                  0              0.0   \n2                    3               5                  0              0.0   \n3                    1               5                  0              0.0   \n4                    1               7                  0              0.0   \n\n   Final_Class   Elevation  \n0            0  111.111422  \n1            0   36.783019  \n2            0  114.048849  \n3            0  125.742119  \n4            0  240.213488  ",
      "text/html": "<div>\n<style scoped>\n    .dataframe tbody tr th:only-of-type {\n        vertical-align: middle;\n    }\n\n    .dataframe tbody tr th {\n        vertical-align: top;\n    }\n\n    .dataframe thead th {\n        text-align: right;\n    }\n</style>\n<table border=\"1\" class=\"dataframe\">\n  <thead>\n    <tr style=\"text-align: right;\">\n      <th></th>\n      <th>State</th>\n      <th>Abbreviation</th>\n      <th>County</th>\n      <th>Population</th>\n      <th>Temperature</th>\n      <th>Precipitation</th>\n      <th>Palmer-Z</th>\n      <th>Land-Prices</th>\n      <th>Population_Class</th>\n      <th>Temperature_Class</th>\n      <th>Precipitation_Class</th>\n      <th>Palmer-Z_Class</th>\n      <th>Land-Prices_Class</th>\n      <th>percentile_rank</th>\n      <th>Final_Class</th>\n      <th>Elevation</th>\n    </tr>\n  </thead>\n  <tbody>\n    <tr>\n      <th>0</th>\n      <td>Alabama</td>\n      <td>AL</td>\n      <td>Autauga</td>\n      <td>59759</td>\n      <td>66.1</td>\n      <td>51.89</td>\n      <td>-0.26</td>\n      <td>0</td>\n      <td>2</td>\n      <td>5</td>\n      <td>3</td>\n      <td>5</td>\n      <td>0</td>\n      <td>0.0</td>\n      <td>0</td>\n      <td>111.111422</td>\n    </tr>\n    <tr>\n      <th>1</th>\n      <td>Alabama</td>\n      <td>AL</td>\n      <td>Baldwin</td>\n      <td>246435</td>\n      <td>70.1</td>\n      <td>50.71</td>\n      <td>-0.84</td>\n      <td>0</td>\n      <td>1</td>\n      <td>5</td>\n      <td>3</td>\n      <td>2</td>\n      <td>0</td>\n      <td>0.0</td>\n      <td>0</td>\n      <td>36.783019</td>\n    </tr>\n    <tr>\n      <th>2</th>\n      <td>Alabama</td>\n      <td>AL</td>\n      <td>Barbour</td>\n      <td>24706</td>\n      <td>66.4</td>\n      <td>48.95</td>\n      <td>-0.22</td>\n      <td>0</td>\n      <td>4</td>\n      <td>5</td>\n      <td>3</td>\n      <td>5</td>\n      <td>0</td>\n      <td>0.0</td>\n      <td>0</td>\n      <td>114.048849</td>\n    </tr>\n    <tr>\n      <th>3</th>\n      <td>Alabama</td>\n      <td>AL</td>\n      <td>Bibb</td>\n      <td>22005</td>\n      <td>64.4</td>\n      <td>53.22</td>\n      <td>-0.29</td>\n      <td>0</td>\n      <td>4</td>\n      <td>6</td>\n      <td>1</td>\n      <td>5</td>\n      <td>0</td>\n      <td>0.0</td>\n      <td>0</td>\n      <td>125.742119</td>\n    </tr>\n    <tr>\n      <th>4</th>\n      <td>Alabama</td>\n      <td>AL</td>\n      <td>Blount</td>\n      <td>59512</td>\n      <td>62.5</td>\n      <td>60.68</td>\n      <td>0.24</td>\n      <td>0</td>\n      <td>2</td>\n      <td>6</td>\n      <td>1</td>\n      <td>7</td>\n      <td>0</td>\n      <td>0.0</td>\n      <td>0</td>\n      <td>240.213488</td>\n    </tr>\n  </tbody>\n</table>\n</div>"
     },
     "execution_count": 9,
     "metadata": {},
     "output_type": "execute_result"
    }
   ],
   "source": [
    "merged_df = pd.merge(ref, dac_sorted[['County', 'State', 'MEAN']], on=['County', 'State'], how='left')\n",
    "merged_df = merged_df.rename(columns={'MEAN': 'Elevation'})\n",
    "merged_df.head()"
   ],
   "metadata": {
    "collapsed": false,
    "ExecuteTime": {
     "end_time": "2023-11-02T03:38:52.339223Z",
     "start_time": "2023-11-02T03:38:52.311658Z"
    }
   },
   "id": "4845afbd707f3595"
  },
  {
   "cell_type": "code",
   "execution_count": 10,
   "outputs": [
    {
     "data": {
      "text/plain": "     State Abbreviation   County  Population  Temperature  Precipitation  \\\n0  Alabama           AL  Autauga       59759         66.1          51.89   \n1  Alabama           AL  Baldwin      246435         70.1          50.71   \n2  Alabama           AL  Barbour       24706         66.4          48.95   \n3  Alabama           AL     Bibb       22005         64.4          53.22   \n4  Alabama           AL   Blount       59512         62.5          60.68   \n\n    Elevation  \n0  111.111422  \n1   36.783019  \n2  114.048849  \n3  125.742119  \n4  240.213488  ",
      "text/html": "<div>\n<style scoped>\n    .dataframe tbody tr th:only-of-type {\n        vertical-align: middle;\n    }\n\n    .dataframe tbody tr th {\n        vertical-align: top;\n    }\n\n    .dataframe thead th {\n        text-align: right;\n    }\n</style>\n<table border=\"1\" class=\"dataframe\">\n  <thead>\n    <tr style=\"text-align: right;\">\n      <th></th>\n      <th>State</th>\n      <th>Abbreviation</th>\n      <th>County</th>\n      <th>Population</th>\n      <th>Temperature</th>\n      <th>Precipitation</th>\n      <th>Elevation</th>\n    </tr>\n  </thead>\n  <tbody>\n    <tr>\n      <th>0</th>\n      <td>Alabama</td>\n      <td>AL</td>\n      <td>Autauga</td>\n      <td>59759</td>\n      <td>66.1</td>\n      <td>51.89</td>\n      <td>111.111422</td>\n    </tr>\n    <tr>\n      <th>1</th>\n      <td>Alabama</td>\n      <td>AL</td>\n      <td>Baldwin</td>\n      <td>246435</td>\n      <td>70.1</td>\n      <td>50.71</td>\n      <td>36.783019</td>\n    </tr>\n    <tr>\n      <th>2</th>\n      <td>Alabama</td>\n      <td>AL</td>\n      <td>Barbour</td>\n      <td>24706</td>\n      <td>66.4</td>\n      <td>48.95</td>\n      <td>114.048849</td>\n    </tr>\n    <tr>\n      <th>3</th>\n      <td>Alabama</td>\n      <td>AL</td>\n      <td>Bibb</td>\n      <td>22005</td>\n      <td>64.4</td>\n      <td>53.22</td>\n      <td>125.742119</td>\n    </tr>\n    <tr>\n      <th>4</th>\n      <td>Alabama</td>\n      <td>AL</td>\n      <td>Blount</td>\n      <td>59512</td>\n      <td>62.5</td>\n      <td>60.68</td>\n      <td>240.213488</td>\n    </tr>\n  </tbody>\n</table>\n</div>"
     },
     "execution_count": 10,
     "metadata": {},
     "output_type": "execute_result"
    }
   ],
   "source": [
    "merged_df= merged_df.drop(columns=['Palmer-Z','Land-Prices','Population_Class','Temperature_Class','Precipitation_Class','Palmer-Z_Class','Land-Prices_Class','percentile_rank','Final_Class'])\n",
    "merged_df.head()"
   ],
   "metadata": {
    "collapsed": false,
    "ExecuteTime": {
     "end_time": "2023-11-02T03:42:17.549188Z",
     "start_time": "2023-11-02T03:42:17.531353Z"
    }
   },
   "id": "52ca6cf80a544281"
  },
  {
   "cell_type": "code",
   "execution_count": 14,
   "outputs": [
    {
     "data": {
      "text/plain": "State            0\nAbbreviation     0\nCounty           0\nPopulation       0\nTemperature      0\nPrecipitation    0\nElevation        0\ndtype: int64"
     },
     "execution_count": 14,
     "metadata": {},
     "output_type": "execute_result"
    }
   ],
   "source": [
    "no_na = merged_df.dropna()\n",
    "no_na.isna().sum()"
   ],
   "metadata": {
    "collapsed": false,
    "ExecuteTime": {
     "end_time": "2023-11-02T03:50:37.761615Z",
     "start_time": "2023-11-02T03:50:37.746668Z"
    }
   },
   "id": "c411bdfd226af3af"
  },
  {
   "cell_type": "code",
   "execution_count": 15,
   "outputs": [
    {
     "data": {
      "text/plain": "                                               state  value\n0  Table 5.6.A. Average Price of Electricity to U...  25.44\n1  by State, August 2023 and 2022 (Cents per Kilo...  18.98\n2                                        New England  18.72\n3                                        Connecticut  20.02\n4                                              Maine  14.34",
      "text/html": "<div>\n<style scoped>\n    .dataframe tbody tr th:only-of-type {\n        vertical-align: middle;\n    }\n\n    .dataframe tbody tr th {\n        vertical-align: top;\n    }\n\n    .dataframe thead th {\n        text-align: right;\n    }\n</style>\n<table border=\"1\" class=\"dataframe\">\n  <thead>\n    <tr style=\"text-align: right;\">\n      <th></th>\n      <th>state</th>\n      <th>value</th>\n    </tr>\n  </thead>\n  <tbody>\n    <tr>\n      <th>0</th>\n      <td>Table 5.6.A. Average Price of Electricity to U...</td>\n      <td>25.44</td>\n    </tr>\n    <tr>\n      <th>1</th>\n      <td>by State, August 2023 and 2022 (Cents per Kilo...</td>\n      <td>18.98</td>\n    </tr>\n    <tr>\n      <th>2</th>\n      <td>New England</td>\n      <td>18.72</td>\n    </tr>\n    <tr>\n      <th>3</th>\n      <td>Connecticut</td>\n      <td>20.02</td>\n    </tr>\n    <tr>\n      <th>4</th>\n      <td>Maine</td>\n      <td>14.34</td>\n    </tr>\n  </tbody>\n</table>\n</div>"
     },
     "execution_count": 15,
     "metadata": {},
     "output_type": "execute_result"
    }
   ],
   "source": [
    "elec = pd.read_csv('electricity.csv')\n",
    "elec.head()"
   ],
   "metadata": {
    "collapsed": false,
    "ExecuteTime": {
     "end_time": "2023-11-02T04:14:00.408521Z",
     "start_time": "2023-11-02T04:14:00.387163Z"
    }
   },
   "id": "f6ebe8da099a14b1"
  },
  {
   "cell_type": "code",
   "execution_count": 19,
   "outputs": [
    {
     "data": {
      "text/plain": "           state  value\n3    Connecticut  20.02\n4          Maine  14.34\n5  Massachusetts  19.32\n6  New Hampshire  19.49\n7   Rhode Island  15.61",
      "text/html": "<div>\n<style scoped>\n    .dataframe tbody tr th:only-of-type {\n        vertical-align: middle;\n    }\n\n    .dataframe tbody tr th {\n        vertical-align: top;\n    }\n\n    .dataframe thead th {\n        text-align: right;\n    }\n</style>\n<table border=\"1\" class=\"dataframe\">\n  <thead>\n    <tr style=\"text-align: right;\">\n      <th></th>\n      <th>state</th>\n      <th>value</th>\n    </tr>\n  </thead>\n  <tbody>\n    <tr>\n      <th>3</th>\n      <td>Connecticut</td>\n      <td>20.02</td>\n    </tr>\n    <tr>\n      <th>4</th>\n      <td>Maine</td>\n      <td>14.34</td>\n    </tr>\n    <tr>\n      <th>5</th>\n      <td>Massachusetts</td>\n      <td>19.32</td>\n    </tr>\n    <tr>\n      <th>6</th>\n      <td>New Hampshire</td>\n      <td>19.49</td>\n    </tr>\n    <tr>\n      <th>7</th>\n      <td>Rhode Island</td>\n      <td>15.61</td>\n    </tr>\n  </tbody>\n</table>\n</div>"
     },
     "execution_count": 19,
     "metadata": {},
     "output_type": "execute_result"
    }
   ],
   "source": [
    "values_to_drop = ['New England', 'Middle Atlantic','East North Central','West North Central',\n",
    "                  'South Atlantic', 'East South Central','West South Central','Mountain','Pacific Contiguous','Pacific Noncontiguous']\n",
    "\n",
    "elec = elec[~elec['state'].isin(values_to_drop)]\n",
    "elec = elec.drop(elec.index[-1])\n"
   ],
   "metadata": {
    "collapsed": false,
    "ExecuteTime": {
     "end_time": "2023-11-02T04:19:23.408724Z",
     "start_time": "2023-11-02T04:19:23.404550Z"
    }
   },
   "id": "52a5ad88d68d4afc"
  },
  {
   "cell_type": "code",
   "execution_count": 23,
   "outputs": [
    {
     "data": {
      "text/plain": "           State  Electricity-Prices\n3    Connecticut               20.02\n4          Maine               14.34\n5  Massachusetts               19.32\n6  New Hampshire               19.49\n7   Rhode Island               15.61",
      "text/html": "<div>\n<style scoped>\n    .dataframe tbody tr th:only-of-type {\n        vertical-align: middle;\n    }\n\n    .dataframe tbody tr th {\n        vertical-align: top;\n    }\n\n    .dataframe thead th {\n        text-align: right;\n    }\n</style>\n<table border=\"1\" class=\"dataframe\">\n  <thead>\n    <tr style=\"text-align: right;\">\n      <th></th>\n      <th>State</th>\n      <th>Electricity-Prices</th>\n    </tr>\n  </thead>\n  <tbody>\n    <tr>\n      <th>3</th>\n      <td>Connecticut</td>\n      <td>20.02</td>\n    </tr>\n    <tr>\n      <th>4</th>\n      <td>Maine</td>\n      <td>14.34</td>\n    </tr>\n    <tr>\n      <th>5</th>\n      <td>Massachusetts</td>\n      <td>19.32</td>\n    </tr>\n    <tr>\n      <th>6</th>\n      <td>New Hampshire</td>\n      <td>19.49</td>\n    </tr>\n    <tr>\n      <th>7</th>\n      <td>Rhode Island</td>\n      <td>15.61</td>\n    </tr>\n  </tbody>\n</table>\n</div>"
     },
     "execution_count": 23,
     "metadata": {},
     "output_type": "execute_result"
    }
   ],
   "source": [
    "elec = elec.rename(columns={'state': 'State', 'value': 'Electricity-Prices'})\n",
    "elec.head()"
   ],
   "metadata": {
    "collapsed": false,
    "ExecuteTime": {
     "end_time": "2023-11-02T04:23:39.858180Z",
     "start_time": "2023-11-02T04:23:39.852463Z"
    }
   },
   "id": "c065632c185c6ddd"
  },
  {
   "cell_type": "code",
   "execution_count": 27,
   "outputs": [
    {
     "data": {
      "text/plain": "         State  Electricity-Prices\n38     Alabama               14.21\n61      Alaska               20.35\n48     Arizona               11.46\n43    Arkansas               10.79\n57  California               24.71",
      "text/html": "<div>\n<style scoped>\n    .dataframe tbody tr th:only-of-type {\n        vertical-align: middle;\n    }\n\n    .dataframe tbody tr th {\n        vertical-align: top;\n    }\n\n    .dataframe thead th {\n        text-align: right;\n    }\n</style>\n<table border=\"1\" class=\"dataframe\">\n  <thead>\n    <tr style=\"text-align: right;\">\n      <th></th>\n      <th>State</th>\n      <th>Electricity-Prices</th>\n    </tr>\n  </thead>\n  <tbody>\n    <tr>\n      <th>38</th>\n      <td>Alabama</td>\n      <td>14.21</td>\n    </tr>\n    <tr>\n      <th>61</th>\n      <td>Alaska</td>\n      <td>20.35</td>\n    </tr>\n    <tr>\n      <th>48</th>\n      <td>Arizona</td>\n      <td>11.46</td>\n    </tr>\n    <tr>\n      <th>43</th>\n      <td>Arkansas</td>\n      <td>10.79</td>\n    </tr>\n    <tr>\n      <th>57</th>\n      <td>California</td>\n      <td>24.71</td>\n    </tr>\n  </tbody>\n</table>\n</div>"
     },
     "execution_count": 27,
     "metadata": {},
     "output_type": "execute_result"
    }
   ],
   "source": [
    "elec_sorted= elec.sort_values(by='State')\n",
    "elec_sorted.head()"
   ],
   "metadata": {
    "collapsed": false,
    "ExecuteTime": {
     "end_time": "2023-11-02T04:27:28.482379Z",
     "start_time": "2023-11-02T04:27:28.471145Z"
    }
   },
   "id": "ae1d2ffcc55c5c5d"
  },
  {
   "cell_type": "code",
   "execution_count": 28,
   "outputs": [],
   "source": [
    "merged_df2 = no_na.merge(elec_sorted, on='State', how='left')"
   ],
   "metadata": {
    "collapsed": false,
    "ExecuteTime": {
     "end_time": "2023-11-02T04:30:24.276562Z",
     "start_time": "2023-11-02T04:30:24.268683Z"
    }
   },
   "id": "905329829eb5c672"
  },
  {
   "cell_type": "code",
   "execution_count": 33,
   "outputs": [
    {
     "data": {
      "text/plain": "Index(['State', 'Minimum-Wage'], dtype='object')"
     },
     "execution_count": 33,
     "metadata": {},
     "output_type": "execute_result"
    }
   ],
   "source": [
    "wages = pd.read_csv('min-wages.csv')\n",
    "wages.drop(wages.columns[0], axis=1, inplace=True)\n",
    "wages.columns"
   ],
   "metadata": {
    "collapsed": false,
    "ExecuteTime": {
     "end_time": "2023-11-02T04:56:04.281157Z",
     "start_time": "2023-11-02T04:56:04.270274Z"
    }
   },
   "id": "ebeca5fde75353ab"
  },
  {
   "cell_type": "code",
   "execution_count": 34,
   "outputs": [],
   "source": [
    "dac = merged_df2.merge(wages, on='State',how='left')\n",
    "dac.to_csv('dac.csv', index=False)"
   ],
   "metadata": {
    "collapsed": false,
    "ExecuteTime": {
     "end_time": "2023-11-02T04:56:32.434144Z",
     "start_time": "2023-11-02T04:56:32.403079Z"
    }
   },
   "id": "216453601a7ee68c"
  },
  {
   "cell_type": "code",
   "execution_count": null,
   "outputs": [],
   "source": [],
   "metadata": {
    "collapsed": false
   },
   "id": "ec6ac71d247006c9"
  }
 ],
 "metadata": {
  "kernelspec": {
   "display_name": "Python 3",
   "language": "python",
   "name": "python3"
  },
  "language_info": {
   "codemirror_mode": {
    "name": "ipython",
    "version": 2
   },
   "file_extension": ".py",
   "mimetype": "text/x-python",
   "name": "python",
   "nbconvert_exporter": "python",
   "pygments_lexer": "ipython2",
   "version": "2.7.6"
  }
 },
 "nbformat": 4,
 "nbformat_minor": 5
}
