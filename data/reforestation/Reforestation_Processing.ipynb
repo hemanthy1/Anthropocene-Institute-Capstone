{
 "cells": [
  {
   "cell_type": "code",
   "execution_count": 2,
   "id": "0cd8944e",
   "metadata": {
    "ExecuteTime": {
     "end_time": "2023-10-04T00:21:11.089244Z",
     "start_time": "2023-10-04T00:21:10.550404Z"
    }
   },
   "outputs": [],
   "source": [
    "import pandas as pd\n",
    "import numpy as np"
   ]
  },
  {
   "cell_type": "code",
   "execution_count": 3,
   "id": "a598816d",
   "metadata": {
    "ExecuteTime": {
     "end_time": "2023-10-04T00:21:11.103186Z",
     "start_time": "2023-10-04T00:21:11.062041Z"
    }
   },
   "outputs": [],
   "source": [
    "precipitation = pd.read_csv('data-precipitation.csv')\n",
    "temperature = pd.read_csv('data-temperature.csv')\n",
    "population = pd.read_csv('co-est2022-alldata.csv')\n",
    "palmerz = pd.read_csv('data-palmerz.csv')"
   ]
  },
  {
   "cell_type": "markdown",
   "id": "329eb7d8",
   "metadata": {},
   "source": [
    "## Population Data Processing"
   ]
  },
  {
   "cell_type": "code",
   "execution_count": 4,
   "id": "cd6f354f",
   "metadata": {
    "ExecuteTime": {
     "end_time": "2023-10-04T00:21:11.518880Z",
     "start_time": "2023-10-04T00:21:11.510151Z"
    }
   },
   "outputs": [
    {
     "data": {
      "text/plain": "     State          County  Population\n1  Alabama  Autauga County       59759\n2  Alabama  Baldwin County      246435\n3  Alabama  Barbour County       24706\n4  Alabama     Bibb County       22005\n5  Alabama   Blount County       59512",
      "text/html": "<div>\n<style scoped>\n    .dataframe tbody tr th:only-of-type {\n        vertical-align: middle;\n    }\n\n    .dataframe tbody tr th {\n        vertical-align: top;\n    }\n\n    .dataframe thead th {\n        text-align: right;\n    }\n</style>\n<table border=\"1\" class=\"dataframe\">\n  <thead>\n    <tr style=\"text-align: right;\">\n      <th></th>\n      <th>State</th>\n      <th>County</th>\n      <th>Population</th>\n    </tr>\n  </thead>\n  <tbody>\n    <tr>\n      <th>1</th>\n      <td>Alabama</td>\n      <td>Autauga County</td>\n      <td>59759</td>\n    </tr>\n    <tr>\n      <th>2</th>\n      <td>Alabama</td>\n      <td>Baldwin County</td>\n      <td>246435</td>\n    </tr>\n    <tr>\n      <th>3</th>\n      <td>Alabama</td>\n      <td>Barbour County</td>\n      <td>24706</td>\n    </tr>\n    <tr>\n      <th>4</th>\n      <td>Alabama</td>\n      <td>Bibb County</td>\n      <td>22005</td>\n    </tr>\n    <tr>\n      <th>5</th>\n      <td>Alabama</td>\n      <td>Blount County</td>\n      <td>59512</td>\n    </tr>\n  </tbody>\n</table>\n</div>"
     },
     "execution_count": 4,
     "metadata": {},
     "output_type": "execute_result"
    }
   ],
   "source": [
    "pop = population.loc[:, ['STNAME', 'CTYNAME', 'POPESTIMATE2022']]\n",
    "pop = pop.rename(columns={'STNAME': 'State', 'CTYNAME': 'County','POPESTIMATE2022':'Population'})\n",
    "pop = pop[pop['State'] != pop['County']]\n",
    "pop.head()"
   ]
  },
  {
   "cell_type": "code",
   "execution_count": 5,
   "id": "2f22a65d",
   "metadata": {
    "ExecuteTime": {
     "end_time": "2023-10-04T00:21:11.748022Z",
     "start_time": "2023-10-04T00:21:11.743771Z"
    }
   },
   "outputs": [
    {
     "data": {
      "text/plain": "     State          County Temperature\n0  Alabama  Autauga County        66.1\n1  Alabama  Baldwin County        70.1\n2  Alabama  Barbour County        66.4\n3  Alabama     Bibb County        64.4\n4  Alabama   Blount County        62.5",
      "text/html": "<div>\n<style scoped>\n    .dataframe tbody tr th:only-of-type {\n        vertical-align: middle;\n    }\n\n    .dataframe tbody tr th {\n        vertical-align: top;\n    }\n\n    .dataframe thead th {\n        text-align: right;\n    }\n</style>\n<table border=\"1\" class=\"dataframe\">\n  <thead>\n    <tr style=\"text-align: right;\">\n      <th></th>\n      <th>State</th>\n      <th>County</th>\n      <th>Temperature</th>\n    </tr>\n  </thead>\n  <tbody>\n    <tr>\n      <th>0</th>\n      <td>Alabama</td>\n      <td>Autauga County</td>\n      <td>66.1</td>\n    </tr>\n    <tr>\n      <th>1</th>\n      <td>Alabama</td>\n      <td>Baldwin County</td>\n      <td>70.1</td>\n    </tr>\n    <tr>\n      <th>2</th>\n      <td>Alabama</td>\n      <td>Barbour County</td>\n      <td>66.4</td>\n    </tr>\n    <tr>\n      <th>3</th>\n      <td>Alabama</td>\n      <td>Bibb County</td>\n      <td>64.4</td>\n    </tr>\n    <tr>\n      <th>4</th>\n      <td>Alabama</td>\n      <td>Blount County</td>\n      <td>62.5</td>\n    </tr>\n  </tbody>\n</table>\n</div>"
     },
     "execution_count": 5,
     "metadata": {},
     "output_type": "execute_result"
    }
   ],
   "source": [
    "temp = temperature.loc[:, ['State', 'Name', 'Value']]\n",
    "temp= temp.rename(columns={'Name': 'County', 'Value': 'Temperature'})\n",
    "temp.head()"
   ]
  },
  {
   "cell_type": "code",
   "execution_count": 6,
   "id": "899cc641",
   "metadata": {
    "ExecuteTime": {
     "end_time": "2023-10-04T00:21:11.980273Z",
     "start_time": "2023-10-04T00:21:11.973185Z"
    }
   },
   "outputs": [
    {
     "data": {
      "text/plain": "     State          County Palmer-Z\n0  Alabama  Autauga County    -0.26\n1  Alabama  Baldwin County    -0.84\n2  Alabama  Barbour County    -0.22\n3  Alabama     Bibb County    -0.29\n4  Alabama   Blount County     0.24",
      "text/html": "<div>\n<style scoped>\n    .dataframe tbody tr th:only-of-type {\n        vertical-align: middle;\n    }\n\n    .dataframe tbody tr th {\n        vertical-align: top;\n    }\n\n    .dataframe thead th {\n        text-align: right;\n    }\n</style>\n<table border=\"1\" class=\"dataframe\">\n  <thead>\n    <tr style=\"text-align: right;\">\n      <th></th>\n      <th>State</th>\n      <th>County</th>\n      <th>Palmer-Z</th>\n    </tr>\n  </thead>\n  <tbody>\n    <tr>\n      <th>0</th>\n      <td>Alabama</td>\n      <td>Autauga County</td>\n      <td>-0.26</td>\n    </tr>\n    <tr>\n      <th>1</th>\n      <td>Alabama</td>\n      <td>Baldwin County</td>\n      <td>-0.84</td>\n    </tr>\n    <tr>\n      <th>2</th>\n      <td>Alabama</td>\n      <td>Barbour County</td>\n      <td>-0.22</td>\n    </tr>\n    <tr>\n      <th>3</th>\n      <td>Alabama</td>\n      <td>Bibb County</td>\n      <td>-0.29</td>\n    </tr>\n    <tr>\n      <th>4</th>\n      <td>Alabama</td>\n      <td>Blount County</td>\n      <td>0.24</td>\n    </tr>\n  </tbody>\n</table>\n</div>"
     },
     "execution_count": 6,
     "metadata": {},
     "output_type": "execute_result"
    }
   ],
   "source": [
    "palm = palmerz.loc[:, ['State', 'Name', 'Value']]\n",
    "palm= palm.rename(columns={'Name': 'County', 'Value': 'Palmer-Z'})\n",
    "palm.head()"
   ]
  },
  {
   "cell_type": "code",
   "execution_count": 7,
   "id": "6d377837",
   "metadata": {
    "ExecuteTime": {
     "end_time": "2023-10-04T00:21:12.194850Z",
     "start_time": "2023-10-04T00:21:12.190599Z"
    }
   },
   "outputs": [
    {
     "data": {
      "text/plain": "     State          County Precipitation\n0  Alabama  Autauga County         51.89\n1  Alabama  Baldwin County         50.71\n2  Alabama  Barbour County         48.95\n3  Alabama     Bibb County         53.22\n4  Alabama   Blount County         60.68",
      "text/html": "<div>\n<style scoped>\n    .dataframe tbody tr th:only-of-type {\n        vertical-align: middle;\n    }\n\n    .dataframe tbody tr th {\n        vertical-align: top;\n    }\n\n    .dataframe thead th {\n        text-align: right;\n    }\n</style>\n<table border=\"1\" class=\"dataframe\">\n  <thead>\n    <tr style=\"text-align: right;\">\n      <th></th>\n      <th>State</th>\n      <th>County</th>\n      <th>Precipitation</th>\n    </tr>\n  </thead>\n  <tbody>\n    <tr>\n      <th>0</th>\n      <td>Alabama</td>\n      <td>Autauga County</td>\n      <td>51.89</td>\n    </tr>\n    <tr>\n      <th>1</th>\n      <td>Alabama</td>\n      <td>Baldwin County</td>\n      <td>50.71</td>\n    </tr>\n    <tr>\n      <th>2</th>\n      <td>Alabama</td>\n      <td>Barbour County</td>\n      <td>48.95</td>\n    </tr>\n    <tr>\n      <th>3</th>\n      <td>Alabama</td>\n      <td>Bibb County</td>\n      <td>53.22</td>\n    </tr>\n    <tr>\n      <th>4</th>\n      <td>Alabama</td>\n      <td>Blount County</td>\n      <td>60.68</td>\n    </tr>\n  </tbody>\n</table>\n</div>"
     },
     "execution_count": 7,
     "metadata": {},
     "output_type": "execute_result"
    }
   ],
   "source": [
    "preci = precipitation.loc[:, ['State', 'Name', 'Value']]\n",
    "preci= preci.rename(columns={'Name': 'County', 'Value': 'Precipitation'})\n",
    "preci.head()"
   ]
  },
  {
   "cell_type": "code",
   "execution_count": 8,
   "id": "5f36ac9e",
   "metadata": {
    "ExecuteTime": {
     "end_time": "2023-10-04T00:21:12.482014Z",
     "start_time": "2023-10-04T00:21:12.458026Z"
    }
   },
   "outputs": [
    {
     "data": {
      "text/plain": "     State          County  Population Temperature Precipitation Palmer-Z\n0  Alabama  Autauga County     59759.0        66.1         51.89    -0.26\n1  Alabama  Baldwin County    246435.0        70.1         50.71    -0.84\n2  Alabama  Barbour County     24706.0        66.4         48.95    -0.22\n3  Alabama     Bibb County     22005.0        64.4         53.22    -0.29\n4  Alabama   Blount County     59512.0        62.5         60.68     0.24",
      "text/html": "<div>\n<style scoped>\n    .dataframe tbody tr th:only-of-type {\n        vertical-align: middle;\n    }\n\n    .dataframe tbody tr th {\n        vertical-align: top;\n    }\n\n    .dataframe thead th {\n        text-align: right;\n    }\n</style>\n<table border=\"1\" class=\"dataframe\">\n  <thead>\n    <tr style=\"text-align: right;\">\n      <th></th>\n      <th>State</th>\n      <th>County</th>\n      <th>Population</th>\n      <th>Temperature</th>\n      <th>Precipitation</th>\n      <th>Palmer-Z</th>\n    </tr>\n  </thead>\n  <tbody>\n    <tr>\n      <th>0</th>\n      <td>Alabama</td>\n      <td>Autauga County</td>\n      <td>59759.0</td>\n      <td>66.1</td>\n      <td>51.89</td>\n      <td>-0.26</td>\n    </tr>\n    <tr>\n      <th>1</th>\n      <td>Alabama</td>\n      <td>Baldwin County</td>\n      <td>246435.0</td>\n      <td>70.1</td>\n      <td>50.71</td>\n      <td>-0.84</td>\n    </tr>\n    <tr>\n      <th>2</th>\n      <td>Alabama</td>\n      <td>Barbour County</td>\n      <td>24706.0</td>\n      <td>66.4</td>\n      <td>48.95</td>\n      <td>-0.22</td>\n    </tr>\n    <tr>\n      <th>3</th>\n      <td>Alabama</td>\n      <td>Bibb County</td>\n      <td>22005.0</td>\n      <td>64.4</td>\n      <td>53.22</td>\n      <td>-0.29</td>\n    </tr>\n    <tr>\n      <th>4</th>\n      <td>Alabama</td>\n      <td>Blount County</td>\n      <td>59512.0</td>\n      <td>62.5</td>\n      <td>60.68</td>\n      <td>0.24</td>\n    </tr>\n  </tbody>\n</table>\n</div>"
     },
     "execution_count": 8,
     "metadata": {},
     "output_type": "execute_result"
    }
   ],
   "source": [
    "dfs = [pop, temp, preci, palm]\n",
    "for df in dfs:\n",
    "    df.set_index(['State', 'County'], inplace=True)\n",
    "\n",
    "reforestationDB = pop.join([temp, preci, palm], how='outer').reset_index()\n",
    "\n",
    "reforestationDB.fillna(0, inplace=True)\n",
    "\n",
    "reforestationDB.head()"
   ]
  },
  {
   "cell_type": "markdown",
   "id": "f9540bb2",
   "metadata": {},
   "source": [
    "## County Names edit for web scraping\n"
   ]
  },
  {
   "cell_type": "code",
   "execution_count": 9,
   "id": "d756b8e5",
   "metadata": {
    "ExecuteTime": {
     "end_time": "2023-10-04T00:21:14.437902Z",
     "start_time": "2023-10-04T00:21:14.425110Z"
    }
   },
   "outputs": [
    {
     "data": {
      "text/plain": "     State   County  Population Temperature Precipitation Palmer-Z\n0  Alabama  Autauga     59759.0        66.1         51.89    -0.26\n1  Alabama  Baldwin    246435.0        70.1         50.71    -0.84\n2  Alabama  Barbour     24706.0        66.4         48.95    -0.22\n3  Alabama     Bibb     22005.0        64.4         53.22    -0.29\n4  Alabama   Blount     59512.0        62.5         60.68     0.24",
      "text/html": "<div>\n<style scoped>\n    .dataframe tbody tr th:only-of-type {\n        vertical-align: middle;\n    }\n\n    .dataframe tbody tr th {\n        vertical-align: top;\n    }\n\n    .dataframe thead th {\n        text-align: right;\n    }\n</style>\n<table border=\"1\" class=\"dataframe\">\n  <thead>\n    <tr style=\"text-align: right;\">\n      <th></th>\n      <th>State</th>\n      <th>County</th>\n      <th>Population</th>\n      <th>Temperature</th>\n      <th>Precipitation</th>\n      <th>Palmer-Z</th>\n    </tr>\n  </thead>\n  <tbody>\n    <tr>\n      <th>0</th>\n      <td>Alabama</td>\n      <td>Autauga</td>\n      <td>59759.0</td>\n      <td>66.1</td>\n      <td>51.89</td>\n      <td>-0.26</td>\n    </tr>\n    <tr>\n      <th>1</th>\n      <td>Alabama</td>\n      <td>Baldwin</td>\n      <td>246435.0</td>\n      <td>70.1</td>\n      <td>50.71</td>\n      <td>-0.84</td>\n    </tr>\n    <tr>\n      <th>2</th>\n      <td>Alabama</td>\n      <td>Barbour</td>\n      <td>24706.0</td>\n      <td>66.4</td>\n      <td>48.95</td>\n      <td>-0.22</td>\n    </tr>\n    <tr>\n      <th>3</th>\n      <td>Alabama</td>\n      <td>Bibb</td>\n      <td>22005.0</td>\n      <td>64.4</td>\n      <td>53.22</td>\n      <td>-0.29</td>\n    </tr>\n    <tr>\n      <th>4</th>\n      <td>Alabama</td>\n      <td>Blount</td>\n      <td>59512.0</td>\n      <td>62.5</td>\n      <td>60.68</td>\n      <td>0.24</td>\n    </tr>\n  </tbody>\n</table>\n</div>"
     },
     "execution_count": 9,
     "metadata": {},
     "output_type": "execute_result"
    }
   ],
   "source": [
    "#for the url\n",
    "reforestationDB['County'] = reforestationDB['County'].str.replace(' County', '').str.strip()\n",
    "reforestationDB['County'] = reforestationDB['County'].str.replace(r'\\.\\s+', '-')\n",
    "reforestationDB['County'] = reforestationDB['County'].str.replace(' ', '-')\n",
    "reforestationDB.head()"
   ]
  },
  {
   "cell_type": "code",
   "execution_count": 10,
   "id": "42545325",
   "metadata": {
    "ExecuteTime": {
     "end_time": "2023-10-04T00:21:14.820468Z",
     "start_time": "2023-10-04T00:21:14.814241Z"
    }
   },
   "outputs": [],
   "source": [
    "# for the url\n",
    "state_abbreviations = {\n",
    "    'Alabama': 'AL',\n",
    "    'Alaska': 'AK',\n",
    "    'Arizona': 'AZ',\n",
    "    'Arkansas': 'AR',\n",
    "    'California': 'CA',\n",
    "    'Colorado': 'CO',\n",
    "    'Connecticut': 'CT',\n",
    "    'Delaware': 'DE',\n",
    "    'Florida': 'FL',\n",
    "    'Georgia': 'GA',\n",
    "    'Hawaii': 'HI',\n",
    "    'Idaho': 'ID',\n",
    "    'Illinois': 'IL',\n",
    "    'Indiana': 'IN',\n",
    "    'Iowa': 'IA',\n",
    "    'Kansas': 'KS',\n",
    "    'Kentucky': 'KY',\n",
    "    'Louisiana': 'LA',\n",
    "    'Maine': 'ME',\n",
    "    'Maryland': 'MD',\n",
    "    'Massachusetts': 'MA',\n",
    "    'Michigan': 'MI',\n",
    "    'Minnesota': 'MN',\n",
    "    'Mississippi': 'MS',\n",
    "    'Missouri': 'MO',\n",
    "    'Montana': 'MT',\n",
    "    'Nebraska': 'NE',\n",
    "    'Nevada': 'NV',\n",
    "    'New Hampshire': 'NH',\n",
    "    'New Jersey': 'NJ',\n",
    "    'New Mexico': 'NM',\n",
    "    'New York': 'NY',\n",
    "    'North Carolina': 'NC',\n",
    "    'North Dakota': 'ND',\n",
    "    'Ohio': 'OH',\n",
    "    'Oklahoma': 'OK',\n",
    "    'Oregon': 'OR',\n",
    "    'Pennsylvania': 'PA',\n",
    "    'Rhode Island': 'RI',\n",
    "    'South Carolina': 'SC',\n",
    "    'South Dakota': 'SD',\n",
    "    'Tennessee': 'TN',\n",
    "    'Texas': 'TX',\n",
    "    'Utah': 'UT',\n",
    "    'Vermont': 'VT',\n",
    "    'Virginia': 'VA',\n",
    "    'Washington': 'WA',\n",
    "    'West Virginia': 'WV',\n",
    "    'Wisconsin': 'WI',\n",
    "    'Wyoming': 'WY'\n",
    "}\n",
    "\n",
    "reforestationDB['Abbreviation'] = reforestationDB['State'].map(state_abbreviations)\n",
    "\n"
   ]
  },
  {
   "cell_type": "code",
   "execution_count": 11,
   "id": "46da20e2",
   "metadata": {
    "ExecuteTime": {
     "end_time": "2023-10-04T00:21:15.156090Z",
     "start_time": "2023-10-04T00:21:15.147738Z"
    }
   },
   "outputs": [
    {
     "data": {
      "text/plain": "     State Abbreviation   County  Population Temperature Precipitation  \\\n0  Alabama           AL  Autauga     59759.0        66.1         51.89   \n1  Alabama           AL  Baldwin    246435.0        70.1         50.71   \n2  Alabama           AL  Barbour     24706.0        66.4         48.95   \n3  Alabama           AL     Bibb     22005.0        64.4         53.22   \n4  Alabama           AL   Blount     59512.0        62.5         60.68   \n\n  Palmer-Z  \n0    -0.26  \n1    -0.84  \n2    -0.22  \n3    -0.29  \n4     0.24  ",
      "text/html": "<div>\n<style scoped>\n    .dataframe tbody tr th:only-of-type {\n        vertical-align: middle;\n    }\n\n    .dataframe tbody tr th {\n        vertical-align: top;\n    }\n\n    .dataframe thead th {\n        text-align: right;\n    }\n</style>\n<table border=\"1\" class=\"dataframe\">\n  <thead>\n    <tr style=\"text-align: right;\">\n      <th></th>\n      <th>State</th>\n      <th>Abbreviation</th>\n      <th>County</th>\n      <th>Population</th>\n      <th>Temperature</th>\n      <th>Precipitation</th>\n      <th>Palmer-Z</th>\n    </tr>\n  </thead>\n  <tbody>\n    <tr>\n      <th>0</th>\n      <td>Alabama</td>\n      <td>AL</td>\n      <td>Autauga</td>\n      <td>59759.0</td>\n      <td>66.1</td>\n      <td>51.89</td>\n      <td>-0.26</td>\n    </tr>\n    <tr>\n      <th>1</th>\n      <td>Alabama</td>\n      <td>AL</td>\n      <td>Baldwin</td>\n      <td>246435.0</td>\n      <td>70.1</td>\n      <td>50.71</td>\n      <td>-0.84</td>\n    </tr>\n    <tr>\n      <th>2</th>\n      <td>Alabama</td>\n      <td>AL</td>\n      <td>Barbour</td>\n      <td>24706.0</td>\n      <td>66.4</td>\n      <td>48.95</td>\n      <td>-0.22</td>\n    </tr>\n    <tr>\n      <th>3</th>\n      <td>Alabama</td>\n      <td>AL</td>\n      <td>Bibb</td>\n      <td>22005.0</td>\n      <td>64.4</td>\n      <td>53.22</td>\n      <td>-0.29</td>\n    </tr>\n    <tr>\n      <th>4</th>\n      <td>Alabama</td>\n      <td>AL</td>\n      <td>Blount</td>\n      <td>59512.0</td>\n      <td>62.5</td>\n      <td>60.68</td>\n      <td>0.24</td>\n    </tr>\n  </tbody>\n</table>\n</div>"
     },
     "execution_count": 11,
     "metadata": {},
     "output_type": "execute_result"
    }
   ],
   "source": [
    "reforestationDB = reforestationDB[['State', 'Abbreviation','County','Population','Temperature','Precipitation','Palmer-Z']] \n",
    "reforestationDB.head()"
   ]
  },
  {
   "cell_type": "markdown",
   "id": "01acd7eb",
   "metadata": {},
   "source": [
    "## Create and Save in New CSV"
   ]
  },
  {
   "cell_type": "code",
   "execution_count": 15,
   "id": "f4d320f4",
   "metadata": {
    "ExecuteTime": {
     "end_time": "2023-10-04T00:23:41.683881Z",
     "start_time": "2023-10-04T00:23:41.660058Z"
    }
   },
   "outputs": [],
   "source": [
    "reforestationDB.to_csv('reforestationDB.csv', index=False)"
   ]
  },
  {
   "cell_type": "code",
   "execution_count": null,
   "outputs": [],
   "source": [],
   "metadata": {
    "collapsed": false
   },
   "id": "eaee2c847eb9e1e5"
  }
 ],
 "metadata": {
  "kernelspec": {
   "display_name": "Python 3 (ipykernel)",
   "language": "python",
   "name": "python3"
  },
  "language_info": {
   "codemirror_mode": {
    "name": "ipython",
    "version": 3
   },
   "file_extension": ".py",
   "mimetype": "text/x-python",
   "name": "python",
   "nbconvert_exporter": "python",
   "pygments_lexer": "ipython3",
   "version": "3.11.5"
  }
 },
 "nbformat": 4,
 "nbformat_minor": 5
}
