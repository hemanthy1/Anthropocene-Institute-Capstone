{
 "cells": [
  {
   "cell_type": "code",
   "execution_count": 27,
   "id": "initial_id",
   "metadata": {
    "collapsed": true,
    "ExecuteTime": {
     "end_time": "2023-11-03T21:32:25.336435Z",
     "start_time": "2023-11-03T21:32:25.326318Z"
    }
   },
   "outputs": [],
   "source": [
    "import pandas as pd\n",
    "import numpy as np"
   ]
  },
  {
   "cell_type": "code",
   "execution_count": 28,
   "outputs": [
    {
     "data": {
      "text/plain": "     State Abbreviation   County  Population  Temperature  Precipitation  \\\n0  Alabama           AL  Autauga       59759         66.1          51.89   \n1  Alabama           AL  Baldwin      246435         70.1          50.71   \n2  Alabama           AL  Barbour       24706         66.4          48.95   \n3  Alabama           AL     Bibb       22005         64.4          53.22   \n4  Alabama           AL   Blount       59512         62.5          60.68   \n\n   Palmer-Z  Land-Prices  Population_Class  Temperature_Class  \\\n0     -0.26          NaN                 2                  5   \n1     -0.84          NaN                 1                  5   \n2     -0.22          NaN                 4                  5   \n3     -0.29          NaN                 4                  6   \n4      0.24          NaN                 2                  6   \n\n   Precipitation_Class  Palmer-Z_Class  Land-Prices_Class  percentile_rank  \\\n0                    3               5                  0              0.0   \n1                    3               2                  0              0.0   \n2                    3               5                  0              0.0   \n3                    1               5                  0              0.0   \n4                    1               7                  0              0.0   \n\n   Final_Class  \n0            0  \n1            0  \n2            0  \n3            0  \n4            0  ",
      "text/html": "<div>\n<style scoped>\n    .dataframe tbody tr th:only-of-type {\n        vertical-align: middle;\n    }\n\n    .dataframe tbody tr th {\n        vertical-align: top;\n    }\n\n    .dataframe thead th {\n        text-align: right;\n    }\n</style>\n<table border=\"1\" class=\"dataframe\">\n  <thead>\n    <tr style=\"text-align: right;\">\n      <th></th>\n      <th>State</th>\n      <th>Abbreviation</th>\n      <th>County</th>\n      <th>Population</th>\n      <th>Temperature</th>\n      <th>Precipitation</th>\n      <th>Palmer-Z</th>\n      <th>Land-Prices</th>\n      <th>Population_Class</th>\n      <th>Temperature_Class</th>\n      <th>Precipitation_Class</th>\n      <th>Palmer-Z_Class</th>\n      <th>Land-Prices_Class</th>\n      <th>percentile_rank</th>\n      <th>Final_Class</th>\n    </tr>\n  </thead>\n  <tbody>\n    <tr>\n      <th>0</th>\n      <td>Alabama</td>\n      <td>AL</td>\n      <td>Autauga</td>\n      <td>59759</td>\n      <td>66.1</td>\n      <td>51.89</td>\n      <td>-0.26</td>\n      <td>NaN</td>\n      <td>2</td>\n      <td>5</td>\n      <td>3</td>\n      <td>5</td>\n      <td>0</td>\n      <td>0.0</td>\n      <td>0</td>\n    </tr>\n    <tr>\n      <th>1</th>\n      <td>Alabama</td>\n      <td>AL</td>\n      <td>Baldwin</td>\n      <td>246435</td>\n      <td>70.1</td>\n      <td>50.71</td>\n      <td>-0.84</td>\n      <td>NaN</td>\n      <td>1</td>\n      <td>5</td>\n      <td>3</td>\n      <td>2</td>\n      <td>0</td>\n      <td>0.0</td>\n      <td>0</td>\n    </tr>\n    <tr>\n      <th>2</th>\n      <td>Alabama</td>\n      <td>AL</td>\n      <td>Barbour</td>\n      <td>24706</td>\n      <td>66.4</td>\n      <td>48.95</td>\n      <td>-0.22</td>\n      <td>NaN</td>\n      <td>4</td>\n      <td>5</td>\n      <td>3</td>\n      <td>5</td>\n      <td>0</td>\n      <td>0.0</td>\n      <td>0</td>\n    </tr>\n    <tr>\n      <th>3</th>\n      <td>Alabama</td>\n      <td>AL</td>\n      <td>Bibb</td>\n      <td>22005</td>\n      <td>64.4</td>\n      <td>53.22</td>\n      <td>-0.29</td>\n      <td>NaN</td>\n      <td>4</td>\n      <td>6</td>\n      <td>1</td>\n      <td>5</td>\n      <td>0</td>\n      <td>0.0</td>\n      <td>0</td>\n    </tr>\n    <tr>\n      <th>4</th>\n      <td>Alabama</td>\n      <td>AL</td>\n      <td>Blount</td>\n      <td>59512</td>\n      <td>62.5</td>\n      <td>60.68</td>\n      <td>0.24</td>\n      <td>NaN</td>\n      <td>2</td>\n      <td>6</td>\n      <td>1</td>\n      <td>7</td>\n      <td>0</td>\n      <td>0.0</td>\n      <td>0</td>\n    </tr>\n  </tbody>\n</table>\n</div>"
     },
     "execution_count": 28,
     "metadata": {},
     "output_type": "execute_result"
    }
   ],
   "source": [
    "reforestation = pd.read_csv('reforestation_new.csv')\n",
    "means = reforestation.groupby('State')['Land-Prices'].transform('mean')\n",
    "reforestation.loc[reforestation['Land-Prices'].isna(), 'Land-Prices'] = means[reforestation['Land-Prices'].isna()]\n",
    "reforestation.head()"
   ],
   "metadata": {
    "collapsed": false,
    "ExecuteTime": {
     "end_time": "2023-11-03T21:32:25.658543Z",
     "start_time": "2023-11-03T21:32:25.632076Z"
    }
   },
   "id": "871ca756ef35b5df"
  },
  {
   "cell_type": "code",
   "execution_count": 29,
   "outputs": [],
   "source": [
    "reforestation.to_csv('reforestation_new.csv',index=False)"
   ],
   "metadata": {
    "collapsed": false,
    "ExecuteTime": {
     "end_time": "2023-11-03T21:32:25.915070Z",
     "start_time": "2023-11-03T21:32:25.901979Z"
    }
   },
   "id": "385041111149a1fb"
  },
  {
   "cell_type": "code",
   "execution_count": 30,
   "outputs": [
    {
     "data": {
      "text/plain": "           State      Avg\n0    Connecticut  13700.0\n1       Delaware   9800.0\n2          Maine   2860.0\n3       Maryland   9700.0\n4  Massachusetts  15200.0",
      "text/html": "<div>\n<style scoped>\n    .dataframe tbody tr th:only-of-type {\n        vertical-align: middle;\n    }\n\n    .dataframe tbody tr th {\n        vertical-align: top;\n    }\n\n    .dataframe thead th {\n        text-align: right;\n    }\n</style>\n<table border=\"1\" class=\"dataframe\">\n  <thead>\n    <tr style=\"text-align: right;\">\n      <th></th>\n      <th>State</th>\n      <th>Avg</th>\n    </tr>\n  </thead>\n  <tbody>\n    <tr>\n      <th>0</th>\n      <td>Connecticut</td>\n      <td>13700.0</td>\n    </tr>\n    <tr>\n      <th>1</th>\n      <td>Delaware</td>\n      <td>9800.0</td>\n    </tr>\n    <tr>\n      <th>2</th>\n      <td>Maine</td>\n      <td>2860.0</td>\n    </tr>\n    <tr>\n      <th>3</th>\n      <td>Maryland</td>\n      <td>9700.0</td>\n    </tr>\n    <tr>\n      <th>4</th>\n      <td>Massachusetts</td>\n      <td>15200.0</td>\n    </tr>\n  </tbody>\n</table>\n</div>"
     },
     "execution_count": 30,
     "metadata": {},
     "output_type": "execute_result"
    }
   ],
   "source": [
    "land = pd.read_csv('land-prices-state-avg.csv')\n",
    "land.head()\n",
    "\n"
   ],
   "metadata": {
    "collapsed": false,
    "ExecuteTime": {
     "end_time": "2023-11-03T21:32:26.262085Z",
     "start_time": "2023-11-03T21:32:26.255970Z"
    }
   },
   "id": "c886ee709609acdd"
  },
  {
   "cell_type": "code",
   "execution_count": 31,
   "outputs": [],
   "source": [
    "land['State'] = land['State'].str.replace(r\"[^a-zA-Z\\s]\", '', regex=True).str.strip()\n",
    "land['Avg'] = land['Avg'].astype(str).str.replace(',', '')\n",
    "land['Avg'] = land['Avg'].astype(float)\n",
    "land.to_csv('land-prices-state-avg.csv', index=False)"
   ],
   "metadata": {
    "collapsed": false,
    "ExecuteTime": {
     "end_time": "2023-11-03T21:32:26.580047Z",
     "start_time": "2023-11-03T21:32:26.570264Z"
    }
   },
   "id": "3ac819de716d761a"
  },
  {
   "cell_type": "code",
   "execution_count": 32,
   "outputs": [
    {
     "data": {
      "text/plain": "     State Abbreviation   County  Population  Temperature  Precipitation  \\\n0  Alabama           AL  Autauga       59759         66.1          51.89   \n1  Alabama           AL  Baldwin      246435         70.1          50.71   \n2  Alabama           AL  Barbour       24706         66.4          48.95   \n3  Alabama           AL     Bibb       22005         64.4          53.22   \n4  Alabama           AL   Blount       59512         62.5          60.68   \n\n   Palmer-Z Land-Prices  Population_Class  Temperature_Class  \\\n0     -0.26      3400.0                 2                  5   \n1     -0.84      3400.0                 1                  5   \n2     -0.22      3400.0                 4                  5   \n3     -0.29      3400.0                 4                  6   \n4      0.24      3400.0                 2                  6   \n\n   Precipitation_Class  Palmer-Z_Class  Land-Prices_Class  percentile_rank  \\\n0                    3               5                  0              0.0   \n1                    3               2                  0              0.0   \n2                    3               5                  0              0.0   \n3                    1               5                  0              0.0   \n4                    1               7                  0              0.0   \n\n   Final_Class  \n0            0  \n1            0  \n2            0  \n3            0  \n4            0  ",
      "text/html": "<div>\n<style scoped>\n    .dataframe tbody tr th:only-of-type {\n        vertical-align: middle;\n    }\n\n    .dataframe tbody tr th {\n        vertical-align: top;\n    }\n\n    .dataframe thead th {\n        text-align: right;\n    }\n</style>\n<table border=\"1\" class=\"dataframe\">\n  <thead>\n    <tr style=\"text-align: right;\">\n      <th></th>\n      <th>State</th>\n      <th>Abbreviation</th>\n      <th>County</th>\n      <th>Population</th>\n      <th>Temperature</th>\n      <th>Precipitation</th>\n      <th>Palmer-Z</th>\n      <th>Land-Prices</th>\n      <th>Population_Class</th>\n      <th>Temperature_Class</th>\n      <th>Precipitation_Class</th>\n      <th>Palmer-Z_Class</th>\n      <th>Land-Prices_Class</th>\n      <th>percentile_rank</th>\n      <th>Final_Class</th>\n    </tr>\n  </thead>\n  <tbody>\n    <tr>\n      <th>0</th>\n      <td>Alabama</td>\n      <td>AL</td>\n      <td>Autauga</td>\n      <td>59759</td>\n      <td>66.1</td>\n      <td>51.89</td>\n      <td>-0.26</td>\n      <td>3400.0</td>\n      <td>2</td>\n      <td>5</td>\n      <td>3</td>\n      <td>5</td>\n      <td>0</td>\n      <td>0.0</td>\n      <td>0</td>\n    </tr>\n    <tr>\n      <th>1</th>\n      <td>Alabama</td>\n      <td>AL</td>\n      <td>Baldwin</td>\n      <td>246435</td>\n      <td>70.1</td>\n      <td>50.71</td>\n      <td>-0.84</td>\n      <td>3400.0</td>\n      <td>1</td>\n      <td>5</td>\n      <td>3</td>\n      <td>2</td>\n      <td>0</td>\n      <td>0.0</td>\n      <td>0</td>\n    </tr>\n    <tr>\n      <th>2</th>\n      <td>Alabama</td>\n      <td>AL</td>\n      <td>Barbour</td>\n      <td>24706</td>\n      <td>66.4</td>\n      <td>48.95</td>\n      <td>-0.22</td>\n      <td>3400.0</td>\n      <td>4</td>\n      <td>5</td>\n      <td>3</td>\n      <td>5</td>\n      <td>0</td>\n      <td>0.0</td>\n      <td>0</td>\n    </tr>\n    <tr>\n      <th>3</th>\n      <td>Alabama</td>\n      <td>AL</td>\n      <td>Bibb</td>\n      <td>22005</td>\n      <td>64.4</td>\n      <td>53.22</td>\n      <td>-0.29</td>\n      <td>3400.0</td>\n      <td>4</td>\n      <td>6</td>\n      <td>1</td>\n      <td>5</td>\n      <td>0</td>\n      <td>0.0</td>\n      <td>0</td>\n    </tr>\n    <tr>\n      <th>4</th>\n      <td>Alabama</td>\n      <td>AL</td>\n      <td>Blount</td>\n      <td>59512</td>\n      <td>62.5</td>\n      <td>60.68</td>\n      <td>0.24</td>\n      <td>3400.0</td>\n      <td>2</td>\n      <td>6</td>\n      <td>1</td>\n      <td>7</td>\n      <td>0</td>\n      <td>0.0</td>\n      <td>0</td>\n    </tr>\n  </tbody>\n</table>\n</div>"
     },
     "execution_count": 32,
     "metadata": {},
     "output_type": "execute_result"
    }
   ],
   "source": [
    "state_to_avg = pd.Series(land.Avg.values,index=land.State).to_dict()\n",
    "\n",
    "reforestation['Land-Prices'] = reforestation.apply(\n",
    "    lambda row: state_to_avg.get(row['State'], pd.NA) if pd.isna(row['Land-Prices']) else row['Land-Prices'],\n",
    "    axis=1\n",
    ")\n",
    "reforestation.head()"
   ],
   "metadata": {
    "collapsed": false,
    "ExecuteTime": {
     "end_time": "2023-11-03T21:32:26.944414Z",
     "start_time": "2023-11-03T21:32:26.923839Z"
    }
   },
   "id": "9d0227b091da9b9"
  },
  {
   "cell_type": "code",
   "execution_count": 33,
   "outputs": [],
   "source": [
    "reforestation.to_csv('reforestation_new.csv',index=False)"
   ],
   "metadata": {
    "collapsed": false,
    "ExecuteTime": {
     "end_time": "2023-11-03T21:32:27.281538Z",
     "start_time": "2023-11-03T21:32:27.268469Z"
    }
   },
   "id": "d5f60f6d7b134f02"
  },
  {
   "cell_type": "code",
   "execution_count": null,
   "outputs": [],
   "source": [],
   "metadata": {
    "collapsed": false
   },
   "id": "13b56ec2b0f32f90"
  }
 ],
 "metadata": {
  "kernelspec": {
   "display_name": "Python 3",
   "language": "python",
   "name": "python3"
  },
  "language_info": {
   "codemirror_mode": {
    "name": "ipython",
    "version": 2
   },
   "file_extension": ".py",
   "mimetype": "text/x-python",
   "name": "python",
   "nbconvert_exporter": "python",
   "pygments_lexer": "ipython2",
   "version": "2.7.6"
  }
 },
 "nbformat": 4,
 "nbformat_minor": 5
}
