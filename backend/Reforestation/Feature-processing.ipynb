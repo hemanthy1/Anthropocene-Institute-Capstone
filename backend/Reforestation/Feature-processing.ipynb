{
 "cells": [
  {
   "cell_type": "code",
   "execution_count": 58,
   "id": "initial_id",
   "metadata": {
    "collapsed": true,
    "ExecuteTime": {
     "end_time": "2023-10-18T23:01:53.590710Z",
     "start_time": "2023-10-18T23:01:53.584175Z"
    }
   },
   "outputs": [],
   "source": [
    "import pandas as pd\n",
    "import numpy as np\n",
    "import matplotlib.pyplot as plt "
   ]
  },
  {
   "cell_type": "code",
   "execution_count": 59,
   "outputs": [
    {
     "data": {
      "text/plain": "     State Abbreviation    County  Population  Temperature  Precipitation  \\\n0  Georgia           GA   Appling       18428         68.0          52.38   \n1  Georgia           GA  Atkinson        8183         67.6          50.33   \n2  Georgia           GA     Bacon       11191         68.2          51.25   \n3  Georgia           GA     Baker        2788         68.6          45.67   \n4  Georgia           GA   Baldwin       43635         65.4          49.83   \n\n   Palmer-Z  Land-Prices  \n0      0.15       3494.0  \n1      0.04       2839.0  \n2      0.06       3547.0  \n3     -0.43       3303.0  \n4      0.33          0.0  ",
      "text/html": "<div>\n<style scoped>\n    .dataframe tbody tr th:only-of-type {\n        vertical-align: middle;\n    }\n\n    .dataframe tbody tr th {\n        vertical-align: top;\n    }\n\n    .dataframe thead th {\n        text-align: right;\n    }\n</style>\n<table border=\"1\" class=\"dataframe\">\n  <thead>\n    <tr style=\"text-align: right;\">\n      <th></th>\n      <th>State</th>\n      <th>Abbreviation</th>\n      <th>County</th>\n      <th>Population</th>\n      <th>Temperature</th>\n      <th>Precipitation</th>\n      <th>Palmer-Z</th>\n      <th>Land-Prices</th>\n    </tr>\n  </thead>\n  <tbody>\n    <tr>\n      <th>0</th>\n      <td>Georgia</td>\n      <td>GA</td>\n      <td>Appling</td>\n      <td>18428</td>\n      <td>68.0</td>\n      <td>52.38</td>\n      <td>0.15</td>\n      <td>3494.0</td>\n    </tr>\n    <tr>\n      <th>1</th>\n      <td>Georgia</td>\n      <td>GA</td>\n      <td>Atkinson</td>\n      <td>8183</td>\n      <td>67.6</td>\n      <td>50.33</td>\n      <td>0.04</td>\n      <td>2839.0</td>\n    </tr>\n    <tr>\n      <th>2</th>\n      <td>Georgia</td>\n      <td>GA</td>\n      <td>Bacon</td>\n      <td>11191</td>\n      <td>68.2</td>\n      <td>51.25</td>\n      <td>0.06</td>\n      <td>3547.0</td>\n    </tr>\n    <tr>\n      <th>3</th>\n      <td>Georgia</td>\n      <td>GA</td>\n      <td>Baker</td>\n      <td>2788</td>\n      <td>68.6</td>\n      <td>45.67</td>\n      <td>-0.43</td>\n      <td>3303.0</td>\n    </tr>\n    <tr>\n      <th>4</th>\n      <td>Georgia</td>\n      <td>GA</td>\n      <td>Baldwin</td>\n      <td>43635</td>\n      <td>65.4</td>\n      <td>49.83</td>\n      <td>0.33</td>\n      <td>0.0</td>\n    </tr>\n  </tbody>\n</table>\n</div>"
     },
     "execution_count": 59,
     "metadata": {},
     "output_type": "execute_result"
    }
   ],
   "source": [
    "reforestation = pd.read_csv('filter-reforest.csv')\n",
    "means = reforestation.groupby('State')['Land-Prices'].transform('mean')\n",
    "reforestation.loc[reforestation['Land-Prices'].isna(), 'Land-Prices'] = means[reforestation['Land-Prices'].isna()]\n",
    "reforestation.head()"
   ],
   "metadata": {
    "collapsed": false,
    "ExecuteTime": {
     "end_time": "2023-10-18T23:01:54.998311Z",
     "start_time": "2023-10-18T23:01:54.978483Z"
    }
   },
   "id": "b63104ad4f40132e"
  },
  {
   "cell_type": "code",
   "execution_count": 60,
   "outputs": [
    {
     "data": {
      "text/plain": "0"
     },
     "execution_count": 60,
     "metadata": {},
     "output_type": "execute_result"
    }
   ],
   "source": [
    "reforestation['Land-Prices'].isna().sum()"
   ],
   "metadata": {
    "collapsed": false,
    "ExecuteTime": {
     "end_time": "2023-10-18T23:02:00.523594Z",
     "start_time": "2023-10-18T23:02:00.518524Z"
    }
   },
   "id": "4d92a5804b75929"
  },
  {
   "cell_type": "code",
   "execution_count": 61,
   "outputs": [],
   "source": [
    "# plt.figure(figsize=(10, 6))\n",
    "# plt.hist(pop_sorted, bins=50, edgecolor='black')\n",
    "# for i, q in enumerate(quantiles):\n",
    "#     plt.axvline(x=q, color='red', label=f'{i+1}: {q:.2f}')\n",
    "# \n",
    "# plt.xlabel(\"Population\")\n",
    "# plt.ylabel(\"Frequency\")\n",
    "# plt.title(\"Distribution of Population Data with Boundaries\")\n",
    "# plt.legend()\n",
    "# plt.show()"
   ],
   "metadata": {
    "collapsed": false,
    "ExecuteTime": {
     "end_time": "2023-10-18T23:02:01.666743Z",
     "start_time": "2023-10-18T23:02:01.659498Z"
    }
   },
   "id": "6fff0661f8e7fc6d"
  },
  {
   "cell_type": "code",
   "execution_count": 62,
   "outputs": [],
   "source": [
    "import pandas as pd\n",
    "\n",
    "def assign_classes(df, column_name, output_col, labels):\n",
    "    col_sorted = df[column_name].sort_values().reset_index(drop=True)\n",
    "    quantiles = []\n",
    "    if column_name == 'Land-Prices':\n",
    "        n=8\n",
    "    else:\n",
    "        n = 7\n",
    "        quantiles.append(-float('inf'))\n",
    "        \n",
    "    for i in range(1, n):\n",
    "        q = col_sorted.quantile(i/n)\n",
    "        quantiles.append(q)\n",
    "    quantiles.append(float('inf'))\n",
    "\n",
    "    df[output_col] = pd.cut(df[column_name], bins=quantiles, labels=labels, right=False)\n",
    "    return df\n",
    "\n",
    "def update_csv(in_filename,out_filename,columns,class_columns,labels): \n",
    "    reforestation = pd.read_csv(in_filename)\n",
    "    for i in range(len(columns)):\n",
    "        name = columns[i]\n",
    "        class_column =class_columns[i]\n",
    "        label=labels[i]\n",
    "        reforestation = assign_classes(reforestation,name,class_column,label)\n",
    "    print(reforestation.head())\n",
    "    reforestation.to_csv(out_filename, index=False)\n",
    "\n",
    "      "
   ],
   "metadata": {
    "collapsed": false,
    "ExecuteTime": {
     "end_time": "2023-10-18T23:02:03.794860Z",
     "start_time": "2023-10-18T23:02:03.792638Z"
    }
   },
   "id": "4f1df5d8ca86635d"
  },
  {
   "cell_type": "code",
   "execution_count": 63,
   "outputs": [
    {
     "name": "stdout",
     "output_type": "stream",
     "text": [
      "     State Abbreviation    County  Population  Temperature  Precipitation  \\\n",
      "0  Georgia           GA   Appling       18428         68.0          52.38   \n",
      "1  Georgia           GA  Atkinson        8183         67.6          50.33   \n",
      "2  Georgia           GA     Bacon       11191         68.2          51.25   \n",
      "3  Georgia           GA     Baker        2788         68.6          45.67   \n",
      "4  Georgia           GA   Baldwin       43635         65.4          49.83   \n",
      "\n",
      "   Palmer-Z  Land-Prices Population_Class Temperature_Class  \\\n",
      "0      0.15       3494.0                5                 5   \n",
      "1      0.04       2839.0                7                 5   \n",
      "2      0.06       3547.0                6                 5   \n",
      "3     -0.43       3303.0                7                 5   \n",
      "4      0.33          0.0                3                 5   \n",
      "\n",
      "  Precipitation_Class Palmer-Z_Class Land-Prices_Class  \n",
      "0                   1              7                 6  \n",
      "1                   3              6                 7  \n",
      "2                   1              6                 6  \n",
      "3                   5              3                 6  \n",
      "4                   3              4                 7  \n"
     ]
    }
   ],
   "source": [
    "filter_csv_columns = ['Population','Temperature','Precipitation','Palmer-Z','Land-Prices']\n",
    "class_columns = [col + '_Class' for col in filter_csv_columns]\n",
    "labels = [[7,6,5,4,3,2,1],[1, 2, 3, 4, 7, 6, 5],[2, 4, 6, 7, 5, 3, 1],[1,2,3,5,6,7,4],[7,6,5,4,3,2,1]]\n",
    "\n",
    "update_csv('filter-reforest.csv','filter-reforest.csv',filter_csv_columns,class_columns,labels)\n",
    "    "
   ],
   "metadata": {
    "collapsed": false,
    "ExecuteTime": {
     "end_time": "2023-10-18T23:02:20.863464Z",
     "start_time": "2023-10-18T23:02:20.835677Z"
    }
   },
   "id": "7c19b61782d9462d"
  },
  {
   "cell_type": "code",
   "execution_count": 69,
   "outputs": [],
   "source": [
    "ref = pd.read_csv('reforestationDB.csv')\n",
    "ref = ref[ref['State'] != 'Alaska']\n",
    "ref.to_csv('feature_classes.csv', index=False)"
   ],
   "metadata": {
    "collapsed": false,
    "ExecuteTime": {
     "end_time": "2023-10-18T23:33:11.186356Z",
     "start_time": "2023-10-18T23:33:11.162321Z"
    }
   },
   "id": "d2ee196e67d44485"
  },
  {
   "cell_type": "code",
   "execution_count": 72,
   "outputs": [
    {
     "name": "stdout",
     "output_type": "stream",
     "text": [
      "     State Abbreviation   County  Population  Temperature  Precipitation  \\\n",
      "0  Alabama           AL  Autauga       59759         66.1          51.89   \n",
      "1  Alabama           AL  Baldwin      246435         70.1          50.71   \n",
      "2  Alabama           AL  Barbour       24706         66.4          48.95   \n",
      "3  Alabama           AL     Bibb       22005         64.4          53.22   \n",
      "4  Alabama           AL   Blount       59512         62.5          60.68   \n",
      "\n",
      "   Palmer-Z  Land-Prices Population_Class Temperature_Class  \\\n",
      "0     -0.26          0.0                2                 5   \n",
      "1     -0.84          0.0                1                 5   \n",
      "2     -0.22          0.0                4                 5   \n",
      "3     -0.29          0.0                4                 6   \n",
      "4      0.24          0.0                2                 6   \n",
      "\n",
      "  Precipitation_Class Palmer-Z_Class  \n",
      "0                   3              5  \n",
      "1                   3              2  \n",
      "2                   3              5  \n",
      "3                   1              5  \n",
      "4                   1              7  \n"
     ]
    }
   ],
   "source": [
    "feature_columns = ['Population','Temperature','Precipitation','Palmer-Z']\n",
    "class_columns = [col + '_Class' for col in feature_columns]\n",
    "labels = [[7,6,5,4,3,2,1],[1, 2, 3, 4, 7, 6, 5],[2, 4, 6, 7, 5, 3, 1],[1,2,3,5,6,7,4]]\n",
    "update_csv('feature_classes.csv','feature_classes.csv',feature_columns,class_columns,labels)"
   ],
   "metadata": {
    "collapsed": false,
    "ExecuteTime": {
     "end_time": "2023-10-18T23:34:22.752435Z",
     "start_time": "2023-10-18T23:34:22.715412Z"
    }
   },
   "id": "c98bde73907f96c2"
  },
  {
   "cell_type": "code",
   "execution_count": null,
   "outputs": [],
   "source": [],
   "metadata": {
    "collapsed": false
   },
   "id": "3eb9b5f77920030a"
  }
 ],
 "metadata": {
  "kernelspec": {
   "display_name": "Python 3",
   "language": "python",
   "name": "python3"
  },
  "language_info": {
   "codemirror_mode": {
    "name": "ipython",
    "version": 2
   },
   "file_extension": ".py",
   "mimetype": "text/x-python",
   "name": "python",
   "nbconvert_exporter": "python",
   "pygments_lexer": "ipython2",
   "version": "2.7.6"
  }
 },
 "nbformat": 4,
 "nbformat_minor": 5
}
