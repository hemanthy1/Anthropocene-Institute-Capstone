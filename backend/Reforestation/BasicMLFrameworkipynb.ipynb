{
 "cells": [
  {
   "cell_type": "markdown",
   "metadata": {
    "pycharm": {
     "name": "#%% md\n"
    }
   },
   "source": [
    "# Machine Learning Model Framework - K-Means Clustering"
   ]
  },
  {
   "cell_type": "code",
   "execution_count": 1,
   "metadata": {
    "pycharm": {
     "name": "#%%\n"
    },
    "ExecuteTime": {
     "end_time": "2023-10-20T19:54:11.625514Z",
     "start_time": "2023-10-20T19:54:10.474926Z"
    }
   },
   "outputs": [],
   "source": [
    "import pandas as pd\n",
    "from sklearn.model_selection import train_test_split\n",
    "from sklearn.ensemble import RandomForestClassifier\n",
    "from sklearn.metrics import accuracy_score\n",
    "from math import ceil"
   ]
  },
  {
   "cell_type": "code",
   "execution_count": 4,
   "metadata": {
    "pycharm": {
     "name": "#%%\n"
    },
    "ExecuteTime": {
     "end_time": "2023-10-19T16:04:00.546265Z",
     "start_time": "2023-10-19T16:04:00.526514Z"
    }
   },
   "outputs": [
    {
     "data": {
      "text/plain": "     State Abbreviation    County  Population  Temperature  Precipitation  \\\n0  Georgia           GA   Appling       18428         68.0          52.38   \n1  Georgia           GA  Atkinson        8183         67.6          50.33   \n2  Georgia           GA     Bacon       11191         68.2          51.25   \n3  Georgia           GA     Baker        2788         68.6          45.67   \n4  Georgia           GA   Baldwin       43635         65.4          49.83   \n\n   Palmer-Z  Land-Prices  Population_Class  Temperature_Class  \\\n0      0.15       3494.0                 5                  5   \n1      0.04       2839.0                 7                  5   \n2      0.06       3547.0                 6                  5   \n3     -0.43       3303.0                 7                  5   \n4      0.33          0.0                 3                  5   \n\n   Precipitation_Class  Palmer-Z_Class  Land-Prices_Class  percentile_rank  \\\n0                    1               7                  6             0.79   \n1                    3               6                  7             0.95   \n2                    1               6                  6             0.79   \n3                    5               3                  6             0.89   \n4                    3               4                  7             0.63   \n\n   Final_Class  \n0            6  \n1            7  \n2            6  \n3            7  \n4            5  ",
      "text/html": "<div>\n<style scoped>\n    .dataframe tbody tr th:only-of-type {\n        vertical-align: middle;\n    }\n\n    .dataframe tbody tr th {\n        vertical-align: top;\n    }\n\n    .dataframe thead th {\n        text-align: right;\n    }\n</style>\n<table border=\"1\" class=\"dataframe\">\n  <thead>\n    <tr style=\"text-align: right;\">\n      <th></th>\n      <th>State</th>\n      <th>Abbreviation</th>\n      <th>County</th>\n      <th>Population</th>\n      <th>Temperature</th>\n      <th>Precipitation</th>\n      <th>Palmer-Z</th>\n      <th>Land-Prices</th>\n      <th>Population_Class</th>\n      <th>Temperature_Class</th>\n      <th>Precipitation_Class</th>\n      <th>Palmer-Z_Class</th>\n      <th>Land-Prices_Class</th>\n      <th>percentile_rank</th>\n      <th>Final_Class</th>\n    </tr>\n  </thead>\n  <tbody>\n    <tr>\n      <th>0</th>\n      <td>Georgia</td>\n      <td>GA</td>\n      <td>Appling</td>\n      <td>18428</td>\n      <td>68.0</td>\n      <td>52.38</td>\n      <td>0.15</td>\n      <td>3494.0</td>\n      <td>5</td>\n      <td>5</td>\n      <td>1</td>\n      <td>7</td>\n      <td>6</td>\n      <td>0.79</td>\n      <td>6</td>\n    </tr>\n    <tr>\n      <th>1</th>\n      <td>Georgia</td>\n      <td>GA</td>\n      <td>Atkinson</td>\n      <td>8183</td>\n      <td>67.6</td>\n      <td>50.33</td>\n      <td>0.04</td>\n      <td>2839.0</td>\n      <td>7</td>\n      <td>5</td>\n      <td>3</td>\n      <td>6</td>\n      <td>7</td>\n      <td>0.95</td>\n      <td>7</td>\n    </tr>\n    <tr>\n      <th>2</th>\n      <td>Georgia</td>\n      <td>GA</td>\n      <td>Bacon</td>\n      <td>11191</td>\n      <td>68.2</td>\n      <td>51.25</td>\n      <td>0.06</td>\n      <td>3547.0</td>\n      <td>6</td>\n      <td>5</td>\n      <td>1</td>\n      <td>6</td>\n      <td>6</td>\n      <td>0.79</td>\n      <td>6</td>\n    </tr>\n    <tr>\n      <th>3</th>\n      <td>Georgia</td>\n      <td>GA</td>\n      <td>Baker</td>\n      <td>2788</td>\n      <td>68.6</td>\n      <td>45.67</td>\n      <td>-0.43</td>\n      <td>3303.0</td>\n      <td>7</td>\n      <td>5</td>\n      <td>5</td>\n      <td>3</td>\n      <td>6</td>\n      <td>0.89</td>\n      <td>7</td>\n    </tr>\n    <tr>\n      <th>4</th>\n      <td>Georgia</td>\n      <td>GA</td>\n      <td>Baldwin</td>\n      <td>43635</td>\n      <td>65.4</td>\n      <td>49.83</td>\n      <td>0.33</td>\n      <td>0.0</td>\n      <td>3</td>\n      <td>5</td>\n      <td>3</td>\n      <td>4</td>\n      <td>7</td>\n      <td>0.63</td>\n      <td>5</td>\n    </tr>\n  </tbody>\n</table>\n</div>"
     },
     "execution_count": 4,
     "metadata": {},
     "output_type": "execute_result"
    }
   ],
   "source": [
    "data = pd.read_csv('filter-reforest.csv')\n",
    "data.head()\n",
    "\n",
    "#example file. : {county, state, country, land_cost, etc}"
   ]
  },
  {
   "cell_type": "code",
   "execution_count": 5,
   "outputs": [
    {
     "data": {
      "text/plain": "     State Abbreviation    County  Population  Temperature  Precipitation  \\\n0  Georgia           GA   Appling       18428         68.0          52.38   \n1  Georgia           GA  Atkinson        8183         67.6          50.33   \n2  Georgia           GA     Bacon       11191         68.2          51.25   \n3  Georgia           GA     Baker        2788         68.6          45.67   \n4  Georgia           GA   Baldwin       43635         65.4          49.83   \n\n   Palmer-Z  Land-Prices  Population_Class  Temperature_Class  \\\n0      0.15       3494.0                 5                  5   \n1      0.04       2839.0                 7                  5   \n2      0.06       3547.0                 6                  5   \n3     -0.43       3303.0                 7                  5   \n4      0.33          0.0                 3                  5   \n\n   Precipitation_Class  Palmer-Z_Class  Land-Prices_Class  percentile_rank  \\\n0                    1               7                  6             0.79   \n1                    3               6                  7             0.95   \n2                    1               6                  6             0.79   \n3                    5               3                  6             0.89   \n4                    3               4                  7             0.63   \n\n   Final_Class  \n0            6  \n1            7  \n2            6  \n3            7  \n4            5  ",
      "text/html": "<div>\n<style scoped>\n    .dataframe tbody tr th:only-of-type {\n        vertical-align: middle;\n    }\n\n    .dataframe tbody tr th {\n        vertical-align: top;\n    }\n\n    .dataframe thead th {\n        text-align: right;\n    }\n</style>\n<table border=\"1\" class=\"dataframe\">\n  <thead>\n    <tr style=\"text-align: right;\">\n      <th></th>\n      <th>State</th>\n      <th>Abbreviation</th>\n      <th>County</th>\n      <th>Population</th>\n      <th>Temperature</th>\n      <th>Precipitation</th>\n      <th>Palmer-Z</th>\n      <th>Land-Prices</th>\n      <th>Population_Class</th>\n      <th>Temperature_Class</th>\n      <th>Precipitation_Class</th>\n      <th>Palmer-Z_Class</th>\n      <th>Land-Prices_Class</th>\n      <th>percentile_rank</th>\n      <th>Final_Class</th>\n    </tr>\n  </thead>\n  <tbody>\n    <tr>\n      <th>0</th>\n      <td>Georgia</td>\n      <td>GA</td>\n      <td>Appling</td>\n      <td>18428</td>\n      <td>68.0</td>\n      <td>52.38</td>\n      <td>0.15</td>\n      <td>3494.0</td>\n      <td>5</td>\n      <td>5</td>\n      <td>1</td>\n      <td>7</td>\n      <td>6</td>\n      <td>0.79</td>\n      <td>6</td>\n    </tr>\n    <tr>\n      <th>1</th>\n      <td>Georgia</td>\n      <td>GA</td>\n      <td>Atkinson</td>\n      <td>8183</td>\n      <td>67.6</td>\n      <td>50.33</td>\n      <td>0.04</td>\n      <td>2839.0</td>\n      <td>7</td>\n      <td>5</td>\n      <td>3</td>\n      <td>6</td>\n      <td>7</td>\n      <td>0.95</td>\n      <td>7</td>\n    </tr>\n    <tr>\n      <th>2</th>\n      <td>Georgia</td>\n      <td>GA</td>\n      <td>Bacon</td>\n      <td>11191</td>\n      <td>68.2</td>\n      <td>51.25</td>\n      <td>0.06</td>\n      <td>3547.0</td>\n      <td>6</td>\n      <td>5</td>\n      <td>1</td>\n      <td>6</td>\n      <td>6</td>\n      <td>0.79</td>\n      <td>6</td>\n    </tr>\n    <tr>\n      <th>3</th>\n      <td>Georgia</td>\n      <td>GA</td>\n      <td>Baker</td>\n      <td>2788</td>\n      <td>68.6</td>\n      <td>45.67</td>\n      <td>-0.43</td>\n      <td>3303.0</td>\n      <td>7</td>\n      <td>5</td>\n      <td>5</td>\n      <td>3</td>\n      <td>6</td>\n      <td>0.89</td>\n      <td>7</td>\n    </tr>\n    <tr>\n      <th>4</th>\n      <td>Georgia</td>\n      <td>GA</td>\n      <td>Baldwin</td>\n      <td>43635</td>\n      <td>65.4</td>\n      <td>49.83</td>\n      <td>0.33</td>\n      <td>0.0</td>\n      <td>3</td>\n      <td>5</td>\n      <td>3</td>\n      <td>4</td>\n      <td>7</td>\n      <td>0.63</td>\n      <td>5</td>\n    </tr>\n  </tbody>\n</table>\n</div>"
     },
     "execution_count": 5,
     "metadata": {},
     "output_type": "execute_result"
    }
   ],
   "source": [
    "avg_scores = data[['Population_Class','Temperature_Class','Precipitation_Class', 'Palmer-Z_Class','Land-Prices_Class']].mean(axis=1)\n",
    "\n",
    "data['percentile_rank'] = avg_scores.rank(pct=True).round(2)\n",
    "\n",
    "data['Final_Class'] = data['percentile_rank'].apply(lambda x: ceil(x * 7))\n",
    "\n",
    "data.head()"
   ],
   "metadata": {
    "collapsed": false,
    "ExecuteTime": {
     "end_time": "2023-10-19T16:04:00.592515Z",
     "start_time": "2023-10-19T16:04:00.550417Z"
    }
   }
  },
  {
   "cell_type": "code",
   "execution_count": 6,
   "outputs": [
    {
     "name": "stdout",
     "output_type": "stream",
     "text": [
      "Accuracy: 0.935\n"
     ]
    }
   ],
   "source": [
    "features = ['Population_Class', 'Temperature_Class', 'Precipitation_Class', 'Palmer-Z_Class', 'Land-Prices_Class']\n",
    "X = data[features]\n",
    "y = data['Final_Class']\n",
    "\n",
    "X_train, X_test, y_train, y_test = train_test_split(X, y, test_size=0.2, random_state=42)\n",
    "\n",
    "from sklearn.svm import SVC\n",
    "from sklearn.metrics import accuracy_score\n",
    "from sklearn.preprocessing import StandardScaler\n",
    "\n",
    "scaler = StandardScaler()\n",
    "X_train_scaled = scaler.fit_transform(X_train)\n",
    "X_test_scaled = scaler.transform(X_test)\n",
    "\n",
    "clf_svm = SVC(kernel='linear', C=0.1)  \n",
    "\n",
    "clf_svm.fit(X_train_scaled, y_train)\n",
    "\n",
    "y_pred = clf_svm.predict(X_test_scaled)\n",
    "\n",
    "print(\"Accuracy:\", accuracy_score(y_test, y_pred))\n"
   ],
   "metadata": {
    "collapsed": false,
    "ExecuteTime": {
     "end_time": "2023-10-19T16:04:00.612092Z",
     "start_time": "2023-10-19T16:04:00.561351Z"
    }
   }
  },
  {
   "cell_type": "code",
   "execution_count": 7,
   "outputs": [
    {
     "name": "stdout",
     "output_type": "stream",
     "text": [
      "Accuracy: 0.74\n"
     ]
    }
   ],
   "source": [
    "clf_random = RandomForestClassifier(n_estimators=100, random_state=42)\n",
    "\n",
    "clf_random.fit(X_train, y_train)\n",
    "\n",
    "y_pred = clf_random.predict(X_test)\n",
    "\n",
    "print(\"Accuracy:\", accuracy_score(y_test, y_pred))"
   ],
   "metadata": {
    "collapsed": false,
    "ExecuteTime": {
     "end_time": "2023-10-19T16:04:00.706214Z",
     "start_time": "2023-10-19T16:04:00.580878Z"
    }
   }
  },
  {
   "cell_type": "code",
   "execution_count": 47,
   "outputs": [],
   "source": [
    "data.to_csv('filter-reforest.csv', index=False)"
   ],
   "metadata": {
    "collapsed": false,
    "ExecuteTime": {
     "end_time": "2023-10-18T23:49:21.467241Z",
     "start_time": "2023-10-18T23:49:21.456381Z"
    }
   }
  },
  {
   "cell_type": "code",
   "execution_count": null,
   "outputs": [],
   "source": [],
   "metadata": {
    "collapsed": false
   }
  }
 ],
 "metadata": {
  "kernelspec": {
   "display_name": "Python 3 (ipykernel)",
   "language": "python",
   "name": "python3"
  },
  "language_info": {
   "codemirror_mode": {
    "name": "ipython",
    "version": 3
   },
   "file_extension": ".py",
   "mimetype": "text/x-python",
   "name": "python",
   "nbconvert_exporter": "python",
   "pygments_lexer": "ipython3",
   "version": "3.9.7"
  }
 },
 "nbformat": 4,
 "nbformat_minor": 1
}
