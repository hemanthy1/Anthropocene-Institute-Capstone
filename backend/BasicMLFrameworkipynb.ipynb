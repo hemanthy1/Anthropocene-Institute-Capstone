{
 "cells": [
  {
   "cell_type": "markdown",
   "metadata": {
    "pycharm": {
     "name": "#%% md\n"
    }
   },
   "source": [
    "# Machine Learning Model Framework - K-Means Clustering"
   ]
  },
  {
   "cell_type": "code",
   "execution_count": 2,
   "metadata": {
    "pycharm": {
     "name": "#%%\n"
    },
    "ExecuteTime": {
     "end_time": "2023-10-06T04:58:40.116135Z",
     "start_time": "2023-10-06T04:58:39.012391Z"
    }
   },
   "outputs": [],
   "source": [
    "from sklearn.cluster import KMeans\n",
    "import pandas as pd\n"
   ]
  },
  {
   "cell_type": "code",
   "execution_count": 3,
   "metadata": {
    "pycharm": {
     "name": "#%%\n"
    },
    "ExecuteTime": {
     "end_time": "2023-10-06T04:58:40.131896Z",
     "start_time": "2023-10-06T04:58:40.117849Z"
    }
   },
   "outputs": [
    {
     "data": {
      "text/plain": "     State Abbreviation    County  Population  Temperature  Precipitation  \\\n0  Georgia           GA   Appling       18428         68.0          52.38   \n1  Georgia           GA  Atkinson        8183         67.6          50.33   \n2  Georgia           GA     Bacon       11191         68.2          51.25   \n3  Georgia           GA     Baker        2788         68.6          45.67   \n4  Georgia           GA   Baldwin       43635         65.4          49.83   \n\n   Palmer-Z  Land-Prices  temp-class  pop-class  preci-class  palm-class  \\\n0      0.15       3494.0           5          5            1           6   \n1      0.04       2839.0           5          7            3           5   \n2      0.06       3547.0           5          6            1           5   \n3     -0.43       3303.0           5          7            5           3   \n4      0.33          0.0           5          3            3           7   \n\n   land-class  \n0           3  \n1           2  \n2           3  \n3           2  \n4           2  ",
      "text/html": "<div>\n<style scoped>\n    .dataframe tbody tr th:only-of-type {\n        vertical-align: middle;\n    }\n\n    .dataframe tbody tr th {\n        vertical-align: top;\n    }\n\n    .dataframe thead th {\n        text-align: right;\n    }\n</style>\n<table border=\"1\" class=\"dataframe\">\n  <thead>\n    <tr style=\"text-align: right;\">\n      <th></th>\n      <th>State</th>\n      <th>Abbreviation</th>\n      <th>County</th>\n      <th>Population</th>\n      <th>Temperature</th>\n      <th>Precipitation</th>\n      <th>Palmer-Z</th>\n      <th>Land-Prices</th>\n      <th>temp-class</th>\n      <th>pop-class</th>\n      <th>preci-class</th>\n      <th>palm-class</th>\n      <th>land-class</th>\n    </tr>\n  </thead>\n  <tbody>\n    <tr>\n      <th>0</th>\n      <td>Georgia</td>\n      <td>GA</td>\n      <td>Appling</td>\n      <td>18428</td>\n      <td>68.0</td>\n      <td>52.38</td>\n      <td>0.15</td>\n      <td>3494.0</td>\n      <td>5</td>\n      <td>5</td>\n      <td>1</td>\n      <td>6</td>\n      <td>3</td>\n    </tr>\n    <tr>\n      <th>1</th>\n      <td>Georgia</td>\n      <td>GA</td>\n      <td>Atkinson</td>\n      <td>8183</td>\n      <td>67.6</td>\n      <td>50.33</td>\n      <td>0.04</td>\n      <td>2839.0</td>\n      <td>5</td>\n      <td>7</td>\n      <td>3</td>\n      <td>5</td>\n      <td>2</td>\n    </tr>\n    <tr>\n      <th>2</th>\n      <td>Georgia</td>\n      <td>GA</td>\n      <td>Bacon</td>\n      <td>11191</td>\n      <td>68.2</td>\n      <td>51.25</td>\n      <td>0.06</td>\n      <td>3547.0</td>\n      <td>5</td>\n      <td>6</td>\n      <td>1</td>\n      <td>5</td>\n      <td>3</td>\n    </tr>\n    <tr>\n      <th>3</th>\n      <td>Georgia</td>\n      <td>GA</td>\n      <td>Baker</td>\n      <td>2788</td>\n      <td>68.6</td>\n      <td>45.67</td>\n      <td>-0.43</td>\n      <td>3303.0</td>\n      <td>5</td>\n      <td>7</td>\n      <td>5</td>\n      <td>3</td>\n      <td>2</td>\n    </tr>\n    <tr>\n      <th>4</th>\n      <td>Georgia</td>\n      <td>GA</td>\n      <td>Baldwin</td>\n      <td>43635</td>\n      <td>65.4</td>\n      <td>49.83</td>\n      <td>0.33</td>\n      <td>0.0</td>\n      <td>5</td>\n      <td>3</td>\n      <td>3</td>\n      <td>7</td>\n      <td>2</td>\n    </tr>\n  </tbody>\n</table>\n</div>"
     },
     "execution_count": 3,
     "metadata": {},
     "output_type": "execute_result"
    }
   ],
   "source": [
    "data = pd.read_csv('filter-reforest.csv')\n",
    "data.head()\n",
    "\n",
    "#example file. : {county, state, country, land_cost, etc}"
   ]
  }
 ],
 "metadata": {
  "kernelspec": {
   "display_name": "Python 3 (ipykernel)",
   "language": "python",
   "name": "python3"
  },
  "language_info": {
   "codemirror_mode": {
    "name": "ipython",
    "version": 3
   },
   "file_extension": ".py",
   "mimetype": "text/x-python",
   "name": "python",
   "nbconvert_exporter": "python",
   "pygments_lexer": "ipython3",
   "version": "3.9.7"
  }
 },
 "nbformat": 4,
 "nbformat_minor": 1
}
