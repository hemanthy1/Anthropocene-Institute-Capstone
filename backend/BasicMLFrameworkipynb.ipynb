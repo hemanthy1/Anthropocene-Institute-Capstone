{
 "cells": [
  {
   "cell_type": "markdown",
   "metadata": {
    "pycharm": {
     "name": "#%% md\n"
    }
   },
   "source": [
    "# Machine Learning Model Framework - K-Means Clustering"
   ]
  },
  {
   "cell_type": "code",
   "execution_count": 11,
   "metadata": {
    "pycharm": {
     "name": "#%%\n"
    },
    "ExecuteTime": {
     "end_time": "2023-10-18T23:06:51.113779Z",
     "start_time": "2023-10-18T23:06:51.108132Z"
    }
   },
   "outputs": [],
   "source": [
    "import pandas as pd\n",
    "from sklearn.model_selection import train_test_split\n",
    "from sklearn.ensemble import RandomForestClassifier\n",
    "from sklearn.metrics import accuracy_score\n",
    "from math import ceil"
   ]
  },
  {
   "cell_type": "code",
   "execution_count": 12,
   "metadata": {
    "pycharm": {
     "name": "#%%\n"
    },
    "ExecuteTime": {
     "end_time": "2023-10-18T23:06:51.461650Z",
     "start_time": "2023-10-18T23:06:51.451789Z"
    }
   },
   "outputs": [
    {
     "data": {
      "text/plain": "     State Abbreviation    County  Population  Temperature  Precipitation  \\\n0  Georgia           GA   Appling       18428         68.0          52.38   \n1  Georgia           GA  Atkinson        8183         67.6          50.33   \n2  Georgia           GA     Bacon       11191         68.2          51.25   \n3  Georgia           GA     Baker        2788         68.6          45.67   \n4  Georgia           GA   Baldwin       43635         65.4          49.83   \n\n   Palmer-Z  Land-Prices  Population_Class  Temperature_Class  \\\n0      0.15       3494.0                 5                  5   \n1      0.04       2839.0                 7                  5   \n2      0.06       3547.0                 6                  5   \n3     -0.43       3303.0                 7                  5   \n4      0.33          0.0                 3                  5   \n\n   Precipitation_Class  Palmer-Z_Class  Land-Prices_Class  percentile_rank  \\\n0                    1               7                  6             0.79   \n1                    3               6                  7             0.95   \n2                    1               6                  6             0.79   \n3                    5               3                  6             0.89   \n4                    3               4                  7             0.63   \n\n   Final_Class  \n0            6  \n1            7  \n2            6  \n3            7  \n4            5  ",
      "text/html": "<div>\n<style scoped>\n    .dataframe tbody tr th:only-of-type {\n        vertical-align: middle;\n    }\n\n    .dataframe tbody tr th {\n        vertical-align: top;\n    }\n\n    .dataframe thead th {\n        text-align: right;\n    }\n</style>\n<table border=\"1\" class=\"dataframe\">\n  <thead>\n    <tr style=\"text-align: right;\">\n      <th></th>\n      <th>State</th>\n      <th>Abbreviation</th>\n      <th>County</th>\n      <th>Population</th>\n      <th>Temperature</th>\n      <th>Precipitation</th>\n      <th>Palmer-Z</th>\n      <th>Land-Prices</th>\n      <th>Population_Class</th>\n      <th>Temperature_Class</th>\n      <th>Precipitation_Class</th>\n      <th>Palmer-Z_Class</th>\n      <th>Land-Prices_Class</th>\n      <th>percentile_rank</th>\n      <th>Final_Class</th>\n    </tr>\n  </thead>\n  <tbody>\n    <tr>\n      <th>0</th>\n      <td>Georgia</td>\n      <td>GA</td>\n      <td>Appling</td>\n      <td>18428</td>\n      <td>68.0</td>\n      <td>52.38</td>\n      <td>0.15</td>\n      <td>3494.0</td>\n      <td>5</td>\n      <td>5</td>\n      <td>1</td>\n      <td>7</td>\n      <td>6</td>\n      <td>0.79</td>\n      <td>6</td>\n    </tr>\n    <tr>\n      <th>1</th>\n      <td>Georgia</td>\n      <td>GA</td>\n      <td>Atkinson</td>\n      <td>8183</td>\n      <td>67.6</td>\n      <td>50.33</td>\n      <td>0.04</td>\n      <td>2839.0</td>\n      <td>7</td>\n      <td>5</td>\n      <td>3</td>\n      <td>6</td>\n      <td>7</td>\n      <td>0.95</td>\n      <td>7</td>\n    </tr>\n    <tr>\n      <th>2</th>\n      <td>Georgia</td>\n      <td>GA</td>\n      <td>Bacon</td>\n      <td>11191</td>\n      <td>68.2</td>\n      <td>51.25</td>\n      <td>0.06</td>\n      <td>3547.0</td>\n      <td>6</td>\n      <td>5</td>\n      <td>1</td>\n      <td>6</td>\n      <td>6</td>\n      <td>0.79</td>\n      <td>6</td>\n    </tr>\n    <tr>\n      <th>3</th>\n      <td>Georgia</td>\n      <td>GA</td>\n      <td>Baker</td>\n      <td>2788</td>\n      <td>68.6</td>\n      <td>45.67</td>\n      <td>-0.43</td>\n      <td>3303.0</td>\n      <td>7</td>\n      <td>5</td>\n      <td>5</td>\n      <td>3</td>\n      <td>6</td>\n      <td>0.89</td>\n      <td>7</td>\n    </tr>\n    <tr>\n      <th>4</th>\n      <td>Georgia</td>\n      <td>GA</td>\n      <td>Baldwin</td>\n      <td>43635</td>\n      <td>65.4</td>\n      <td>49.83</td>\n      <td>0.33</td>\n      <td>0.0</td>\n      <td>3</td>\n      <td>5</td>\n      <td>3</td>\n      <td>4</td>\n      <td>7</td>\n      <td>0.63</td>\n      <td>5</td>\n    </tr>\n  </tbody>\n</table>\n</div>"
     },
     "execution_count": 12,
     "metadata": {},
     "output_type": "execute_result"
    }
   ],
   "source": [
    "data = pd.read_csv('filter-reforest.csv')\n",
    "data.head()\n",
    "\n",
    "#example file. : {county, state, country, land_cost, etc}"
   ]
  },
  {
   "cell_type": "code",
   "execution_count": 13,
   "outputs": [
    {
     "data": {
      "text/plain": "     State Abbreviation    County  Population  Temperature  Precipitation  \\\n0  Georgia           GA   Appling       18428         68.0          52.38   \n1  Georgia           GA  Atkinson        8183         67.6          50.33   \n2  Georgia           GA     Bacon       11191         68.2          51.25   \n3  Georgia           GA     Baker        2788         68.6          45.67   \n4  Georgia           GA   Baldwin       43635         65.4          49.83   \n\n   Palmer-Z  Land-Prices  Population_Class  Temperature_Class  \\\n0      0.15       3494.0                 5                  5   \n1      0.04       2839.0                 7                  5   \n2      0.06       3547.0                 6                  5   \n3     -0.43       3303.0                 7                  5   \n4      0.33          0.0                 3                  5   \n\n   Precipitation_Class  Palmer-Z_Class  Land-Prices_Class  percentile_rank  \\\n0                    1               7                  6             0.79   \n1                    3               6                  7             0.95   \n2                    1               6                  6             0.79   \n3                    5               3                  6             0.89   \n4                    3               4                  7             0.63   \n\n   Final_Class  \n0            6  \n1            7  \n2            6  \n3            7  \n4            5  ",
      "text/html": "<div>\n<style scoped>\n    .dataframe tbody tr th:only-of-type {\n        vertical-align: middle;\n    }\n\n    .dataframe tbody tr th {\n        vertical-align: top;\n    }\n\n    .dataframe thead th {\n        text-align: right;\n    }\n</style>\n<table border=\"1\" class=\"dataframe\">\n  <thead>\n    <tr style=\"text-align: right;\">\n      <th></th>\n      <th>State</th>\n      <th>Abbreviation</th>\n      <th>County</th>\n      <th>Population</th>\n      <th>Temperature</th>\n      <th>Precipitation</th>\n      <th>Palmer-Z</th>\n      <th>Land-Prices</th>\n      <th>Population_Class</th>\n      <th>Temperature_Class</th>\n      <th>Precipitation_Class</th>\n      <th>Palmer-Z_Class</th>\n      <th>Land-Prices_Class</th>\n      <th>percentile_rank</th>\n      <th>Final_Class</th>\n    </tr>\n  </thead>\n  <tbody>\n    <tr>\n      <th>0</th>\n      <td>Georgia</td>\n      <td>GA</td>\n      <td>Appling</td>\n      <td>18428</td>\n      <td>68.0</td>\n      <td>52.38</td>\n      <td>0.15</td>\n      <td>3494.0</td>\n      <td>5</td>\n      <td>5</td>\n      <td>1</td>\n      <td>7</td>\n      <td>6</td>\n      <td>0.79</td>\n      <td>6</td>\n    </tr>\n    <tr>\n      <th>1</th>\n      <td>Georgia</td>\n      <td>GA</td>\n      <td>Atkinson</td>\n      <td>8183</td>\n      <td>67.6</td>\n      <td>50.33</td>\n      <td>0.04</td>\n      <td>2839.0</td>\n      <td>7</td>\n      <td>5</td>\n      <td>3</td>\n      <td>6</td>\n      <td>7</td>\n      <td>0.95</td>\n      <td>7</td>\n    </tr>\n    <tr>\n      <th>2</th>\n      <td>Georgia</td>\n      <td>GA</td>\n      <td>Bacon</td>\n      <td>11191</td>\n      <td>68.2</td>\n      <td>51.25</td>\n      <td>0.06</td>\n      <td>3547.0</td>\n      <td>6</td>\n      <td>5</td>\n      <td>1</td>\n      <td>6</td>\n      <td>6</td>\n      <td>0.79</td>\n      <td>6</td>\n    </tr>\n    <tr>\n      <th>3</th>\n      <td>Georgia</td>\n      <td>GA</td>\n      <td>Baker</td>\n      <td>2788</td>\n      <td>68.6</td>\n      <td>45.67</td>\n      <td>-0.43</td>\n      <td>3303.0</td>\n      <td>7</td>\n      <td>5</td>\n      <td>5</td>\n      <td>3</td>\n      <td>6</td>\n      <td>0.89</td>\n      <td>7</td>\n    </tr>\n    <tr>\n      <th>4</th>\n      <td>Georgia</td>\n      <td>GA</td>\n      <td>Baldwin</td>\n      <td>43635</td>\n      <td>65.4</td>\n      <td>49.83</td>\n      <td>0.33</td>\n      <td>0.0</td>\n      <td>3</td>\n      <td>5</td>\n      <td>3</td>\n      <td>4</td>\n      <td>7</td>\n      <td>0.63</td>\n      <td>5</td>\n    </tr>\n  </tbody>\n</table>\n</div>"
     },
     "execution_count": 13,
     "metadata": {},
     "output_type": "execute_result"
    }
   ],
   "source": [
    "avg_scores = data[['Population_Class','Temperature_Class','Precipitation_Class', 'Palmer-Z_Class','Land-Prices_Class']].mean(axis=1)\n",
    "\n",
    "data['percentile_rank'] = avg_scores.rank(pct=True).round(2)\n",
    "\n",
    "data['Final_Class'] = data['percentile_rank'].apply(lambda x: ceil(x * 7))\n",
    "\n",
    "data.head()"
   ],
   "metadata": {
    "collapsed": false,
    "ExecuteTime": {
     "end_time": "2023-10-18T23:06:51.759696Z",
     "start_time": "2023-10-18T23:06:51.748877Z"
    }
   }
  },
  {
   "cell_type": "code",
   "execution_count": 28,
   "outputs": [
    {
     "data": {
      "text/plain": "RandomForestClassifier(random_state=42)",
      "text/html": "<style>#sk-container-id-9 {color: black;}#sk-container-id-9 pre{padding: 0;}#sk-container-id-9 div.sk-toggleable {background-color: white;}#sk-container-id-9 label.sk-toggleable__label {cursor: pointer;display: block;width: 100%;margin-bottom: 0;padding: 0.3em;box-sizing: border-box;text-align: center;}#sk-container-id-9 label.sk-toggleable__label-arrow:before {content: \"▸\";float: left;margin-right: 0.25em;color: #696969;}#sk-container-id-9 label.sk-toggleable__label-arrow:hover:before {color: black;}#sk-container-id-9 div.sk-estimator:hover label.sk-toggleable__label-arrow:before {color: black;}#sk-container-id-9 div.sk-toggleable__content {max-height: 0;max-width: 0;overflow: hidden;text-align: left;background-color: #f0f8ff;}#sk-container-id-9 div.sk-toggleable__content pre {margin: 0.2em;color: black;border-radius: 0.25em;background-color: #f0f8ff;}#sk-container-id-9 input.sk-toggleable__control:checked~div.sk-toggleable__content {max-height: 200px;max-width: 100%;overflow: auto;}#sk-container-id-9 input.sk-toggleable__control:checked~label.sk-toggleable__label-arrow:before {content: \"▾\";}#sk-container-id-9 div.sk-estimator input.sk-toggleable__control:checked~label.sk-toggleable__label {background-color: #d4ebff;}#sk-container-id-9 div.sk-label input.sk-toggleable__control:checked~label.sk-toggleable__label {background-color: #d4ebff;}#sk-container-id-9 input.sk-hidden--visually {border: 0;clip: rect(1px 1px 1px 1px);clip: rect(1px, 1px, 1px, 1px);height: 1px;margin: -1px;overflow: hidden;padding: 0;position: absolute;width: 1px;}#sk-container-id-9 div.sk-estimator {font-family: monospace;background-color: #f0f8ff;border: 1px dotted black;border-radius: 0.25em;box-sizing: border-box;margin-bottom: 0.5em;}#sk-container-id-9 div.sk-estimator:hover {background-color: #d4ebff;}#sk-container-id-9 div.sk-parallel-item::after {content: \"\";width: 100%;border-bottom: 1px solid gray;flex-grow: 1;}#sk-container-id-9 div.sk-label:hover label.sk-toggleable__label {background-color: #d4ebff;}#sk-container-id-9 div.sk-serial::before {content: \"\";position: absolute;border-left: 1px solid gray;box-sizing: border-box;top: 0;bottom: 0;left: 50%;z-index: 0;}#sk-container-id-9 div.sk-serial {display: flex;flex-direction: column;align-items: center;background-color: white;padding-right: 0.2em;padding-left: 0.2em;position: relative;}#sk-container-id-9 div.sk-item {position: relative;z-index: 1;}#sk-container-id-9 div.sk-parallel {display: flex;align-items: stretch;justify-content: center;background-color: white;position: relative;}#sk-container-id-9 div.sk-item::before, #sk-container-id-9 div.sk-parallel-item::before {content: \"\";position: absolute;border-left: 1px solid gray;box-sizing: border-box;top: 0;bottom: 0;left: 50%;z-index: -1;}#sk-container-id-9 div.sk-parallel-item {display: flex;flex-direction: column;z-index: 1;position: relative;background-color: white;}#sk-container-id-9 div.sk-parallel-item:first-child::after {align-self: flex-end;width: 50%;}#sk-container-id-9 div.sk-parallel-item:last-child::after {align-self: flex-start;width: 50%;}#sk-container-id-9 div.sk-parallel-item:only-child::after {width: 0;}#sk-container-id-9 div.sk-dashed-wrapped {border: 1px dashed gray;margin: 0 0.4em 0.5em 0.4em;box-sizing: border-box;padding-bottom: 0.4em;background-color: white;}#sk-container-id-9 div.sk-label label {font-family: monospace;font-weight: bold;display: inline-block;line-height: 1.2em;}#sk-container-id-9 div.sk-label-container {text-align: center;}#sk-container-id-9 div.sk-container {/* jupyter's `normalize.less` sets `[hidden] { display: none; }` but bootstrap.min.css set `[hidden] { display: none !important; }` so we also need the `!important` here to be able to override the default hidden behavior on the sphinx rendered scikit-learn.org. See: https://github.com/scikit-learn/scikit-learn/issues/21755 */display: inline-block !important;position: relative;}#sk-container-id-9 div.sk-text-repr-fallback {display: none;}</style><div id=\"sk-container-id-9\" class=\"sk-top-container\"><div class=\"sk-text-repr-fallback\"><pre>RandomForestClassifier(random_state=42)</pre><b>In a Jupyter environment, please rerun this cell to show the HTML representation or trust the notebook. <br />On GitHub, the HTML representation is unable to render, please try loading this page with nbviewer.org.</b></div><div class=\"sk-container\" hidden><div class=\"sk-item\"><div class=\"sk-estimator sk-toggleable\"><input class=\"sk-toggleable__control sk-hidden--visually\" id=\"sk-estimator-id-9\" type=\"checkbox\" checked><label for=\"sk-estimator-id-9\" class=\"sk-toggleable__label sk-toggleable__label-arrow\">RandomForestClassifier</label><div class=\"sk-toggleable__content\"><pre>RandomForestClassifier(random_state=42)</pre></div></div></div></div></div>"
     },
     "execution_count": 28,
     "metadata": {},
     "output_type": "execute_result"
    }
   ],
   "source": [
    "X = data[['Population_Class','Temperature_Class','Precipitation_Class', 'Palmer-Z_Class','Land-Prices_Class']]\n",
    "y = data['Final_Class']\n",
    "\n",
    "X_train, X_test, y_train, y_test = train_test_split(X, y, test_size=0.2, random_state=42)\n",
    "\n",
    "clf = RandomForestClassifier(n_estimators=100, random_state=42)\n",
    "clf.fit(X_train, y_train)"
   ],
   "metadata": {
    "collapsed": false,
    "ExecuteTime": {
     "end_time": "2023-10-18T23:09:25.745374Z",
     "start_time": "2023-10-18T23:09:25.643645Z"
    }
   }
  },
  {
   "cell_type": "code",
   "execution_count": 29,
   "outputs": [
    {
     "name": "stdout",
     "output_type": "stream",
     "text": [
      "Accuracy: 74.00%\n"
     ]
    }
   ],
   "source": [
    "y_pred = clf.predict(X_test)\n",
    "\n",
    "accuracy = accuracy_score(y_test, y_pred)\n",
    "print(f\"Accuracy: {accuracy * 100:.2f}%\")"
   ],
   "metadata": {
    "collapsed": false,
    "ExecuteTime": {
     "end_time": "2023-10-18T23:09:26.060702Z",
     "start_time": "2023-10-18T23:09:26.041182Z"
    }
   }
  },
  {
   "cell_type": "code",
   "execution_count": 30,
   "outputs": [],
   "source": [
    "data.to_csv('filter-reforest.csv', index=False)"
   ],
   "metadata": {
    "collapsed": false,
    "ExecuteTime": {
     "end_time": "2023-10-18T23:09:31.370507Z",
     "start_time": "2023-10-18T23:09:31.340729Z"
    }
   }
  },
  {
   "cell_type": "code",
   "execution_count": null,
   "outputs": [],
   "source": [],
   "metadata": {
    "collapsed": false
   }
  }
 ],
 "metadata": {
  "kernelspec": {
   "display_name": "Python 3 (ipykernel)",
   "language": "python",
   "name": "python3"
  },
  "language_info": {
   "codemirror_mode": {
    "name": "ipython",
    "version": 3
   },
   "file_extension": ".py",
   "mimetype": "text/x-python",
   "name": "python",
   "nbconvert_exporter": "python",
   "pygments_lexer": "ipython3",
   "version": "3.9.7"
  }
 },
 "nbformat": 4,
 "nbformat_minor": 1
}
