{
 "cells": [
  {
   "cell_type": "code",
   "execution_count": 1,
   "id": "initial_id",
   "metadata": {
    "collapsed": true,
    "ExecuteTime": {
     "end_time": "2023-10-05T00:41:24.340890Z",
     "start_time": "2023-10-05T00:41:23.929303Z"
    }
   },
   "outputs": [],
   "source": [
    "import pandas as pd\n",
    "import numpy as np\n",
    "import matplotlib.pyplot as plt "
   ]
  },
  {
   "cell_type": "code",
   "execution_count": 2,
   "outputs": [
    {
     "data": {
      "text/plain": "     State Abbreviation   County  Population  Temperature  Precipitation  \\\n0  Alabama           AL  Autauga       59759         66.1          51.89   \n1  Alabama           AL  Baldwin      246435         70.1          50.71   \n2  Alabama           AL  Barbour       24706         66.4          48.95   \n3  Alabama           AL     Bibb       22005         64.4          53.22   \n4  Alabama           AL   Blount       59512         62.5          60.68   \n\n   Palmer-Z  Land-Prices  \n0     -0.26          NaN  \n1     -0.84          NaN  \n2     -0.22          NaN  \n3     -0.29          NaN  \n4      0.24          NaN  ",
      "text/html": "<div>\n<style scoped>\n    .dataframe tbody tr th:only-of-type {\n        vertical-align: middle;\n    }\n\n    .dataframe tbody tr th {\n        vertical-align: top;\n    }\n\n    .dataframe thead th {\n        text-align: right;\n    }\n</style>\n<table border=\"1\" class=\"dataframe\">\n  <thead>\n    <tr style=\"text-align: right;\">\n      <th></th>\n      <th>State</th>\n      <th>Abbreviation</th>\n      <th>County</th>\n      <th>Population</th>\n      <th>Temperature</th>\n      <th>Precipitation</th>\n      <th>Palmer-Z</th>\n      <th>Land-Prices</th>\n    </tr>\n  </thead>\n  <tbody>\n    <tr>\n      <th>0</th>\n      <td>Alabama</td>\n      <td>AL</td>\n      <td>Autauga</td>\n      <td>59759</td>\n      <td>66.1</td>\n      <td>51.89</td>\n      <td>-0.26</td>\n      <td>NaN</td>\n    </tr>\n    <tr>\n      <th>1</th>\n      <td>Alabama</td>\n      <td>AL</td>\n      <td>Baldwin</td>\n      <td>246435</td>\n      <td>70.1</td>\n      <td>50.71</td>\n      <td>-0.84</td>\n      <td>NaN</td>\n    </tr>\n    <tr>\n      <th>2</th>\n      <td>Alabama</td>\n      <td>AL</td>\n      <td>Barbour</td>\n      <td>24706</td>\n      <td>66.4</td>\n      <td>48.95</td>\n      <td>-0.22</td>\n      <td>NaN</td>\n    </tr>\n    <tr>\n      <th>3</th>\n      <td>Alabama</td>\n      <td>AL</td>\n      <td>Bibb</td>\n      <td>22005</td>\n      <td>64.4</td>\n      <td>53.22</td>\n      <td>-0.29</td>\n      <td>NaN</td>\n    </tr>\n    <tr>\n      <th>4</th>\n      <td>Alabama</td>\n      <td>AL</td>\n      <td>Blount</td>\n      <td>59512</td>\n      <td>62.5</td>\n      <td>60.68</td>\n      <td>0.24</td>\n      <td>NaN</td>\n    </tr>\n  </tbody>\n</table>\n</div>"
     },
     "execution_count": 2,
     "metadata": {},
     "output_type": "execute_result"
    }
   ],
   "source": [
    "reforestation = pd.read_csv('reforestationDB.csv')\n",
    "reforestation.head()"
   ],
   "metadata": {
    "collapsed": false,
    "ExecuteTime": {
     "end_time": "2023-10-05T00:42:22.710926Z",
     "start_time": "2023-10-05T00:42:22.677919Z"
    }
   },
   "id": "683586ce27d0e770"
  },
  {
   "cell_type": "code",
   "execution_count": 14,
   "outputs": [
    {
     "data": {
      "text/plain": "<Figure size 640x480 with 1 Axes>",
      "image/png": "[encoded data removed]"
     },
     "metadata": {},
     "output_type": "display_data"
    }
   ],
   "source": [
    "min_val = reforestation['Population'].min()\n",
    "max_val = reforestation['Population'].max()\n",
    "bin_width = (max_val - min_val) / 10\n",
    "bin_edges = np.arange(min_val, max_val + bin_width, bin_width)\n",
    "\n",
    "plt.hist(reforestation['Population'], bins=bin_edges, edgecolor='k', alpha=0.7)\n",
    "plt.xlabel('Population')\n",
    "plt.ylabel('Frequency')\n",
    "plt.title('Distribution of Population')\n",
    "plt.show()"
   ],
   "metadata": {
    "collapsed": false,
    "ExecuteTime": {
     "end_time": "2023-10-05T00:58:57.579303Z",
     "start_time": "2023-10-05T00:58:57.504934Z"
    }
   },
   "id": "86b50e4d4d529ac4"
  },
  {
   "cell_type": "code",
   "execution_count": 11,
   "outputs": [
    {
     "name": "stdout",
     "output_type": "stream",
     "text": [
      "count    3.192000e+03\n",
      "mean     1.042029e+05\n",
      "std      3.298837e+05\n",
      "min      0.000000e+00\n",
      "25%      1.016750e+04\n",
      "50%      2.543100e+04\n",
      "75%      6.770750e+04\n",
      "max      9.721138e+06\n",
      "Name: Population, dtype: float64\n"
     ]
    }
   ],
   "source": [
    "print(reforestation['Population'].describe())"
   ],
   "metadata": {
    "collapsed": false,
    "ExecuteTime": {
     "end_time": "2023-10-05T00:57:27.156243Z",
     "start_time": "2023-10-05T00:57:27.147078Z"
    }
   },
   "id": "abfd4abce127e691"
  },
  {
   "cell_type": "code",
   "execution_count": null,
   "outputs": [],
   "source": [],
   "metadata": {
    "collapsed": false
   },
   "id": "72a3dbdd7d1da3fa"
  }
 ],
 "metadata": {
  "kernelspec": {
   "display_name": "Python 3",
   "language": "python",
   "name": "python3"
  },
  "language_info": {
   "codemirror_mode": {
    "name": "ipython",
    "version": 2
   },
   "file_extension": ".py",
   "mimetype": "text/x-python",
   "name": "python",
   "nbconvert_exporter": "python",
   "pygments_lexer": "ipython2",
   "version": "2.7.6"
  }
 },
 "nbformat": 4,
 "nbformat_minor": 5
}
