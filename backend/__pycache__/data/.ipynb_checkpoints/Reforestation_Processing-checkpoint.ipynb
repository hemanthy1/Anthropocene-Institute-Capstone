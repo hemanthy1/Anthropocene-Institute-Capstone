{
 "cells": [
  {
   "cell_type": "code",
   "execution_count": 7,
   "id": "0cd8944e",
   "metadata": {},
   "outputs": [],
   "source": [
    "import pandas as pd\n",
    "import numpy as np"
   ]
  },
  {
   "cell_type": "code",
   "execution_count": null,
   "id": "a598816d",
   "metadata": {},
   "outputs": [],
   "source": [
    "precipitation = pd.read_csv('data-precipitation.csv')\n",
    "temperature = pd.read_csv('data-temperature.csv')\n",
    "population = pd.read_csv('co-est2022-alldata.csv')\n",
    "palmerz = pd.read_csv('data-palmerz.csv')"
   ]
  },
  {
   "cell_type": "code",
   "execution_count": 19,
   "id": "727bd538",
   "metadata": {},
   "outputs": [],
   "source": [
    "states1 =set(file1['STNAME'].tolist())\n",
    "states2 =set(file2['State'].tolist())"
   ]
  },
  {
   "cell_type": "code",
   "execution_count": 23,
   "id": "cd6f354f",
   "metadata": {},
   "outputs": [
    {
     "name": "stdout",
     "output_type": "stream",
     "text": [
      "Alaska\n",
      "District of Columbia\n",
      "Hawaii\n",
      "nan\n"
     ]
    }
   ],
   "source": [
    "not_common_elements = states1 ^ states2\n",
    "for element in not_common_elements:\n",
    "    print(element)"
   ]
  },
  {
   "cell_type": "code",
   "execution_count": null,
   "id": "919399d1",
   "metadata": {},
   "outputs": [],
   "source": []
  }
 ],
 "metadata": {
  "kernelspec": {
   "display_name": "Python 3.10",
   "language": "python",
   "name": "python3.10"
  },
  "language_info": {
   "codemirror_mode": {
    "name": "ipython",
    "version": 3
   },
   "file_extension": ".py",
   "mimetype": "text/x-python",
   "name": "python",
   "nbconvert_exporter": "python",
   "pygments_lexer": "ipython3",
   "version": "3.10.12"
  }
 },
 "nbformat": 4,
 "nbformat_minor": 5
}
