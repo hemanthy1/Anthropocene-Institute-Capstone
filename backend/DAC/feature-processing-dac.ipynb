{
 "cells": [
  {
   "cell_type": "code",
   "execution_count": 50,
   "id": "initial_id",
   "metadata": {
    "collapsed": true,
    "ExecuteTime": {
     "end_time": "2023-11-02T16:24:35.538782Z",
     "start_time": "2023-11-02T16:24:35.535613Z"
    }
   },
   "outputs": [],
   "source": [
    "import pandas as pd"
   ]
  },
  {
   "cell_type": "code",
   "execution_count": 58,
   "outputs": [],
   "source": [
    "def assign_classes(df, column_name, output_col, labels):\n",
    "    col_sorted = df[column_name].sort_values().reset_index(drop=True)\n",
    "    quantiles = [-float('inf')]\n",
    "\n",
    "    n = 7 \n",
    "    for i in range(1, n):\n",
    "        q = col_sorted.quantile(i / n)\n",
    "        quantiles.append(q)\n",
    "    quantiles.append(float('inf'))\n",
    "\n",
    "    df[output_col] = pd.cut(df[column_name], bins=quantiles, labels=labels, right=False, duplicates='drop')\n",
    "    return df\n",
    "\n",
    "\n",
    "def update_csv(in_filename, out_filename, columns, class_columns, labels): \n",
    "    df = pd.read_csv(in_filename)\n",
    "    for i in range(len(columns)):\n",
    "        name = columns[i]\n",
    "        class_column = class_columns[i]\n",
    "        label = labels[i]\n",
    "        df = assign_classes(df, name, class_column, label)\n",
    "    print(df.head())\n",
    "    df.to_csv(out_filename, index=False)"
   ],
   "metadata": {
    "collapsed": false,
    "ExecuteTime": {
     "end_time": "2023-11-02T21:40:48.747788Z",
     "start_time": "2023-11-02T21:40:48.737959Z"
    }
   },
   "id": "adcd5f3653585850"
  },
  {
   "cell_type": "code",
   "execution_count": 59,
   "outputs": [],
   "source": [
    "dac = pd.read_csv('dac.csv')"
   ],
   "metadata": {
    "collapsed": false,
    "ExecuteTime": {
     "end_time": "2023-11-02T21:40:49.284403Z",
     "start_time": "2023-11-02T21:40:49.278758Z"
    }
   },
   "id": "4cac7b515bb60d90"
  },
  {
   "cell_type": "code",
   "execution_count": 60,
   "outputs": [
    {
     "name": "stdout",
     "output_type": "stream",
     "text": [
      "     State Abbreviation   County  Population  Temperature  Precipitation  \\\n",
      "0  Alabama           AL  Autauga       59759         66.1          51.89   \n",
      "1  Alabama           AL  Baldwin      246435         70.1          50.71   \n",
      "2  Alabama           AL  Barbour       24706         66.4          48.95   \n",
      "3  Alabama           AL     Bibb       22005         64.4          53.22   \n",
      "4  Alabama           AL   Blount       59512         62.5          60.68   \n",
      "\n",
      "    Elevation  Electricity-Prices     Wage Population_Class Temperature_Class  \\\n",
      "0  111.111422               14.21  48347.0                2                 1   \n",
      "1   36.783019               14.21  54659.0                1                 1   \n",
      "2  114.048849               14.21  40428.0                4                 1   \n",
      "3  125.742119               14.21  36892.0                4                 3   \n",
      "4  240.213488               14.21  42634.0                2                 3   \n",
      "\n",
      "  Precipitation_Class Elevation_Class Electricity-Prices_Class Wage_Class  \n",
      "0                   2               6                        1          5  \n",
      "1                   2               7                        1          3  \n",
      "2                   2               6                        1          7  \n",
      "3                   1               6                        1          7  \n",
      "4                   1               5                        1          6  \n"
     ]
    }
   ],
   "source": [
    "cols = ['Population','Temperature','Precipitation','Elevation','Electricity-Prices','Wage']\n",
    "class_columns = [col + '_Class' for col in cols]\n",
    "labels = [[7,6,5,4,3,2,1],[2,5,7,6,4,3,1],[7,6,5,4,3,2,1],[7,6,5,4,3,2,1],[7,6,5,4,3,2,1],[7,6,5,4,3,2,1]]\n",
    "update_csv('dac.csv','dac_class.csv',cols,class_columns,labels)"
   ],
   "metadata": {
    "collapsed": false,
    "ExecuteTime": {
     "end_time": "2023-11-02T21:40:49.869602Z",
     "start_time": "2023-11-02T21:40:49.827070Z"
    }
   },
   "id": "1f5dbc93790d5504"
  },
  {
   "cell_type": "code",
   "execution_count": 54,
   "outputs": [],
   "source": [
    "def calculate_quantiles(df, column_name, n=7):\n",
    "    col_sorted = df[column_name].sort_values().reset_index(drop=True)\n",
    "    quantiles = [-float('inf')]\n",
    "    \n",
    "    for i in range(1, n):\n",
    "        q = col_sorted.quantile(i / n)\n",
    "        quantiles.append(q)\n",
    "    \n",
    "    quantiles.append(float('inf'))\n",
    "\n",
    "    return quantiles\n"
   ],
   "metadata": {
    "collapsed": false,
    "ExecuteTime": {
     "end_time": "2023-11-02T16:24:37.110431Z",
     "start_time": "2023-11-02T16:24:37.105662Z"
    }
   },
   "id": "b0105de0dfe2ec99"
  },
  {
   "cell_type": "code",
   "execution_count": null,
   "outputs": [],
   "source": [],
   "metadata": {
    "collapsed": false
   },
   "id": "92066d0009d75e8d"
  }
 ],
 "metadata": {
  "kernelspec": {
   "display_name": "Python 3",
   "language": "python",
   "name": "python3"
  },
  "language_info": {
   "codemirror_mode": {
    "name": "ipython",
    "version": 2
   },
   "file_extension": ".py",
   "mimetype": "text/x-python",
   "name": "python",
   "nbconvert_exporter": "python",
   "pygments_lexer": "ipython2",
   "version": "2.7.6"
  }
 },
 "nbformat": 4,
 "nbformat_minor": 5
}
