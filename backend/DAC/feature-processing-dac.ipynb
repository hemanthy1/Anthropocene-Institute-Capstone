{
 "cells": [
  {
   "cell_type": "code",
   "execution_count": 50,
   "id": "initial_id",
   "metadata": {
    "collapsed": true,
    "ExecuteTime": {
     "end_time": "2023-11-02T16:24:35.538782Z",
     "start_time": "2023-11-02T16:24:35.535613Z"
    }
   },
   "outputs": [],
   "source": [
    "import pandas as pd"
   ]
  },
  {
   "cell_type": "code",
   "execution_count": 51,
   "outputs": [],
   "source": [
    "def assign_classes(df, column_name, output_col, labels):\n",
    "    col_sorted = df[column_name].sort_values().reset_index(drop=True)\n",
    "    quantiles = [-float('inf')]\n",
    "\n",
    "    n = 7 \n",
    "    for i in range(1, n):\n",
    "        q = col_sorted.quantile(i / n)\n",
    "        quantiles.append(q)\n",
    "    quantiles.append(float('inf'))\n",
    "\n",
    "    df[output_col] = pd.cut(df[column_name], bins=quantiles, labels=labels, right=False, duplicates='drop')\n",
    "    return df\n",
    "\n",
    "\n",
    "def update_csv(in_filename, out_filename, columns, class_columns, labels): \n",
    "    df = pd.read_csv(in_filename)\n",
    "    for i in range(len(columns)):\n",
    "        name = columns[i]\n",
    "        class_column = class_columns[i]\n",
    "        label = labels[i]\n",
    "        df = assign_classes(df, name, class_column, label)\n",
    "    print(df.head())\n",
    "    df.to_csv(out_filename, index=False)"
   ],
   "metadata": {
    "collapsed": false,
    "ExecuteTime": {
     "end_time": "2023-11-02T16:24:35.907078Z",
     "start_time": "2023-11-02T16:24:35.903573Z"
    }
   },
   "id": "adcd5f3653585850"
  },
  {
   "cell_type": "code",
   "execution_count": 52,
   "outputs": [],
   "source": [
    "dac = pd.read_csv('dac.csv')"
   ],
   "metadata": {
    "collapsed": false,
    "ExecuteTime": {
     "end_time": "2023-11-02T16:24:36.268971Z",
     "start_time": "2023-11-02T16:24:36.259509Z"
    }
   },
   "id": "4cac7b515bb60d90"
  },
  {
   "cell_type": "code",
   "execution_count": 53,
   "outputs": [
    {
     "ename": "ValueError",
     "evalue": "Bin labels must be one fewer than the number of bin edges",
     "output_type": "error",
     "traceback": [
      "\u001B[0;31m---------------------------------------------------------------------------\u001B[0m",
      "\u001B[0;31mValueError\u001B[0m                                Traceback (most recent call last)",
      "Cell \u001B[0;32mIn[53], line 4\u001B[0m\n\u001B[1;32m      2\u001B[0m class_columns \u001B[38;5;241m=\u001B[39m [col \u001B[38;5;241m+\u001B[39m \u001B[38;5;124m'\u001B[39m\u001B[38;5;124m_Class\u001B[39m\u001B[38;5;124m'\u001B[39m \u001B[38;5;28;01mfor\u001B[39;00m col \u001B[38;5;129;01min\u001B[39;00m cols]\n\u001B[1;32m      3\u001B[0m labels \u001B[38;5;241m=\u001B[39m [[\u001B[38;5;241m7\u001B[39m,\u001B[38;5;241m6\u001B[39m,\u001B[38;5;241m5\u001B[39m,\u001B[38;5;241m4\u001B[39m,\u001B[38;5;241m3\u001B[39m,\u001B[38;5;241m2\u001B[39m,\u001B[38;5;241m1\u001B[39m],[\u001B[38;5;241m2\u001B[39m,\u001B[38;5;241m5\u001B[39m,\u001B[38;5;241m7\u001B[39m,\u001B[38;5;241m6\u001B[39m,\u001B[38;5;241m4\u001B[39m,\u001B[38;5;241m3\u001B[39m,\u001B[38;5;241m1\u001B[39m],[\u001B[38;5;241m7\u001B[39m,\u001B[38;5;241m6\u001B[39m,\u001B[38;5;241m5\u001B[39m,\u001B[38;5;241m4\u001B[39m,\u001B[38;5;241m3\u001B[39m,\u001B[38;5;241m2\u001B[39m,\u001B[38;5;241m1\u001B[39m],[\u001B[38;5;241m7\u001B[39m,\u001B[38;5;241m6\u001B[39m,\u001B[38;5;241m5\u001B[39m,\u001B[38;5;241m4\u001B[39m,\u001B[38;5;241m3\u001B[39m,\u001B[38;5;241m2\u001B[39m,\u001B[38;5;241m1\u001B[39m],[\u001B[38;5;241m7\u001B[39m,\u001B[38;5;241m6\u001B[39m,\u001B[38;5;241m5\u001B[39m,\u001B[38;5;241m4\u001B[39m,\u001B[38;5;241m3\u001B[39m,\u001B[38;5;241m2\u001B[39m,\u001B[38;5;241m1\u001B[39m],[\u001B[38;5;241m7\u001B[39m,\u001B[38;5;241m6\u001B[39m,\u001B[38;5;241m5\u001B[39m,\u001B[38;5;241m4\u001B[39m,\u001B[38;5;241m3\u001B[39m,\u001B[38;5;241m2\u001B[39m,\u001B[38;5;241m1\u001B[39m]]\n\u001B[0;32m----> 4\u001B[0m \u001B[43mupdate_csv\u001B[49m\u001B[43m(\u001B[49m\u001B[38;5;124;43m'\u001B[39;49m\u001B[38;5;124;43mdac.csv\u001B[39;49m\u001B[38;5;124;43m'\u001B[39;49m\u001B[43m,\u001B[49m\u001B[38;5;124;43m'\u001B[39;49m\u001B[38;5;124;43mdac_class.csv\u001B[39;49m\u001B[38;5;124;43m'\u001B[39;49m\u001B[43m,\u001B[49m\u001B[43mcols\u001B[49m\u001B[43m,\u001B[49m\u001B[43mclass_columns\u001B[49m\u001B[43m,\u001B[49m\u001B[43mlabels\u001B[49m\u001B[43m)\u001B[49m\n",
      "Cell \u001B[0;32mIn[51], line 21\u001B[0m, in \u001B[0;36mupdate_csv\u001B[0;34m(in_filename, out_filename, columns, class_columns, labels)\u001B[0m\n\u001B[1;32m     19\u001B[0m     class_column \u001B[38;5;241m=\u001B[39m class_columns[i]\n\u001B[1;32m     20\u001B[0m     label \u001B[38;5;241m=\u001B[39m labels[i]\n\u001B[0;32m---> 21\u001B[0m     df \u001B[38;5;241m=\u001B[39m \u001B[43massign_classes\u001B[49m\u001B[43m(\u001B[49m\u001B[43mdf\u001B[49m\u001B[43m,\u001B[49m\u001B[43m \u001B[49m\u001B[43mname\u001B[49m\u001B[43m,\u001B[49m\u001B[43m \u001B[49m\u001B[43mclass_column\u001B[49m\u001B[43m,\u001B[49m\u001B[43m \u001B[49m\u001B[43mlabel\u001B[49m\u001B[43m)\u001B[49m\n\u001B[1;32m     22\u001B[0m \u001B[38;5;28mprint\u001B[39m(df\u001B[38;5;241m.\u001B[39mhead())\n\u001B[1;32m     23\u001B[0m df\u001B[38;5;241m.\u001B[39mto_csv(out_filename, index\u001B[38;5;241m=\u001B[39m\u001B[38;5;28;01mFalse\u001B[39;00m)\n",
      "Cell \u001B[0;32mIn[51], line 11\u001B[0m, in \u001B[0;36massign_classes\u001B[0;34m(df, column_name, output_col, labels)\u001B[0m\n\u001B[1;32m      8\u001B[0m     quantiles\u001B[38;5;241m.\u001B[39mappend(q)\n\u001B[1;32m      9\u001B[0m quantiles\u001B[38;5;241m.\u001B[39mappend(\u001B[38;5;28mfloat\u001B[39m(\u001B[38;5;124m'\u001B[39m\u001B[38;5;124minf\u001B[39m\u001B[38;5;124m'\u001B[39m))\n\u001B[0;32m---> 11\u001B[0m df[output_col] \u001B[38;5;241m=\u001B[39m \u001B[43mpd\u001B[49m\u001B[38;5;241;43m.\u001B[39;49m\u001B[43mcut\u001B[49m\u001B[43m(\u001B[49m\u001B[43mdf\u001B[49m\u001B[43m[\u001B[49m\u001B[43mcolumn_name\u001B[49m\u001B[43m]\u001B[49m\u001B[43m,\u001B[49m\u001B[43m \u001B[49m\u001B[43mbins\u001B[49m\u001B[38;5;241;43m=\u001B[39;49m\u001B[43mquantiles\u001B[49m\u001B[43m,\u001B[49m\u001B[43m \u001B[49m\u001B[43mlabels\u001B[49m\u001B[38;5;241;43m=\u001B[39;49m\u001B[43mlabels\u001B[49m\u001B[43m,\u001B[49m\u001B[43m \u001B[49m\u001B[43mright\u001B[49m\u001B[38;5;241;43m=\u001B[39;49m\u001B[38;5;28;43;01mFalse\u001B[39;49;00m\u001B[43m,\u001B[49m\u001B[43m \u001B[49m\u001B[43mduplicates\u001B[49m\u001B[38;5;241;43m=\u001B[39;49m\u001B[38;5;124;43m'\u001B[39;49m\u001B[38;5;124;43mdrop\u001B[39;49m\u001B[38;5;124;43m'\u001B[39;49m\u001B[43m)\u001B[49m\n\u001B[1;32m     12\u001B[0m \u001B[38;5;28;01mreturn\u001B[39;00m df\n",
      "File \u001B[0;32m/Library/Frameworks/Python.framework/Versions/3.11/lib/python3.11/site-packages/pandas/core/reshape/tile.py:293\u001B[0m, in \u001B[0;36mcut\u001B[0;34m(x, bins, right, labels, retbins, precision, include_lowest, duplicates, ordered)\u001B[0m\n\u001B[1;32m    290\u001B[0m     \u001B[38;5;28;01mif\u001B[39;00m (np\u001B[38;5;241m.\u001B[39mdiff(bins\u001B[38;5;241m.\u001B[39mastype(\u001B[38;5;124m\"\u001B[39m\u001B[38;5;124mfloat64\u001B[39m\u001B[38;5;124m\"\u001B[39m)) \u001B[38;5;241m<\u001B[39m \u001B[38;5;241m0\u001B[39m)\u001B[38;5;241m.\u001B[39many():\n\u001B[1;32m    291\u001B[0m         \u001B[38;5;28;01mraise\u001B[39;00m \u001B[38;5;167;01mValueError\u001B[39;00m(\u001B[38;5;124m\"\u001B[39m\u001B[38;5;124mbins must increase monotonically.\u001B[39m\u001B[38;5;124m\"\u001B[39m)\n\u001B[0;32m--> 293\u001B[0m fac, bins \u001B[38;5;241m=\u001B[39m \u001B[43m_bins_to_cuts\u001B[49m\u001B[43m(\u001B[49m\n\u001B[1;32m    294\u001B[0m \u001B[43m    \u001B[49m\u001B[43mx\u001B[49m\u001B[43m,\u001B[49m\n\u001B[1;32m    295\u001B[0m \u001B[43m    \u001B[49m\u001B[43mbins\u001B[49m\u001B[43m,\u001B[49m\n\u001B[1;32m    296\u001B[0m \u001B[43m    \u001B[49m\u001B[43mright\u001B[49m\u001B[38;5;241;43m=\u001B[39;49m\u001B[43mright\u001B[49m\u001B[43m,\u001B[49m\n\u001B[1;32m    297\u001B[0m \u001B[43m    \u001B[49m\u001B[43mlabels\u001B[49m\u001B[38;5;241;43m=\u001B[39;49m\u001B[43mlabels\u001B[49m\u001B[43m,\u001B[49m\n\u001B[1;32m    298\u001B[0m \u001B[43m    \u001B[49m\u001B[43mprecision\u001B[49m\u001B[38;5;241;43m=\u001B[39;49m\u001B[43mprecision\u001B[49m\u001B[43m,\u001B[49m\n\u001B[1;32m    299\u001B[0m \u001B[43m    \u001B[49m\u001B[43minclude_lowest\u001B[49m\u001B[38;5;241;43m=\u001B[39;49m\u001B[43minclude_lowest\u001B[49m\u001B[43m,\u001B[49m\n\u001B[1;32m    300\u001B[0m \u001B[43m    \u001B[49m\u001B[43mdtype\u001B[49m\u001B[38;5;241;43m=\u001B[39;49m\u001B[43mdtype\u001B[49m\u001B[43m,\u001B[49m\n\u001B[1;32m    301\u001B[0m \u001B[43m    \u001B[49m\u001B[43mduplicates\u001B[49m\u001B[38;5;241;43m=\u001B[39;49m\u001B[43mduplicates\u001B[49m\u001B[43m,\u001B[49m\n\u001B[1;32m    302\u001B[0m \u001B[43m    \u001B[49m\u001B[43mordered\u001B[49m\u001B[38;5;241;43m=\u001B[39;49m\u001B[43mordered\u001B[49m\u001B[43m,\u001B[49m\n\u001B[1;32m    303\u001B[0m \u001B[43m\u001B[49m\u001B[43m)\u001B[49m\n\u001B[1;32m    305\u001B[0m \u001B[38;5;28;01mreturn\u001B[39;00m _postprocess_for_cut(fac, bins, retbins, dtype, original)\n",
      "File \u001B[0;32m/Library/Frameworks/Python.framework/Versions/3.11/lib/python3.11/site-packages/pandas/core/reshape/tile.py:454\u001B[0m, in \u001B[0;36m_bins_to_cuts\u001B[0;34m(x, bins, right, labels, precision, include_lowest, dtype, duplicates, ordered)\u001B[0m\n\u001B[1;32m    452\u001B[0m \u001B[38;5;28;01melse\u001B[39;00m:\n\u001B[1;32m    453\u001B[0m     \u001B[38;5;28;01mif\u001B[39;00m \u001B[38;5;28mlen\u001B[39m(labels) \u001B[38;5;241m!=\u001B[39m \u001B[38;5;28mlen\u001B[39m(bins) \u001B[38;5;241m-\u001B[39m \u001B[38;5;241m1\u001B[39m:\n\u001B[0;32m--> 454\u001B[0m         \u001B[38;5;28;01mraise\u001B[39;00m \u001B[38;5;167;01mValueError\u001B[39;00m(\n\u001B[1;32m    455\u001B[0m             \u001B[38;5;124m\"\u001B[39m\u001B[38;5;124mBin labels must be one fewer than the number of bin edges\u001B[39m\u001B[38;5;124m\"\u001B[39m\n\u001B[1;32m    456\u001B[0m         )\n\u001B[1;32m    458\u001B[0m \u001B[38;5;28;01mif\u001B[39;00m \u001B[38;5;129;01mnot\u001B[39;00m \u001B[38;5;28misinstance\u001B[39m(\u001B[38;5;28mgetattr\u001B[39m(labels, \u001B[38;5;124m\"\u001B[39m\u001B[38;5;124mdtype\u001B[39m\u001B[38;5;124m\"\u001B[39m, \u001B[38;5;28;01mNone\u001B[39;00m), CategoricalDtype):\n\u001B[1;32m    459\u001B[0m     labels \u001B[38;5;241m=\u001B[39m Categorical(\n\u001B[1;32m    460\u001B[0m         labels,\n\u001B[1;32m    461\u001B[0m         categories\u001B[38;5;241m=\u001B[39mlabels \u001B[38;5;28;01mif\u001B[39;00m \u001B[38;5;28mlen\u001B[39m(\u001B[38;5;28mset\u001B[39m(labels)) \u001B[38;5;241m==\u001B[39m \u001B[38;5;28mlen\u001B[39m(labels) \u001B[38;5;28;01melse\u001B[39;00m \u001B[38;5;28;01mNone\u001B[39;00m,\n\u001B[1;32m    462\u001B[0m         ordered\u001B[38;5;241m=\u001B[39mordered,\n\u001B[1;32m    463\u001B[0m     )\n",
      "\u001B[0;31mValueError\u001B[0m: Bin labels must be one fewer than the number of bin edges"
     ]
    }
   ],
   "source": [
    "cols = ['Population','Temperature','Precipitation','Elevation','Electricity-Prices','Minimum-Wage']\n",
    "class_columns = [col + '_Class' for col in cols]\n",
    "labels = [[7,6,5,4,3,2,1],[2,5,7,6,4,3,1],[7,6,5,4,3,2,1],[7,6,5,4,3,2,1],[7,6,5,4,3,2,1],[7,6,5,4,3,2,1]]\n",
    "update_csv('dac.csv','dac_class.csv',cols,class_columns,labels)"
   ],
   "metadata": {
    "collapsed": false,
    "ExecuteTime": {
     "end_time": "2023-11-02T16:24:36.700021Z",
     "start_time": "2023-11-02T16:24:36.655252Z"
    }
   },
   "id": "1f5dbc93790d5504"
  },
  {
   "cell_type": "code",
   "execution_count": 54,
   "outputs": [],
   "source": [
    "def calculate_quantiles(df, column_name, n=7):\n",
    "    col_sorted = df[column_name].sort_values().reset_index(drop=True)\n",
    "    quantiles = [-float('inf')]\n",
    "    \n",
    "    for i in range(1, n):\n",
    "        q = col_sorted.quantile(i / n)\n",
    "        quantiles.append(q)\n",
    "    \n",
    "    quantiles.append(float('inf'))\n",
    "\n",
    "    return quantiles\n"
   ],
   "metadata": {
    "collapsed": false,
    "ExecuteTime": {
     "end_time": "2023-11-02T16:24:37.110431Z",
     "start_time": "2023-11-02T16:24:37.105662Z"
    }
   },
   "id": "b0105de0dfe2ec99"
  },
  {
   "cell_type": "code",
   "execution_count": 49,
   "outputs": [
    {
     "name": "stdout",
     "output_type": "stream",
     "text": [
      "[-inf, 7.25, 7.25, 7.25, 9.0, 11.0, 12.0, inf]\n"
     ]
    }
   ],
   "source": [
    "wage = calculate_quantiles(dac, 'Minimum-Wage')\n",
    "print(wage)"
   ],
   "metadata": {
    "collapsed": false,
    "ExecuteTime": {
     "end_time": "2023-11-02T14:33:56.686513Z",
     "start_time": "2023-11-02T14:33:56.674091Z"
    }
   },
   "id": "bbc21636ed2362a1"
  },
  {
   "cell_type": "code",
   "execution_count": null,
   "outputs": [],
   "source": [],
   "metadata": {
    "collapsed": false
   },
   "id": "92066d0009d75e8d"
  }
 ],
 "metadata": {
  "kernelspec": {
   "display_name": "Python 3",
   "language": "python",
   "name": "python3"
  },
  "language_info": {
   "codemirror_mode": {
    "name": "ipython",
    "version": 2
   },
   "file_extension": ".py",
   "mimetype": "text/x-python",
   "name": "python",
   "nbconvert_exporter": "python",
   "pygments_lexer": "ipython2",
   "version": "2.7.6"
  }
 },
 "nbformat": 4,
 "nbformat_minor": 5
}
