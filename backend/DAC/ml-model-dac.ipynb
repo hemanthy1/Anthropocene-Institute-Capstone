{
 "cells": [
  {
   "cell_type": "code",
   "execution_count": 1,
   "id": "initial_id",
   "metadata": {
    "collapsed": true,
    "ExecuteTime": {
     "end_time": "2023-11-02T21:41:03.282679Z",
     "start_time": "2023-11-02T21:41:00.124146Z"
    }
   },
   "outputs": [],
   "source": [
    "import pandas as pd\n",
    "from sklearn.model_selection import train_test_split\n",
    "from sklearn.ensemble import RandomForestClassifier\n",
    "from sklearn.metrics import accuracy_score\n",
    "from math import ceil"
   ]
  },
  {
   "cell_type": "code",
   "execution_count": 5,
   "outputs": [
    {
     "data": {
      "text/plain": "     State Abbreviation   County  Population  Temperature  Precipitation  \\\n0  Alabama           AL  Autauga       59759         66.1          51.89   \n1  Alabama           AL  Baldwin      246435         70.1          50.71   \n2  Alabama           AL  Barbour       24706         66.4          48.95   \n3  Alabama           AL     Bibb       22005         64.4          53.22   \n4  Alabama           AL   Blount       59512         62.5          60.68   \n\n    Elevation  Electricity-Prices     Wage  Population_Class  \\\n0  111.111422               14.21  48347.0                 2   \n1   36.783019               14.21  54659.0                 1   \n2  114.048849               14.21  40428.0                 4   \n3  125.742119               14.21  36892.0                 4   \n4  240.213488               14.21  42634.0                 2   \n\n   Temperature_Class  Precipitation_Class  Elevation_Class  \\\n0                  1                    2                6   \n1                  1                    2                7   \n2                  1                    2                6   \n3                  3                    1                6   \n4                  3                    1                5   \n\n   Electricity-Prices_Class  Wage_Class  \n0                         1           5  \n1                         1           3  \n2                         1           7  \n3                         1           7  \n4                         1           6  ",
      "text/html": "<div>\n<style scoped>\n    .dataframe tbody tr th:only-of-type {\n        vertical-align: middle;\n    }\n\n    .dataframe tbody tr th {\n        vertical-align: top;\n    }\n\n    .dataframe thead th {\n        text-align: right;\n    }\n</style>\n<table border=\"1\" class=\"dataframe\">\n  <thead>\n    <tr style=\"text-align: right;\">\n      <th></th>\n      <th>State</th>\n      <th>Abbreviation</th>\n      <th>County</th>\n      <th>Population</th>\n      <th>Temperature</th>\n      <th>Precipitation</th>\n      <th>Elevation</th>\n      <th>Electricity-Prices</th>\n      <th>Wage</th>\n      <th>Population_Class</th>\n      <th>Temperature_Class</th>\n      <th>Precipitation_Class</th>\n      <th>Elevation_Class</th>\n      <th>Electricity-Prices_Class</th>\n      <th>Wage_Class</th>\n    </tr>\n  </thead>\n  <tbody>\n    <tr>\n      <th>0</th>\n      <td>Alabama</td>\n      <td>AL</td>\n      <td>Autauga</td>\n      <td>59759</td>\n      <td>66.1</td>\n      <td>51.89</td>\n      <td>111.111422</td>\n      <td>14.21</td>\n      <td>48347.0</td>\n      <td>2</td>\n      <td>1</td>\n      <td>2</td>\n      <td>6</td>\n      <td>1</td>\n      <td>5</td>\n    </tr>\n    <tr>\n      <th>1</th>\n      <td>Alabama</td>\n      <td>AL</td>\n      <td>Baldwin</td>\n      <td>246435</td>\n      <td>70.1</td>\n      <td>50.71</td>\n      <td>36.783019</td>\n      <td>14.21</td>\n      <td>54659.0</td>\n      <td>1</td>\n      <td>1</td>\n      <td>2</td>\n      <td>7</td>\n      <td>1</td>\n      <td>3</td>\n    </tr>\n    <tr>\n      <th>2</th>\n      <td>Alabama</td>\n      <td>AL</td>\n      <td>Barbour</td>\n      <td>24706</td>\n      <td>66.4</td>\n      <td>48.95</td>\n      <td>114.048849</td>\n      <td>14.21</td>\n      <td>40428.0</td>\n      <td>4</td>\n      <td>1</td>\n      <td>2</td>\n      <td>6</td>\n      <td>1</td>\n      <td>7</td>\n    </tr>\n    <tr>\n      <th>3</th>\n      <td>Alabama</td>\n      <td>AL</td>\n      <td>Bibb</td>\n      <td>22005</td>\n      <td>64.4</td>\n      <td>53.22</td>\n      <td>125.742119</td>\n      <td>14.21</td>\n      <td>36892.0</td>\n      <td>4</td>\n      <td>3</td>\n      <td>1</td>\n      <td>6</td>\n      <td>1</td>\n      <td>7</td>\n    </tr>\n    <tr>\n      <th>4</th>\n      <td>Alabama</td>\n      <td>AL</td>\n      <td>Blount</td>\n      <td>59512</td>\n      <td>62.5</td>\n      <td>60.68</td>\n      <td>240.213488</td>\n      <td>14.21</td>\n      <td>42634.0</td>\n      <td>2</td>\n      <td>3</td>\n      <td>1</td>\n      <td>5</td>\n      <td>1</td>\n      <td>6</td>\n    </tr>\n  </tbody>\n</table>\n</div>"
     },
     "execution_count": 5,
     "metadata": {},
     "output_type": "execute_result"
    }
   ],
   "source": [
    "data = pd.read_csv('dac_class.csv')\n",
    "data.head()\n"
   ],
   "metadata": {
    "collapsed": false,
    "ExecuteTime": {
     "end_time": "2023-11-02T21:41:59.936063Z",
     "start_time": "2023-11-02T21:41:59.915415Z"
    }
   },
   "id": "e5c20dac74d5e597"
  },
  {
   "cell_type": "code",
   "execution_count": 6,
   "outputs": [
    {
     "data": {
      "text/plain": "     State Abbreviation   County  Population  Temperature  Precipitation  \\\n0  Alabama           AL  Autauga       59759         66.1          51.89   \n1  Alabama           AL  Baldwin      246435         70.1          50.71   \n2  Alabama           AL  Barbour       24706         66.4          48.95   \n3  Alabama           AL     Bibb       22005         64.4          53.22   \n4  Alabama           AL   Blount       59512         62.5          60.68   \n\n    Elevation  Electricity-Prices     Wage  Population_Class  \\\n0  111.111422               14.21  48347.0                 2   \n1   36.783019               14.21  54659.0                 1   \n2  114.048849               14.21  40428.0                 4   \n3  125.742119               14.21  36892.0                 4   \n4  240.213488               14.21  42634.0                 2   \n\n   Temperature_Class  Precipitation_Class  Elevation_Class  \\\n0                  1                    2                6   \n1                  1                    2                7   \n2                  1                    2                6   \n3                  3                    1                6   \n4                  3                    1                5   \n\n   Electricity-Prices_Class  Wage_Class  percentile_rank  Final_Class  \n0                         1           5             0.06            1  \n1                         1           3             0.03            1  \n2                         1           7             0.25            2  \n3                         1           7             0.31            3  \n4                         1           6             0.09            1  ",
      "text/html": "<div>\n<style scoped>\n    .dataframe tbody tr th:only-of-type {\n        vertical-align: middle;\n    }\n\n    .dataframe tbody tr th {\n        vertical-align: top;\n    }\n\n    .dataframe thead th {\n        text-align: right;\n    }\n</style>\n<table border=\"1\" class=\"dataframe\">\n  <thead>\n    <tr style=\"text-align: right;\">\n      <th></th>\n      <th>State</th>\n      <th>Abbreviation</th>\n      <th>County</th>\n      <th>Population</th>\n      <th>Temperature</th>\n      <th>Precipitation</th>\n      <th>Elevation</th>\n      <th>Electricity-Prices</th>\n      <th>Wage</th>\n      <th>Population_Class</th>\n      <th>Temperature_Class</th>\n      <th>Precipitation_Class</th>\n      <th>Elevation_Class</th>\n      <th>Electricity-Prices_Class</th>\n      <th>Wage_Class</th>\n      <th>percentile_rank</th>\n      <th>Final_Class</th>\n    </tr>\n  </thead>\n  <tbody>\n    <tr>\n      <th>0</th>\n      <td>Alabama</td>\n      <td>AL</td>\n      <td>Autauga</td>\n      <td>59759</td>\n      <td>66.1</td>\n      <td>51.89</td>\n      <td>111.111422</td>\n      <td>14.21</td>\n      <td>48347.0</td>\n      <td>2</td>\n      <td>1</td>\n      <td>2</td>\n      <td>6</td>\n      <td>1</td>\n      <td>5</td>\n      <td>0.06</td>\n      <td>1</td>\n    </tr>\n    <tr>\n      <th>1</th>\n      <td>Alabama</td>\n      <td>AL</td>\n      <td>Baldwin</td>\n      <td>246435</td>\n      <td>70.1</td>\n      <td>50.71</td>\n      <td>36.783019</td>\n      <td>14.21</td>\n      <td>54659.0</td>\n      <td>1</td>\n      <td>1</td>\n      <td>2</td>\n      <td>7</td>\n      <td>1</td>\n      <td>3</td>\n      <td>0.03</td>\n      <td>1</td>\n    </tr>\n    <tr>\n      <th>2</th>\n      <td>Alabama</td>\n      <td>AL</td>\n      <td>Barbour</td>\n      <td>24706</td>\n      <td>66.4</td>\n      <td>48.95</td>\n      <td>114.048849</td>\n      <td>14.21</td>\n      <td>40428.0</td>\n      <td>4</td>\n      <td>1</td>\n      <td>2</td>\n      <td>6</td>\n      <td>1</td>\n      <td>7</td>\n      <td>0.25</td>\n      <td>2</td>\n    </tr>\n    <tr>\n      <th>3</th>\n      <td>Alabama</td>\n      <td>AL</td>\n      <td>Bibb</td>\n      <td>22005</td>\n      <td>64.4</td>\n      <td>53.22</td>\n      <td>125.742119</td>\n      <td>14.21</td>\n      <td>36892.0</td>\n      <td>4</td>\n      <td>3</td>\n      <td>1</td>\n      <td>6</td>\n      <td>1</td>\n      <td>7</td>\n      <td>0.31</td>\n      <td>3</td>\n    </tr>\n    <tr>\n      <th>4</th>\n      <td>Alabama</td>\n      <td>AL</td>\n      <td>Blount</td>\n      <td>59512</td>\n      <td>62.5</td>\n      <td>60.68</td>\n      <td>240.213488</td>\n      <td>14.21</td>\n      <td>42634.0</td>\n      <td>2</td>\n      <td>3</td>\n      <td>1</td>\n      <td>5</td>\n      <td>1</td>\n      <td>6</td>\n      <td>0.09</td>\n      <td>1</td>\n    </tr>\n  </tbody>\n</table>\n</div>"
     },
     "execution_count": 6,
     "metadata": {},
     "output_type": "execute_result"
    }
   ],
   "source": [
    "avg_scores = data[['Population_Class','Temperature_Class','Precipitation_Class', 'Elevation_Class','Electricity-Prices_Class','Wage_Class']].mean(axis=1)\n",
    "\n",
    "data['percentile_rank'] = avg_scores.rank(pct=True).round(2)\n",
    "\n",
    "data['Final_Class'] = data['percentile_rank'].apply(lambda x: ceil(x * 7))\n",
    "\n",
    "data.head()"
   ],
   "metadata": {
    "collapsed": false,
    "ExecuteTime": {
     "end_time": "2023-11-02T21:42:00.809469Z",
     "start_time": "2023-11-02T21:42:00.795404Z"
    }
   },
   "id": "33567e36db0097e2"
  },
  {
   "cell_type": "code",
   "execution_count": 9,
   "outputs": [],
   "source": [
    "data.to_csv('dac_class.csv',index=False)"
   ],
   "metadata": {
    "collapsed": false,
    "ExecuteTime": {
     "end_time": "2023-11-02T21:43:12.573972Z",
     "start_time": "2023-11-02T21:43:12.547924Z"
    }
   },
   "id": "bfc334db4e444d05"
  },
  {
   "cell_type": "code",
   "execution_count": 10,
   "outputs": [
    {
     "name": "stdout",
     "output_type": "stream",
     "text": [
      "Accuracy: 0.9632\n"
     ]
    }
   ],
   "source": [
    "features = ['Population_Class','Temperature_Class','Precipitation_Class', 'Elevation_Class','Electricity-Prices_Class','Wage_Class']\n",
    "X = data[features]\n",
    "y = data['Final_Class']\n",
    "\n",
    "X_train, X_test, y_train, y_test = train_test_split(X, y, test_size=0.2, random_state=42)\n",
    "\n",
    "from sklearn.svm import SVC\n",
    "from sklearn.metrics import accuracy_score\n",
    "from sklearn.preprocessing import StandardScaler\n",
    "\n",
    "scaler = StandardScaler()\n",
    "X_train_scaled = scaler.fit_transform(X_train)\n",
    "X_test_scaled = scaler.transform(X_test)\n",
    "\n",
    "clf_svm = SVC(kernel='linear', C=0.1)  \n",
    "\n",
    "clf_svm.fit(X_train_scaled, y_train)\n",
    "\n",
    "y_pred = clf_svm.predict(X_test_scaled)\n",
    "\n",
    "print(\"Accuracy:\", accuracy_score(y_test, y_pred))"
   ],
   "metadata": {
    "collapsed": false,
    "ExecuteTime": {
     "end_time": "2023-11-02T21:43:13.378091Z",
     "start_time": "2023-11-02T21:43:13.326793Z"
    }
   },
   "id": "6b0e69bdaa6158b0"
  },
  {
   "cell_type": "code",
   "execution_count": null,
   "outputs": [],
   "source": [],
   "metadata": {
    "collapsed": false
   },
   "id": "7542f33a088e5634"
  }
 ],
 "metadata": {
  "kernelspec": {
   "display_name": "Python 3",
   "language": "python",
   "name": "python3"
  },
  "language_info": {
   "codemirror_mode": {
    "name": "ipython",
    "version": 2
   },
   "file_extension": ".py",
   "mimetype": "text/x-python",
   "name": "python",
   "nbconvert_exporter": "python",
   "pygments_lexer": "ipython2",
   "version": "2.7.6"
  }
 },
 "nbformat": 4,
 "nbformat_minor": 5
}
