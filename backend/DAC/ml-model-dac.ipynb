{
 "cells": [
  {
   "cell_type": "code",
   "execution_count": null,
   "id": "initial_id",
   "metadata": {
    "collapsed": true
   },
   "outputs": [],
   "source": [
    "import pandas as pd\n",
    "from sklearn.model_selection import train_test_split\n",
    "from sklearn.ensemble import RandomForestClassifier\n",
    "from sklearn.metrics import accuracy_score\n",
    "from math import ceil"
   ]
  },
  {
   "cell_type": "code",
   "execution_count": null,
   "outputs": [],
   "source": [
    "data = pd.read_csv('dac.csv')\n",
    "data.head()\n"
   ],
   "metadata": {
    "collapsed": false
   },
   "id": "e5c20dac74d5e597"
  },
  {
   "cell_type": "code",
   "execution_count": null,
   "outputs": [],
   "source": [
    "avg_scores = data[['Population_Class','Temperature_Class','Precipitation_Class', 'Elevation_Class','Electricity-Prices_Class','Minimum-Wage_Class']].mean(axis=1)\n",
    "\n",
    "data['percentile_rank'] = avg_scores.rank(pct=True).round(2)\n",
    "\n",
    "data['Final_Class'] = data['percentile_rank'].apply(lambda x: ceil(x * 7))\n",
    "\n",
    "data.head()"
   ],
   "metadata": {
    "collapsed": false
   },
   "id": "33567e36db0097e2"
  },
  {
   "cell_type": "code",
   "execution_count": null,
   "outputs": [],
   "source": [
    "features = ['Population_Class','Temperature_Class','Precipitation_Class', 'Elevation_Class','Electricity-Prices_Class','Minimum-Wage_Class']\n",
    "X = data[features]\n",
    "y = data['Final_Class']\n",
    "\n",
    "X_train, X_test, y_train, y_test = train_test_split(X, y, test_size=0.2, random_state=42)\n",
    "\n",
    "from sklearn.svm import SVC\n",
    "from sklearn.metrics import accuracy_score\n",
    "from sklearn.preprocessing import StandardScaler\n",
    "\n",
    "scaler = StandardScaler()\n",
    "X_train_scaled = scaler.fit_transform(X_train)\n",
    "X_test_scaled = scaler.transform(X_test)\n",
    "\n",
    "clf_svm = SVC(kernel='linear', C=0.1)  \n",
    "\n",
    "clf_svm.fit(X_train_scaled, y_train)\n",
    "\n",
    "y_pred = clf_svm.predict(X_test_scaled)\n",
    "\n",
    "print(\"Accuracy:\", accuracy_score(y_test, y_pred))"
   ],
   "metadata": {
    "collapsed": false
   },
   "id": "6b0e69bdaa6158b0"
  }
 ],
 "metadata": {
  "kernelspec": {
   "display_name": "Python 3",
   "language": "python",
   "name": "python3"
  },
  "language_info": {
   "codemirror_mode": {
    "name": "ipython",
    "version": 2
   },
   "file_extension": ".py",
   "mimetype": "text/x-python",
   "name": "python",
   "nbconvert_exporter": "python",
   "pygments_lexer": "ipython2",
   "version": "2.7.6"
  }
 },
 "nbformat": 4,
 "nbformat_minor": 5
}
