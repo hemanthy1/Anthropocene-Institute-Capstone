{
 "cells": [
  {
   "cell_type": "code",
   "execution_count": 1,
   "id": "initial_id",
   "metadata": {
    "ExecuteTime": {
     "end_time": "2023-11-02T16:24:35.538782Z",
     "start_time": "2023-11-02T16:24:35.535613Z"
    }
   },
   "outputs": [],
   "source": [
    "import pandas as pd\n",
    "import sys\n",
    "sys.path.append('../')"
   ]
  },
  {
   "cell_type": "code",
   "execution_count": 2,
   "id": "f44e708f",
   "metadata": {},
   "outputs": [],
   "source": [
    "from feature_processing_func import assign_classes, update_csv"
   ]
  },
  {
   "cell_type": "code",
   "execution_count": 4,
   "id": "4cac7b515bb60d90",
   "metadata": {
    "ExecuteTime": {
     "end_time": "2023-11-02T21:40:49.284403Z",
     "start_time": "2023-11-02T21:40:49.278758Z"
    }
   },
   "outputs": [],
   "source": [
    "dac = pd.read_csv('dac.csv')"
   ]
  },
  {
   "cell_type": "code",
   "execution_count": 5,
   "id": "1f5dbc93790d5504",
   "metadata": {
    "ExecuteTime": {
     "end_time": "2023-11-02T21:40:49.869602Z",
     "start_time": "2023-11-02T21:40:49.827070Z"
    }
   },
   "outputs": [
    {
     "name": "stdout",
     "output_type": "stream",
     "text": [
      "     State Abbreviation   County  Population  Temperature  Precipitation  \\\n",
      "0  Alabama           AL  Autauga       59759         66.1          51.89   \n",
      "1  Alabama           AL  Baldwin      246435         70.1          50.71   \n",
      "2  Alabama           AL  Barbour       24706         66.4          48.95   \n",
      "3  Alabama           AL     Bibb       22005         64.4          53.22   \n",
      "4  Alabama           AL   Blount       59512         62.5          60.68   \n",
      "\n",
      "    Elevation  Electricity-Prices     Wage Population_Class Temperature_Class  \\\n",
      "0  111.111422               14.21  48347.0                2                 1   \n",
      "1   36.783019               14.21  54659.0                1                 1   \n",
      "2  114.048849               14.21  40428.0                4                 1   \n",
      "3  125.742119               14.21  36892.0                4                 3   \n",
      "4  240.213488               14.21  42634.0                2                 3   \n",
      "\n",
      "  Precipitation_Class Elevation_Class Electricity-Prices_Class Wage_Class  \n",
      "0                   2               6                        1          5  \n",
      "1                   2               7                        1          3  \n",
      "2                   2               6                        1          7  \n",
      "3                   1               6                        1          7  \n",
      "4                   1               5                        1          6  \n"
     ]
    }
   ],
   "source": [
    "cols = ['Population','Temperature','Precipitation','Elevation','Electricity-Prices','Wage']\n",
    "class_columns = [col + '_Class' for col in cols]\n",
    "labels = [[7,6,5,4,3,2,1],[2,5,7,6,4,3,1],[7,6,5,4,3,2,1],[7,6,5,4,3,2,1],[7,6,5,4,3,2,1],[7,6,5,4,3,2,1]]\n",
    "update_csv('dac.csv','dac_class.csv',cols,class_columns,labels)"
   ]
  }
 ],
 "metadata": {
  "kernelspec": {
   "display_name": "Python 3 (ipykernel)",
   "language": "python",
   "name": "python3"
  },
  "language_info": {
   "codemirror_mode": {
    "name": "ipython",
    "version": 3
   },
   "file_extension": ".py",
   "mimetype": "text/x-python",
   "name": "python",
   "nbconvert_exporter": "python",
   "pygments_lexer": "ipython3",
   "version": "3.11.5"
  }
 },
 "nbformat": 4,
 "nbformat_minor": 5
}
