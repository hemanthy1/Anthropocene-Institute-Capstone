{
 "cells": [
  {
   "cell_type": "code",
   "execution_count": 3,
   "id": "initial_id",
   "metadata": {
    "collapsed": true,
    "ExecuteTime": {
     "end_time": "2023-11-07T21:21:56.054500Z",
     "start_time": "2023-11-07T21:21:55.286285Z"
    }
   },
   "outputs": [],
   "source": [
    "import pandas as pd\n",
    "from sklearn.model_selection import train_test_split\n",
    "from sklearn.ensemble import RandomForestClassifier\n",
    "from sklearn.metrics import accuracy_score\n",
    "from math import ceil"
   ]
  },
  {
   "cell_type": "code",
   "execution_count": 4,
   "outputs": [
    {
     "data": {
      "text/plain": "   latitude  longitude  Depth  Temperature      pH  Depth_Class  \\\n0    56.509  -170.8147  122.0        2.199  7.9743            5   \n1    56.509  -170.8147  122.0        2.098  7.9977            5   \n2    56.509  -170.8147  122.0        1.637  8.0398            5   \n3    56.509  -170.8147  122.0        0.763  8.0659            5   \n4    56.509  -170.8147  122.0       -0.318  8.0661            5   \n\n   Temperature_Class  pH_Class  \n0                  3         3  \n1                  3         4  \n2                  3         5  \n3                  2         6  \n4                  2         6  ",
      "text/html": "<div>\n<style scoped>\n    .dataframe tbody tr th:only-of-type {\n        vertical-align: middle;\n    }\n\n    .dataframe tbody tr th {\n        vertical-align: top;\n    }\n\n    .dataframe thead th {\n        text-align: right;\n    }\n</style>\n<table border=\"1\" class=\"dataframe\">\n  <thead>\n    <tr style=\"text-align: right;\">\n      <th></th>\n      <th>latitude</th>\n      <th>longitude</th>\n      <th>Depth</th>\n      <th>Temperature</th>\n      <th>pH</th>\n      <th>Depth_Class</th>\n      <th>Temperature_Class</th>\n      <th>pH_Class</th>\n    </tr>\n  </thead>\n  <tbody>\n    <tr>\n      <th>0</th>\n      <td>56.509</td>\n      <td>-170.8147</td>\n      <td>122.0</td>\n      <td>2.199</td>\n      <td>7.9743</td>\n      <td>5</td>\n      <td>3</td>\n      <td>3</td>\n    </tr>\n    <tr>\n      <th>1</th>\n      <td>56.509</td>\n      <td>-170.8147</td>\n      <td>122.0</td>\n      <td>2.098</td>\n      <td>7.9977</td>\n      <td>5</td>\n      <td>3</td>\n      <td>4</td>\n    </tr>\n    <tr>\n      <th>2</th>\n      <td>56.509</td>\n      <td>-170.8147</td>\n      <td>122.0</td>\n      <td>1.637</td>\n      <td>8.0398</td>\n      <td>5</td>\n      <td>3</td>\n      <td>5</td>\n    </tr>\n    <tr>\n      <th>3</th>\n      <td>56.509</td>\n      <td>-170.8147</td>\n      <td>122.0</td>\n      <td>0.763</td>\n      <td>8.0659</td>\n      <td>5</td>\n      <td>2</td>\n      <td>6</td>\n    </tr>\n    <tr>\n      <th>4</th>\n      <td>56.509</td>\n      <td>-170.8147</td>\n      <td>122.0</td>\n      <td>-0.318</td>\n      <td>8.0661</td>\n      <td>5</td>\n      <td>2</td>\n      <td>6</td>\n    </tr>\n  </tbody>\n</table>\n</div>"
     },
     "execution_count": 4,
     "metadata": {},
     "output_type": "execute_result"
    }
   ],
   "source": [
    "data = pd.read_csv('kelp_class.csv')\n",
    "data.head()"
   ],
   "metadata": {
    "collapsed": false,
    "ExecuteTime": {
     "end_time": "2023-11-07T21:21:56.624124Z",
     "start_time": "2023-11-07T21:21:56.588688Z"
    }
   },
   "id": "da69a1aea1e15aa4"
  },
  {
   "cell_type": "code",
   "execution_count": 6,
   "outputs": [
    {
     "data": {
      "text/plain": "   latitude  longitude  Depth  Temperature      pH  Depth_Class  \\\n0    56.509  -170.8147  122.0        2.199  7.9743            5   \n1    56.509  -170.8147  122.0        2.098  7.9977            5   \n2    56.509  -170.8147  122.0        1.637  8.0398            5   \n3    56.509  -170.8147  122.0        0.763  8.0659            5   \n4    56.509  -170.8147  122.0       -0.318  8.0661            5   \n\n   Temperature_Class  pH_Class  percentile_rank  Final_Class  \n0                  3         3             0.39            3  \n1                  3         4             0.50            4  \n2                  3         5             0.61            5  \n3                  2         6             0.61            5  \n4                  2         6             0.61            5  ",
      "text/html": "<div>\n<style scoped>\n    .dataframe tbody tr th:only-of-type {\n        vertical-align: middle;\n    }\n\n    .dataframe tbody tr th {\n        vertical-align: top;\n    }\n\n    .dataframe thead th {\n        text-align: right;\n    }\n</style>\n<table border=\"1\" class=\"dataframe\">\n  <thead>\n    <tr style=\"text-align: right;\">\n      <th></th>\n      <th>latitude</th>\n      <th>longitude</th>\n      <th>Depth</th>\n      <th>Temperature</th>\n      <th>pH</th>\n      <th>Depth_Class</th>\n      <th>Temperature_Class</th>\n      <th>pH_Class</th>\n      <th>percentile_rank</th>\n      <th>Final_Class</th>\n    </tr>\n  </thead>\n  <tbody>\n    <tr>\n      <th>0</th>\n      <td>56.509</td>\n      <td>-170.8147</td>\n      <td>122.0</td>\n      <td>2.199</td>\n      <td>7.9743</td>\n      <td>5</td>\n      <td>3</td>\n      <td>3</td>\n      <td>0.39</td>\n      <td>3</td>\n    </tr>\n    <tr>\n      <th>1</th>\n      <td>56.509</td>\n      <td>-170.8147</td>\n      <td>122.0</td>\n      <td>2.098</td>\n      <td>7.9977</td>\n      <td>5</td>\n      <td>3</td>\n      <td>4</td>\n      <td>0.50</td>\n      <td>4</td>\n    </tr>\n    <tr>\n      <th>2</th>\n      <td>56.509</td>\n      <td>-170.8147</td>\n      <td>122.0</td>\n      <td>1.637</td>\n      <td>8.0398</td>\n      <td>5</td>\n      <td>3</td>\n      <td>5</td>\n      <td>0.61</td>\n      <td>5</td>\n    </tr>\n    <tr>\n      <th>3</th>\n      <td>56.509</td>\n      <td>-170.8147</td>\n      <td>122.0</td>\n      <td>0.763</td>\n      <td>8.0659</td>\n      <td>5</td>\n      <td>2</td>\n      <td>6</td>\n      <td>0.61</td>\n      <td>5</td>\n    </tr>\n    <tr>\n      <th>4</th>\n      <td>56.509</td>\n      <td>-170.8147</td>\n      <td>122.0</td>\n      <td>-0.318</td>\n      <td>8.0661</td>\n      <td>5</td>\n      <td>2</td>\n      <td>6</td>\n      <td>0.61</td>\n      <td>5</td>\n    </tr>\n  </tbody>\n</table>\n</div>"
     },
     "execution_count": 6,
     "metadata": {},
     "output_type": "execute_result"
    }
   ],
   "source": [
    "avg_scores = data[['depth_Class','temperature_Class','pH_Class']].mean(axis=1)\n",
    "\n",
    "data['percentile_rank'] = avg_scores.rank(pct=True).round(2)\n",
    "\n",
    "data['Final_Class'] = data['percentile_rank'].apply(lambda x: ceil(x * 7))\n",
    "\n",
    "data.head()"
   ],
   "metadata": {
    "collapsed": false,
    "ExecuteTime": {
     "end_time": "2023-11-07T21:22:05.140188Z",
     "start_time": "2023-11-07T21:22:05.107731Z"
    }
   },
   "id": "452523fd944c989a"
  },
  {
   "cell_type": "code",
   "execution_count": 7,
   "outputs": [
    {
     "name": "stdout",
     "output_type": "stream",
     "text": [
      "Accuracy: 1.0\n"
     ]
    }
   ],
   "source": [],
   "metadata": {
    "collapsed": false,
    "ExecuteTime": {
     "end_time": "2023-11-07T21:27:33.831200Z",
     "start_time": "2023-11-07T21:27:33.363118Z"
    }
   },
   "id": "ed443b6ae479d9f0"
  }
 ],
 "metadata": {
  "kernelspec": {
   "display_name": "Python 3",
   "language": "python",
   "name": "python3"
  },
  "language_info": {
   "codemirror_mode": {
    "name": "ipython",
    "version": 2
   },
   "file_extension": ".py",
   "mimetype": "text/x-python",
   "name": "python",
   "nbconvert_exporter": "python",
   "pygments_lexer": "ipython2",
   "version": "2.7.6"
  }
 },
 "nbformat": 4,
 "nbformat_minor": 5
}
