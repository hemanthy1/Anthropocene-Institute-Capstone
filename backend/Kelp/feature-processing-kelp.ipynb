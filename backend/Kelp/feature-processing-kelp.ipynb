{
 "cells": [
  {
   "cell_type": "code",
   "execution_count": 7,
   "id": "initial_id",
   "metadata": {
    "collapsed": true,
    "ExecuteTime": {
     "end_time": "2023-11-07T18:49:39.801077Z",
     "start_time": "2023-11-07T18:49:39.798605Z"
    }
   },
   "outputs": [],
   "source": [
    "import pandas as pd"
   ]
  },
  {
   "cell_type": "code",
   "execution_count": 8,
   "outputs": [],
   "source": [
    "def assign_classes(df, column_name, output_col, labels):\n",
    "    col_sorted = df[column_name].sort_values().reset_index(drop=True)\n",
    "    quantiles = [-float('inf')]\n",
    "\n",
    "    n = 7 \n",
    "    for i in range(1, n):\n",
    "        q = col_sorted.quantile(i / n)\n",
    "        quantiles.append(q)\n",
    "    quantiles.append(float('inf'))\n",
    "\n",
    "    df[output_col] = pd.cut(df[column_name], bins=quantiles, labels=labels, right=False, duplicates='drop')\n",
    "    return df\n",
    "\n",
    "\n",
    "def update_csv(in_filename, out_filename, columns, class_columns, labels): \n",
    "    df = pd.read_csv(in_filename)\n",
    "    for i in range(len(columns)):\n",
    "        name = columns[i]\n",
    "        class_column = class_columns[i]\n",
    "        label = labels[i]\n",
    "        df = assign_classes(df, name, class_column, label)\n",
    "    print(df.head())\n",
    "    df.to_csv(out_filename, index=False)"
   ],
   "metadata": {
    "collapsed": false,
    "ExecuteTime": {
     "end_time": "2023-11-07T18:49:40.147533Z",
     "start_time": "2023-11-07T18:49:40.143651Z"
    }
   },
   "id": "adcd5f3653585850"
  },
  {
   "cell_type": "code",
   "execution_count": 9,
   "outputs": [
    {
     "data": {
      "text/plain": "   latitude  longitude  depth  temperature  oxygen      pH\n0    56.509  -170.8147  122.0        2.199  316.01  7.9743\n1    56.509  -170.8147  122.0        2.098  319.32  7.9977\n2    56.509  -170.8147  122.0        1.637  334.65  8.0398\n3    56.509  -170.8147  122.0        0.763  342.38  8.0659\n4    56.509  -170.8147  122.0       -0.318  359.24  8.0661",
      "text/html": "<div>\n<style scoped>\n    .dataframe tbody tr th:only-of-type {\n        vertical-align: middle;\n    }\n\n    .dataframe tbody tr th {\n        vertical-align: top;\n    }\n\n    .dataframe thead th {\n        text-align: right;\n    }\n</style>\n<table border=\"1\" class=\"dataframe\">\n  <thead>\n    <tr style=\"text-align: right;\">\n      <th></th>\n      <th>latitude</th>\n      <th>longitude</th>\n      <th>depth</th>\n      <th>temperature</th>\n      <th>oxygen</th>\n      <th>pH</th>\n    </tr>\n  </thead>\n  <tbody>\n    <tr>\n      <th>0</th>\n      <td>56.509</td>\n      <td>-170.8147</td>\n      <td>122.0</td>\n      <td>2.199</td>\n      <td>316.01</td>\n      <td>7.9743</td>\n    </tr>\n    <tr>\n      <th>1</th>\n      <td>56.509</td>\n      <td>-170.8147</td>\n      <td>122.0</td>\n      <td>2.098</td>\n      <td>319.32</td>\n      <td>7.9977</td>\n    </tr>\n    <tr>\n      <th>2</th>\n      <td>56.509</td>\n      <td>-170.8147</td>\n      <td>122.0</td>\n      <td>1.637</td>\n      <td>334.65</td>\n      <td>8.0398</td>\n    </tr>\n    <tr>\n      <th>3</th>\n      <td>56.509</td>\n      <td>-170.8147</td>\n      <td>122.0</td>\n      <td>0.763</td>\n      <td>342.38</td>\n      <td>8.0659</td>\n    </tr>\n    <tr>\n      <th>4</th>\n      <td>56.509</td>\n      <td>-170.8147</td>\n      <td>122.0</td>\n      <td>-0.318</td>\n      <td>359.24</td>\n      <td>8.0661</td>\n    </tr>\n  </tbody>\n</table>\n</div>"
     },
     "execution_count": 9,
     "metadata": {},
     "output_type": "execute_result"
    }
   ],
   "source": [
    "kelp = pd.read_csv('kelp.csv') \n",
    "kelp.head()"
   ],
   "metadata": {
    "collapsed": false,
    "ExecuteTime": {
     "end_time": "2023-11-07T18:49:40.719302Z",
     "start_time": "2023-11-07T18:49:40.669565Z"
    }
   },
   "id": "4cac7b515bb60d90"
  },
  {
   "cell_type": "code",
   "execution_count": 60,
   "outputs": [
    {
     "name": "stdout",
     "output_type": "stream",
     "text": [
      "     State Abbreviation   County  Population  Temperature  Precipitation  \\\n",
      "0  Alabama           AL  Autauga       59759         66.1          51.89   \n",
      "1  Alabama           AL  Baldwin      246435         70.1          50.71   \n",
      "2  Alabama           AL  Barbour       24706         66.4          48.95   \n",
      "3  Alabama           AL     Bibb       22005         64.4          53.22   \n",
      "4  Alabama           AL   Blount       59512         62.5          60.68   \n",
      "\n",
      "    Elevation  Electricity-Prices     Wage Population_Class Temperature_Class  \\\n",
      "0  111.111422               14.21  48347.0                2                 1   \n",
      "1   36.783019               14.21  54659.0                1                 1   \n",
      "2  114.048849               14.21  40428.0                4                 1   \n",
      "3  125.742119               14.21  36892.0                4                 3   \n",
      "4  240.213488               14.21  42634.0                2                 3   \n",
      "\n",
      "  Precipitation_Class Elevation_Class Electricity-Prices_Class Wage_Class  \n",
      "0                   2               6                        1          5  \n",
      "1                   2               7                        1          3  \n",
      "2                   2               6                        1          7  \n",
      "3                   1               6                        1          7  \n",
      "4                   1               5                        1          6  \n"
     ]
    }
   ],
   "source": [
    "# cols = ['depth','temperature','oxygen','pH']\n",
    "# class_columns = [col + '_Class' for col in cols]\n",
    "# labels = [[7,6,5,4,3,2,1],[2,5,7,6,4,3,1],[7,6,5,4,3,2,1],[7,6,5,4,3,2,1],[7,6,5,4,3,2,1],[7,6,5,4,3,2,1]]\n",
    "# update_csv('dac.csv','dac_class.csv',cols,class_columns,labels)"
   ],
   "metadata": {
    "collapsed": false,
    "ExecuteTime": {
     "end_time": "2023-11-02T21:40:49.869602Z",
     "start_time": "2023-11-02T21:40:49.827070Z"
    }
   },
   "id": "1f5dbc93790d5504"
  },
  {
   "cell_type": "code",
   "execution_count": 11,
   "outputs": [],
   "source": [
    "def calculate_quantiles(df, column_name, n=7):\n",
    "    col_sorted = df[column_name].sort_values().reset_index(drop=True)\n",
    "    quantiles = [-float('inf')]\n",
    "    \n",
    "    for i in range(1, n):\n",
    "        q = col_sorted.quantile(i / n)\n",
    "        quantiles.append(q)\n",
    "    \n",
    "    quantiles.append(float('inf'))\n",
    "\n",
    "    return quantiles\n"
   ],
   "metadata": {
    "collapsed": false,
    "ExecuteTime": {
     "end_time": "2023-11-07T18:51:01.669607Z",
     "start_time": "2023-11-07T18:51:01.665177Z"
    }
   },
   "id": "b0105de0dfe2ec99"
  },
  {
   "cell_type": "code",
   "execution_count": 12,
   "outputs": [
    {
     "name": "stdout",
     "output_type": "stream",
     "text": [
      "[-inf, 69.2, 122.0, 264.0, 584.2, 1115.0, 2292.0, inf]\n"
     ]
    }
   ],
   "source": [
    "depth_q = calculate_quantiles (kelp,'depth')\n",
    "print(depth_q)"
   ],
   "metadata": {
    "collapsed": false,
    "ExecuteTime": {
     "end_time": "2023-11-07T18:51:03.386640Z",
     "start_time": "2023-11-07T18:51:03.376779Z"
    }
   },
   "id": "92066d0009d75e8d"
  },
  {
   "cell_type": "code",
   "execution_count": 13,
   "outputs": [
    {
     "name": "stdout",
     "output_type": "stream",
     "text": [
      "[-inf, 2.690714285714286, 6.1574285714285715, 8.088, 9.804857142857143, 12.604571428571429, 18.42285714285714, inf]\n"
     ]
    }
   ],
   "source": [
    "temp_q = calculate_quantiles(kelp, 'temperature')\n",
    "print(temp_q)\n"
   ],
   "metadata": {
    "collapsed": false,
    "ExecuteTime": {
     "end_time": "2023-11-07T18:51:24.714032Z",
     "start_time": "2023-11-07T18:51:24.694578Z"
    }
   },
   "id": "f7e2cb0b4626bfd1"
  },
  {
   "cell_type": "code",
   "execution_count": 14,
   "outputs": [
    {
     "name": "stdout",
     "output_type": "stream",
     "text": [
      "[-inf, 101.47714285714287, 147.7, 194.6, 224.0, 260.6057142857143, 297.8, inf]\n"
     ]
    }
   ],
   "source": [
    "oxy_q = calculate_quantiles(kelp, 'oxygen')\n",
    "print(oxy_q)"
   ],
   "metadata": {
    "collapsed": false,
    "ExecuteTime": {
     "end_time": "2023-11-07T18:51:45.477943Z",
     "start_time": "2023-11-07T18:51:45.462761Z"
    }
   },
   "id": "9a5007ce0aa2c9f7"
  },
  {
   "cell_type": "code",
   "execution_count": 15,
   "outputs": [
    {
     "name": "stdout",
     "output_type": "stream",
     "text": [
      "[-inf, 7.6772, 7.858542857142857, 7.9531, 8.0058, 8.0416, 8.0879, inf]\n"
     ]
    }
   ],
   "source": [
    "ph_q = calculate_quantiles(kelp, 'pH')\n",
    "print(ph_q)"
   ],
   "metadata": {
    "collapsed": false,
    "ExecuteTime": {
     "end_time": "2023-11-07T18:52:02.547646Z",
     "start_time": "2023-11-07T18:52:02.527280Z"
    }
   },
   "id": "bd53a256a0b7afb7"
  },
  {
   "cell_type": "code",
   "execution_count": null,
   "outputs": [],
   "source": [],
   "metadata": {
    "collapsed": false
   },
   "id": "a79bc0cb0014a7d1"
  }
 ],
 "metadata": {
  "kernelspec": {
   "display_name": "Python 3",
   "language": "python",
   "name": "python3"
  },
  "language_info": {
   "codemirror_mode": {
    "name": "ipython",
    "version": 2
   },
   "file_extension": ".py",
   "mimetype": "text/x-python",
   "name": "python",
   "nbconvert_exporter": "python",
   "pygments_lexer": "ipython2",
   "version": "2.7.6"
  }
 },
 "nbformat": 4,
 "nbformat_minor": 5
}
