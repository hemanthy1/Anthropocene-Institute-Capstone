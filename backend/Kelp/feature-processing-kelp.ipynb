{
 "cells": [
  {
   "cell_type": "code",
   "execution_count": 1,
   "id": "initial_id",
   "metadata": {
    "collapsed": true,
    "ExecuteTime": {
     "end_time": "2023-11-07T21:17:44.047196Z",
     "start_time": "2023-11-07T21:17:43.773441Z"
    }
   },
   "outputs": [],
   "source": [
    "import pandas as pd\n",
    "import sys\n",
    "sys.path.append('../')\n",
    "from feature_processing_func import assign_classes, update_csv, calculate_quantiles"
   ]
  },
  {
   "cell_type": "code",
   "execution_count": 3,
   "outputs": [
    {
     "data": {
      "text/plain": "   latitude  longitude  Depth  Temperature      pH\n0    56.509  -170.8147  122.0        2.199  7.9743\n1    56.509  -170.8147  122.0        2.098  7.9977\n2    56.509  -170.8147  122.0        1.637  8.0398\n3    56.509  -170.8147  122.0        0.763  8.0659\n4    56.509  -170.8147  122.0       -0.318  8.0661",
      "text/html": "<div>\n<style scoped>\n    .dataframe tbody tr th:only-of-type {\n        vertical-align: middle;\n    }\n\n    .dataframe tbody tr th {\n        vertical-align: top;\n    }\n\n    .dataframe thead th {\n        text-align: right;\n    }\n</style>\n<table border=\"1\" class=\"dataframe\">\n  <thead>\n    <tr style=\"text-align: right;\">\n      <th></th>\n      <th>latitude</th>\n      <th>longitude</th>\n      <th>Depth</th>\n      <th>Temperature</th>\n      <th>pH</th>\n    </tr>\n  </thead>\n  <tbody>\n    <tr>\n      <th>0</th>\n      <td>56.509</td>\n      <td>-170.8147</td>\n      <td>122.0</td>\n      <td>2.199</td>\n      <td>7.9743</td>\n    </tr>\n    <tr>\n      <th>1</th>\n      <td>56.509</td>\n      <td>-170.8147</td>\n      <td>122.0</td>\n      <td>2.098</td>\n      <td>7.9977</td>\n    </tr>\n    <tr>\n      <th>2</th>\n      <td>56.509</td>\n      <td>-170.8147</td>\n      <td>122.0</td>\n      <td>1.637</td>\n      <td>8.0398</td>\n    </tr>\n    <tr>\n      <th>3</th>\n      <td>56.509</td>\n      <td>-170.8147</td>\n      <td>122.0</td>\n      <td>0.763</td>\n      <td>8.0659</td>\n    </tr>\n    <tr>\n      <th>4</th>\n      <td>56.509</td>\n      <td>-170.8147</td>\n      <td>122.0</td>\n      <td>-0.318</td>\n      <td>8.0661</td>\n    </tr>\n  </tbody>\n</table>\n</div>"
     },
     "execution_count": 3,
     "metadata": {},
     "output_type": "execute_result"
    }
   ],
   "source": [
    "kelp = pd.read_csv('kelp.csv') \n",
    "kelp.head()"
   ],
   "metadata": {
    "collapsed": false,
    "ExecuteTime": {
     "end_time": "2023-11-07T21:17:53.904786Z",
     "start_time": "2023-11-07T21:17:53.883339Z"
    }
   },
   "id": "4cac7b515bb60d90"
  },
  {
   "cell_type": "code",
   "execution_count": 4,
   "outputs": [],
   "source": [
    "kelp = kelp.drop('oxygen', axis =1)\n",
    "kelp.head()\n"
   ],
   "metadata": {
    "collapsed": false,
    "ExecuteTime": {
     "end_time": "2023-11-07T21:18:22.126867Z",
     "start_time": "2023-11-07T21:18:22.120048Z"
    }
   },
   "id": "284625cdd78a45db"
  },
  {
   "cell_type": "code",
   "execution_count": 6,
   "outputs": [
    {
     "name": "stdout",
     "output_type": "stream",
     "text": [
      "[-inf, 58.0, 87.0, 155.2, 338.0, 820.8, 1960.8285714285696, inf]\n"
     ]
    }
   ],
   "source": [
    "kelp.to_csv('kelp.csv',index= False)"
   ],
   "metadata": {
    "collapsed": false,
    "ExecuteTime": {
     "end_time": "2023-11-07T21:18:27.764710Z",
     "start_time": "2023-11-07T21:18:27.706484Z"
    }
   },
   "id": "74a2b8f42cf69a27"
  },
  {
   "cell_type": "code",
   "execution_count": 8,
   "outputs": [
    {
     "name": "stdout",
     "output_type": "stream",
     "text": [
      "[-inf, 7.7462, 7.9251, 7.9795, 8.0165, 8.0436, 8.0872, inf]\n"
     ]
    }
   ],
   "source": [
    "depth_q = calculate_quantiles (kelp,'depth')\n",
    "print(depth_q)"
   ],
   "metadata": {
    "collapsed": false,
    "ExecuteTime": {
     "end_time": "2023-11-07T21:18:34.171643Z",
     "start_time": "2023-11-07T21:18:34.157224Z"
    }
   },
   "id": "92066d0009d75e8d"
  },
  {
   "cell_type": "code",
   "execution_count": 10,
   "outputs": [
    {
     "name": "stdout",
     "output_type": "stream",
     "text": [
      "   latitude  longitude  Depth  Temperature      pH Depth_Class  \\\n",
      "0    56.509  -170.8147  122.0        2.199  7.9743           5   \n",
      "1    56.509  -170.8147  122.0        2.098  7.9977           5   \n",
      "2    56.509  -170.8147  122.0        1.637  8.0398           5   \n",
      "3    56.509  -170.8147  122.0        0.763  8.0659           5   \n",
      "4    56.509  -170.8147  122.0       -0.318  8.0661           5   \n",
      "\n",
      "  Temperature_Class pH_Class  \n",
      "0                 3        3  \n",
      "1                 3        4  \n",
      "2                 3        5  \n",
      "3                 2        6  \n",
      "4                 2        6  \n"
     ]
    }
   ],
   "source": [
    "temp_q = calculate_quantiles(kelp, 'temperature')\n",
    "print(temp_q)\n"
   ],
   "metadata": {
    "collapsed": false,
    "ExecuteTime": {
     "end_time": "2023-11-07T21:21:12.935159Z",
     "start_time": "2023-11-07T21:21:12.824555Z"
    }
   },
   "id": "f7e2cb0b4626bfd1"
  },
  {
   "cell_type": "code",
   "execution_count": 38,
   "outputs": [
    {
     "name": "stdout",
     "output_type": "stream",
     "text": [
      "[-inf, 7.6772, 7.858542857142857, 7.9531, 8.0058, 8.0416, 8.0879, inf]\n"
     ]
    }
   ],
   "source": [
    "ph_q = calculate_quantiles(kelp, 'pH')\n",
    "print(ph_q)"
   ],
   "metadata": {
    "collapsed": false,
    "ExecuteTime": {
     "end_time": "2023-11-07T21:04:38.176089Z",
     "start_time": "2023-11-07T21:04:38.160668Z"
    }
   },
   "id": "bd53a256a0b7afb7"
  },
  {
   "cell_type": "code",
   "execution_count": 39,
   "outputs": [
    {
     "name": "stdout",
     "output_type": "stream",
     "text": [
      "   latitude  longitude  depth  temperature      pH depth_Class  \\\n",
      "0    56.509  -170.8147  122.0        2.199  7.9743           5   \n",
      "1    56.509  -170.8147  122.0        2.098  7.9977           5   \n",
      "2    56.509  -170.8147  122.0        1.637  8.0398           5   \n",
      "3    56.509  -170.8147  122.0        0.763  8.0659           5   \n",
      "4    56.509  -170.8147  122.0       -0.318  8.0661           5   \n",
      "\n",
      "  temperature_Class pH_Class  \n",
      "0                 2        4  \n",
      "1                 2        4  \n",
      "2                 2        5  \n",
      "3                 2        6  \n",
      "4                 2        6  \n"
     ]
    }
   ],
   "source": [
    "cols = ['depth','temperature','pH']\n",
    "class_columns = [col + '_Class' for col in cols]\n",
    "labels = [[7,6,5,4,3,2,1],[2,3,4,5,7,6,1],[1,2,3,4,5,6,7]]\n",
    "update_csv('kelp.csv','kelp_class.csv',cols,class_columns,labels)"
   ],
   "metadata": {
    "collapsed": false,
    "ExecuteTime": {
     "end_time": "2023-11-07T21:04:45.252003Z",
     "start_time": "2023-11-07T21:04:45.174379Z"
    }
   },
   "id": "3e4f0c164fd10bf"
  },
  {
   "cell_type": "code",
   "execution_count": null,
   "outputs": [],
   "source": [],
   "metadata": {
    "collapsed": false
   },
   "id": "aba6138a09f59f34"
  }
 ],
 "metadata": {
  "kernelspec": {
   "display_name": "Python 3",
   "language": "python",
   "name": "python3"
  },
  "language_info": {
   "codemirror_mode": {
    "name": "ipython",
    "version": 2
   },
   "file_extension": ".py",
   "mimetype": "text/x-python",
   "name": "python",
   "nbconvert_exporter": "python",
   "pygments_lexer": "ipython2",
   "version": "2.7.6"
  }
 },
 "nbformat": 4,
 "nbformat_minor": 5
}
